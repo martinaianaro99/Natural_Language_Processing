{
  "cells": [
    {
      "cell_type": "markdown",
      "source": [
        "NLP Course Project - Identification of Human Values behind Arguments\n",
        "\n",
        "Authors:\n",
        "\n",
        "*   Fabian Vincenzi fabian.vincenzi@studio.unibo.it\n",
        "*   Davide Perozzi davide.perozzi@studio.unibo.it\n",
        "*   Martina Ianaro martina.ianaro@studio.unibo.it\n",
        "\n",
        "\n",
        "https://github.com/martinaianaro99/Natural_Language_Processing/blob/main/Course_Project/Project_NLP.ipynb\n"
      ],
      "metadata": {
        "id": "O2-lzgBNUc9o"
      },
      "id": "O2-lzgBNUc9o"
    },
    {
      "cell_type": "markdown",
      "metadata": {
        "id": "de23930d"
      },
      "source": [
        "## Download data"
      ],
      "id": "de23930d"
    },
    {
      "cell_type": "code",
      "source": [
        "# download data\n",
        "!wget https://zenodo.org/record/7503506/files/arguments-training.tsv\n",
        "!wget https://zenodo.org/record/7503506/files/labels-training.tsv\n",
        "!wget https://zenodo.org/record/7503506/files/arguments-validation.tsv\n",
        "!wget https://zenodo.org/record/7503506/files/labels-validation.tsv\n",
        "!wget https://zenodo.org/record/7503506/files/arguments-test.tsv"
      ],
      "metadata": {
        "colab": {
          "base_uri": "https://localhost:8080/"
        },
        "id": "U2j2Rk4kfrDY",
        "outputId": "6a91a514-0afb-4e91-e20a-5b16cfc19aab"
      },
      "id": "U2j2Rk4kfrDY",
      "execution_count": null,
      "outputs": [
        {
          "output_type": "stream",
          "name": "stdout",
          "text": [
            "--2023-02-08 12:43:44--  https://zenodo.org/record/7503506/files/arguments-training.tsv\n",
            "Resolving zenodo.org (zenodo.org)... 188.185.124.72\n",
            "Connecting to zenodo.org (zenodo.org)|188.185.124.72|:443... connected.\n",
            "HTTP request sent, awaiting response... 200 OK\n",
            "Length: 1012498 (989K) [application/octet-stream]\n",
            "Saving to: ‘arguments-training.tsv’\n",
            "\n",
            "arguments-training. 100%[===================>] 988.77K   364KB/s    in 2.7s    \n",
            "\n",
            "2023-02-08 12:43:50 (364 KB/s) - ‘arguments-training.tsv’ saved [1012498/1012498]\n",
            "\n",
            "--2023-02-08 12:43:50--  https://zenodo.org/record/7503506/files/labels-training.tsv\n",
            "Resolving zenodo.org (zenodo.org)... 188.185.124.72\n",
            "Connecting to zenodo.org (zenodo.org)|188.185.124.72|:443... connected.\n",
            "HTTP request sent, awaiting response... 200 OK\n",
            "Length: 253843 (248K) [application/octet-stream]\n",
            "Saving to: ‘labels-training.tsv’\n",
            "\n",
            "labels-training.tsv 100%[===================>] 247.89K   386KB/s    in 0.6s    \n",
            "\n",
            "2023-02-08 12:43:52 (386 KB/s) - ‘labels-training.tsv’ saved [253843/253843]\n",
            "\n",
            "--2023-02-08 12:43:52--  https://zenodo.org/record/7503506/files/arguments-validation.tsv\n",
            "Resolving zenodo.org (zenodo.org)... 188.185.124.72\n",
            "Connecting to zenodo.org (zenodo.org)|188.185.124.72|:443... connected.\n",
            "HTTP request sent, awaiting response... 200 OK\n",
            "Length: 362608 (354K) [application/octet-stream]\n",
            "Saving to: ‘arguments-validation.tsv’\n",
            "\n",
            "arguments-validatio 100%[===================>] 354.11K   354KB/s    in 1.0s    \n",
            "\n",
            "2023-02-08 12:43:55 (354 KB/s) - ‘arguments-validation.tsv’ saved [362608/362608]\n",
            "\n",
            "--2023-02-08 12:43:55--  https://zenodo.org/record/7503506/files/labels-validation.tsv\n",
            "Resolving zenodo.org (zenodo.org)... 188.185.124.72\n",
            "Connecting to zenodo.org (zenodo.org)|188.185.124.72|:443... connected.\n",
            "HTTP request sent, awaiting response... 200 OK\n",
            "Length: 89484 (87K) [application/octet-stream]\n",
            "Saving to: ‘labels-validation.tsv’\n",
            "\n",
            "labels-validation.t 100%[===================>]  87.39K   545KB/s    in 0.2s    \n",
            "\n",
            "2023-02-08 12:43:57 (545 KB/s) - ‘labels-validation.tsv’ saved [89484/89484]\n",
            "\n",
            "--2023-02-08 12:43:57--  https://zenodo.org/record/7503506/files/arguments-test.tsv\n",
            "Resolving zenodo.org (zenodo.org)... 188.185.124.72\n",
            "Connecting to zenodo.org (zenodo.org)|188.185.124.72|:443... connected.\n",
            "HTTP request sent, awaiting response... 200 OK\n",
            "Length: 290185 (283K) [application/octet-stream]\n",
            "Saving to: ‘arguments-test.tsv’\n",
            "\n",
            "arguments-test.tsv  100%[===================>] 283.38K   343KB/s    in 0.8s    \n",
            "\n",
            "2023-02-08 12:44:00 (343 KB/s) - ‘arguments-test.tsv’ saved [290185/290185]\n",
            "\n"
          ]
        }
      ]
    },
    {
      "cell_type": "code",
      "execution_count": null,
      "id": "61834802",
      "metadata": {
        "id": "61834802"
      },
      "outputs": [],
      "source": [
        "import pandas as pd\n",
        "import matplotlib.pyplot as plt\n",
        "import seaborn as sns\n",
        "import numpy as np"
      ]
    },
    {
      "cell_type": "code",
      "execution_count": null,
      "id": "0bd2dbb2",
      "metadata": {
        "id": "0bd2dbb2"
      },
      "outputs": [],
      "source": [
        "# Import the .tsv file\n",
        "# train\n",
        "X_train = pd.read_csv('arguments-training.tsv', delimiter='\\t')\n",
        "y_train = pd.read_csv('labels-training.tsv', delimiter='\\t')\n",
        "\n",
        "# val\n",
        "X_val = pd.read_csv('arguments-validation.tsv', delimiter='\\t')\n",
        "y_val = pd.read_csv('labels-validation.tsv', delimiter='\\t')\n",
        "\n",
        "# test\n",
        "X_test = pd.read_csv('arguments-test.tsv', delimiter='\\t')\n",
        "# test labels not available"
      ]
    },
    {
      "cell_type": "code",
      "source": [
        "#arguments dataframe size\n",
        "print(\"arguments train dataset size: {}\".format(X_train.size))\n",
        "print(\"arguments validation dataset size: {}\".format(X_val.size))\n",
        "print(\"arguments test dataset size: {}\".format(X_test.size))\n",
        "print(\"------------------------\")\n",
        "\n",
        "#labels dataframe size\n",
        "print(\"label train dataset size: {}\".format(y_train.size))\n",
        "print(\"label validation dataset size: {}\".format(y_val.size))"
      ],
      "metadata": {
        "colab": {
          "base_uri": "https://localhost:8080/"
        },
        "id": "s9pDBxN_n0au",
        "outputId": "4865d341-f84f-41d9-bf9b-fb410691628d"
      },
      "execution_count": null,
      "outputs": [
        {
          "output_type": "stream",
          "name": "stdout",
          "text": [
            "arguments train dataset size: 21572\n",
            "arguments validation dataset size: 7584\n",
            "arguments test dataset size: 6304\n",
            "------------------------\n",
            "label train dataset size: 113253\n",
            "label validation dataset size: 39816\n"
          ]
        }
      ],
      "id": "s9pDBxN_n0au"
    },
    {
      "cell_type": "code",
      "execution_count": null,
      "id": "2c78ecc6",
      "metadata": {
        "colab": {
          "base_uri": "https://localhost:8080/",
          "height": 250
        },
        "id": "2c78ecc6",
        "outputId": "f34018aa-08e0-4fb3-864c-4b5f60d261ae"
      },
      "outputs": [
        {
          "output_type": "execute_result",
          "data": {
            "text/plain": [
              "  Argument ID                                   Conclusion       Stance  \\\n",
              "0      A01002                  We should ban human cloning  in favor of   \n",
              "1      A01005                      We should ban fast food  in favor of   \n",
              "2      A01006  We should end the use of economic sanctions      against   \n",
              "3      A01007         We should abolish capital punishment      against   \n",
              "4      A01008                We should ban factory farming      against   \n",
              "\n",
              "                                             Premise  \n",
              "0  we should ban human cloning as it will only ca...  \n",
              "1  fast food should be banned because it is reall...  \n",
              "2  sometimes economic sanctions are the only thin...  \n",
              "3  capital punishment is sometimes the only optio...  \n",
              "4  factory farming allows for the production of c...  "
            ],
            "text/html": [
              "\n",
              "  <div id=\"df-f645bb12-c396-41a5-845e-86ac90e4e04a\">\n",
              "    <div class=\"colab-df-container\">\n",
              "      <div>\n",
              "<style scoped>\n",
              "    .dataframe tbody tr th:only-of-type {\n",
              "        vertical-align: middle;\n",
              "    }\n",
              "\n",
              "    .dataframe tbody tr th {\n",
              "        vertical-align: top;\n",
              "    }\n",
              "\n",
              "    .dataframe thead th {\n",
              "        text-align: right;\n",
              "    }\n",
              "</style>\n",
              "<table border=\"1\" class=\"dataframe\">\n",
              "  <thead>\n",
              "    <tr style=\"text-align: right;\">\n",
              "      <th></th>\n",
              "      <th>Argument ID</th>\n",
              "      <th>Conclusion</th>\n",
              "      <th>Stance</th>\n",
              "      <th>Premise</th>\n",
              "    </tr>\n",
              "  </thead>\n",
              "  <tbody>\n",
              "    <tr>\n",
              "      <th>0</th>\n",
              "      <td>A01002</td>\n",
              "      <td>We should ban human cloning</td>\n",
              "      <td>in favor of</td>\n",
              "      <td>we should ban human cloning as it will only ca...</td>\n",
              "    </tr>\n",
              "    <tr>\n",
              "      <th>1</th>\n",
              "      <td>A01005</td>\n",
              "      <td>We should ban fast food</td>\n",
              "      <td>in favor of</td>\n",
              "      <td>fast food should be banned because it is reall...</td>\n",
              "    </tr>\n",
              "    <tr>\n",
              "      <th>2</th>\n",
              "      <td>A01006</td>\n",
              "      <td>We should end the use of economic sanctions</td>\n",
              "      <td>against</td>\n",
              "      <td>sometimes economic sanctions are the only thin...</td>\n",
              "    </tr>\n",
              "    <tr>\n",
              "      <th>3</th>\n",
              "      <td>A01007</td>\n",
              "      <td>We should abolish capital punishment</td>\n",
              "      <td>against</td>\n",
              "      <td>capital punishment is sometimes the only optio...</td>\n",
              "    </tr>\n",
              "    <tr>\n",
              "      <th>4</th>\n",
              "      <td>A01008</td>\n",
              "      <td>We should ban factory farming</td>\n",
              "      <td>against</td>\n",
              "      <td>factory farming allows for the production of c...</td>\n",
              "    </tr>\n",
              "  </tbody>\n",
              "</table>\n",
              "</div>\n",
              "      <button class=\"colab-df-convert\" onclick=\"convertToInteractive('df-f645bb12-c396-41a5-845e-86ac90e4e04a')\"\n",
              "              title=\"Convert this dataframe to an interactive table.\"\n",
              "              style=\"display:none;\">\n",
              "        \n",
              "  <svg xmlns=\"http://www.w3.org/2000/svg\" height=\"24px\"viewBox=\"0 0 24 24\"\n",
              "       width=\"24px\">\n",
              "    <path d=\"M0 0h24v24H0V0z\" fill=\"none\"/>\n",
              "    <path d=\"M18.56 5.44l.94 2.06.94-2.06 2.06-.94-2.06-.94-.94-2.06-.94 2.06-2.06.94zm-11 1L8.5 8.5l.94-2.06 2.06-.94-2.06-.94L8.5 2.5l-.94 2.06-2.06.94zm10 10l.94 2.06.94-2.06 2.06-.94-2.06-.94-.94-2.06-.94 2.06-2.06.94z\"/><path d=\"M17.41 7.96l-1.37-1.37c-.4-.4-.92-.59-1.43-.59-.52 0-1.04.2-1.43.59L10.3 9.45l-7.72 7.72c-.78.78-.78 2.05 0 2.83L4 21.41c.39.39.9.59 1.41.59.51 0 1.02-.2 1.41-.59l7.78-7.78 2.81-2.81c.8-.78.8-2.07 0-2.86zM5.41 20L4 18.59l7.72-7.72 1.47 1.35L5.41 20z\"/>\n",
              "  </svg>\n",
              "      </button>\n",
              "      \n",
              "  <style>\n",
              "    .colab-df-container {\n",
              "      display:flex;\n",
              "      flex-wrap:wrap;\n",
              "      gap: 12px;\n",
              "    }\n",
              "\n",
              "    .colab-df-convert {\n",
              "      background-color: #E8F0FE;\n",
              "      border: none;\n",
              "      border-radius: 50%;\n",
              "      cursor: pointer;\n",
              "      display: none;\n",
              "      fill: #1967D2;\n",
              "      height: 32px;\n",
              "      padding: 0 0 0 0;\n",
              "      width: 32px;\n",
              "    }\n",
              "\n",
              "    .colab-df-convert:hover {\n",
              "      background-color: #E2EBFA;\n",
              "      box-shadow: 0px 1px 2px rgba(60, 64, 67, 0.3), 0px 1px 3px 1px rgba(60, 64, 67, 0.15);\n",
              "      fill: #174EA6;\n",
              "    }\n",
              "\n",
              "    [theme=dark] .colab-df-convert {\n",
              "      background-color: #3B4455;\n",
              "      fill: #D2E3FC;\n",
              "    }\n",
              "\n",
              "    [theme=dark] .colab-df-convert:hover {\n",
              "      background-color: #434B5C;\n",
              "      box-shadow: 0px 1px 3px 1px rgba(0, 0, 0, 0.15);\n",
              "      filter: drop-shadow(0px 1px 2px rgba(0, 0, 0, 0.3));\n",
              "      fill: #FFFFFF;\n",
              "    }\n",
              "  </style>\n",
              "\n",
              "      <script>\n",
              "        const buttonEl =\n",
              "          document.querySelector('#df-f645bb12-c396-41a5-845e-86ac90e4e04a button.colab-df-convert');\n",
              "        buttonEl.style.display =\n",
              "          google.colab.kernel.accessAllowed ? 'block' : 'none';\n",
              "\n",
              "        async function convertToInteractive(key) {\n",
              "          const element = document.querySelector('#df-f645bb12-c396-41a5-845e-86ac90e4e04a');\n",
              "          const dataTable =\n",
              "            await google.colab.kernel.invokeFunction('convertToInteractive',\n",
              "                                                     [key], {});\n",
              "          if (!dataTable) return;\n",
              "\n",
              "          const docLinkHtml = 'Like what you see? Visit the ' +\n",
              "            '<a target=\"_blank\" href=https://colab.research.google.com/notebooks/data_table.ipynb>data table notebook</a>'\n",
              "            + ' to learn more about interactive tables.';\n",
              "          element.innerHTML = '';\n",
              "          dataTable['output_type'] = 'display_data';\n",
              "          await google.colab.output.renderOutput(dataTable, element);\n",
              "          const docLink = document.createElement('div');\n",
              "          docLink.innerHTML = docLinkHtml;\n",
              "          element.appendChild(docLink);\n",
              "        }\n",
              "      </script>\n",
              "    </div>\n",
              "  </div>\n",
              "  "
            ]
          },
          "metadata": {},
          "execution_count": 5
        }
      ],
      "source": [
        "X_train.head()"
      ]
    },
    {
      "cell_type": "code",
      "execution_count": null,
      "id": "ff72b79b",
      "metadata": {
        "colab": {
          "base_uri": "https://localhost:8080/",
          "height": 334
        },
        "id": "ff72b79b",
        "outputId": "7e750fba-ff5a-427f-bda9-3c6c14ed03ec"
      },
      "outputs": [
        {
          "output_type": "execute_result",
          "data": {
            "text/plain": [
              "  Argument ID  Self-direction: thought  Self-direction: action  Stimulation  \\\n",
              "0      A01002                        0                       0            0   \n",
              "1      A01005                        0                       0            0   \n",
              "2      A01006                        0                       0            0   \n",
              "3      A01007                        0                       0            0   \n",
              "4      A01008                        0                       0            0   \n",
              "\n",
              "   Hedonism  Achievement  Power: dominance  Power: resources  Face  \\\n",
              "0         0            0                 0                 0     0   \n",
              "1         0            0                 0                 0     0   \n",
              "2         0            0                 1                 0     0   \n",
              "3         0            0                 0                 0     0   \n",
              "4         0            0                 0                 0     0   \n",
              "\n",
              "   Security: personal  ...  Tradition  Conformity: rules  \\\n",
              "0                   0  ...          0                  0   \n",
              "1                   1  ...          0                  0   \n",
              "2                   0  ...          0                  0   \n",
              "3                   0  ...          0                  1   \n",
              "4                   1  ...          0                  0   \n",
              "\n",
              "   Conformity: interpersonal  Humility  Benevolence: caring  \\\n",
              "0                          0         0                    0   \n",
              "1                          0         0                    0   \n",
              "2                          0         0                    0   \n",
              "3                          0         0                    0   \n",
              "4                          0         0                    1   \n",
              "\n",
              "   Benevolence: dependability  Universalism: concern  Universalism: nature  \\\n",
              "0                           0                      0                     0   \n",
              "1                           0                      0                     0   \n",
              "2                           0                      0                     0   \n",
              "3                           0                      1                     0   \n",
              "4                           0                      1                     0   \n",
              "\n",
              "   Universalism: tolerance  Universalism: objectivity  \n",
              "0                        0                          0  \n",
              "1                        0                          0  \n",
              "2                        0                          0  \n",
              "3                        0                          0  \n",
              "4                        0                          0  \n",
              "\n",
              "[5 rows x 21 columns]"
            ],
            "text/html": [
              "\n",
              "  <div id=\"df-40090e75-6fdb-4cbc-b78f-f31f0ce49e28\">\n",
              "    <div class=\"colab-df-container\">\n",
              "      <div>\n",
              "<style scoped>\n",
              "    .dataframe tbody tr th:only-of-type {\n",
              "        vertical-align: middle;\n",
              "    }\n",
              "\n",
              "    .dataframe tbody tr th {\n",
              "        vertical-align: top;\n",
              "    }\n",
              "\n",
              "    .dataframe thead th {\n",
              "        text-align: right;\n",
              "    }\n",
              "</style>\n",
              "<table border=\"1\" class=\"dataframe\">\n",
              "  <thead>\n",
              "    <tr style=\"text-align: right;\">\n",
              "      <th></th>\n",
              "      <th>Argument ID</th>\n",
              "      <th>Self-direction: thought</th>\n",
              "      <th>Self-direction: action</th>\n",
              "      <th>Stimulation</th>\n",
              "      <th>Hedonism</th>\n",
              "      <th>Achievement</th>\n",
              "      <th>Power: dominance</th>\n",
              "      <th>Power: resources</th>\n",
              "      <th>Face</th>\n",
              "      <th>Security: personal</th>\n",
              "      <th>...</th>\n",
              "      <th>Tradition</th>\n",
              "      <th>Conformity: rules</th>\n",
              "      <th>Conformity: interpersonal</th>\n",
              "      <th>Humility</th>\n",
              "      <th>Benevolence: caring</th>\n",
              "      <th>Benevolence: dependability</th>\n",
              "      <th>Universalism: concern</th>\n",
              "      <th>Universalism: nature</th>\n",
              "      <th>Universalism: tolerance</th>\n",
              "      <th>Universalism: objectivity</th>\n",
              "    </tr>\n",
              "  </thead>\n",
              "  <tbody>\n",
              "    <tr>\n",
              "      <th>0</th>\n",
              "      <td>A01002</td>\n",
              "      <td>0</td>\n",
              "      <td>0</td>\n",
              "      <td>0</td>\n",
              "      <td>0</td>\n",
              "      <td>0</td>\n",
              "      <td>0</td>\n",
              "      <td>0</td>\n",
              "      <td>0</td>\n",
              "      <td>0</td>\n",
              "      <td>...</td>\n",
              "      <td>0</td>\n",
              "      <td>0</td>\n",
              "      <td>0</td>\n",
              "      <td>0</td>\n",
              "      <td>0</td>\n",
              "      <td>0</td>\n",
              "      <td>0</td>\n",
              "      <td>0</td>\n",
              "      <td>0</td>\n",
              "      <td>0</td>\n",
              "    </tr>\n",
              "    <tr>\n",
              "      <th>1</th>\n",
              "      <td>A01005</td>\n",
              "      <td>0</td>\n",
              "      <td>0</td>\n",
              "      <td>0</td>\n",
              "      <td>0</td>\n",
              "      <td>0</td>\n",
              "      <td>0</td>\n",
              "      <td>0</td>\n",
              "      <td>0</td>\n",
              "      <td>1</td>\n",
              "      <td>...</td>\n",
              "      <td>0</td>\n",
              "      <td>0</td>\n",
              "      <td>0</td>\n",
              "      <td>0</td>\n",
              "      <td>0</td>\n",
              "      <td>0</td>\n",
              "      <td>0</td>\n",
              "      <td>0</td>\n",
              "      <td>0</td>\n",
              "      <td>0</td>\n",
              "    </tr>\n",
              "    <tr>\n",
              "      <th>2</th>\n",
              "      <td>A01006</td>\n",
              "      <td>0</td>\n",
              "      <td>0</td>\n",
              "      <td>0</td>\n",
              "      <td>0</td>\n",
              "      <td>0</td>\n",
              "      <td>1</td>\n",
              "      <td>0</td>\n",
              "      <td>0</td>\n",
              "      <td>0</td>\n",
              "      <td>...</td>\n",
              "      <td>0</td>\n",
              "      <td>0</td>\n",
              "      <td>0</td>\n",
              "      <td>0</td>\n",
              "      <td>0</td>\n",
              "      <td>0</td>\n",
              "      <td>0</td>\n",
              "      <td>0</td>\n",
              "      <td>0</td>\n",
              "      <td>0</td>\n",
              "    </tr>\n",
              "    <tr>\n",
              "      <th>3</th>\n",
              "      <td>A01007</td>\n",
              "      <td>0</td>\n",
              "      <td>0</td>\n",
              "      <td>0</td>\n",
              "      <td>0</td>\n",
              "      <td>0</td>\n",
              "      <td>0</td>\n",
              "      <td>0</td>\n",
              "      <td>0</td>\n",
              "      <td>0</td>\n",
              "      <td>...</td>\n",
              "      <td>0</td>\n",
              "      <td>1</td>\n",
              "      <td>0</td>\n",
              "      <td>0</td>\n",
              "      <td>0</td>\n",
              "      <td>0</td>\n",
              "      <td>1</td>\n",
              "      <td>0</td>\n",
              "      <td>0</td>\n",
              "      <td>0</td>\n",
              "    </tr>\n",
              "    <tr>\n",
              "      <th>4</th>\n",
              "      <td>A01008</td>\n",
              "      <td>0</td>\n",
              "      <td>0</td>\n",
              "      <td>0</td>\n",
              "      <td>0</td>\n",
              "      <td>0</td>\n",
              "      <td>0</td>\n",
              "      <td>0</td>\n",
              "      <td>0</td>\n",
              "      <td>1</td>\n",
              "      <td>...</td>\n",
              "      <td>0</td>\n",
              "      <td>0</td>\n",
              "      <td>0</td>\n",
              "      <td>0</td>\n",
              "      <td>1</td>\n",
              "      <td>0</td>\n",
              "      <td>1</td>\n",
              "      <td>0</td>\n",
              "      <td>0</td>\n",
              "      <td>0</td>\n",
              "    </tr>\n",
              "  </tbody>\n",
              "</table>\n",
              "<p>5 rows × 21 columns</p>\n",
              "</div>\n",
              "      <button class=\"colab-df-convert\" onclick=\"convertToInteractive('df-40090e75-6fdb-4cbc-b78f-f31f0ce49e28')\"\n",
              "              title=\"Convert this dataframe to an interactive table.\"\n",
              "              style=\"display:none;\">\n",
              "        \n",
              "  <svg xmlns=\"http://www.w3.org/2000/svg\" height=\"24px\"viewBox=\"0 0 24 24\"\n",
              "       width=\"24px\">\n",
              "    <path d=\"M0 0h24v24H0V0z\" fill=\"none\"/>\n",
              "    <path d=\"M18.56 5.44l.94 2.06.94-2.06 2.06-.94-2.06-.94-.94-2.06-.94 2.06-2.06.94zm-11 1L8.5 8.5l.94-2.06 2.06-.94-2.06-.94L8.5 2.5l-.94 2.06-2.06.94zm10 10l.94 2.06.94-2.06 2.06-.94-2.06-.94-.94-2.06-.94 2.06-2.06.94z\"/><path d=\"M17.41 7.96l-1.37-1.37c-.4-.4-.92-.59-1.43-.59-.52 0-1.04.2-1.43.59L10.3 9.45l-7.72 7.72c-.78.78-.78 2.05 0 2.83L4 21.41c.39.39.9.59 1.41.59.51 0 1.02-.2 1.41-.59l7.78-7.78 2.81-2.81c.8-.78.8-2.07 0-2.86zM5.41 20L4 18.59l7.72-7.72 1.47 1.35L5.41 20z\"/>\n",
              "  </svg>\n",
              "      </button>\n",
              "      \n",
              "  <style>\n",
              "    .colab-df-container {\n",
              "      display:flex;\n",
              "      flex-wrap:wrap;\n",
              "      gap: 12px;\n",
              "    }\n",
              "\n",
              "    .colab-df-convert {\n",
              "      background-color: #E8F0FE;\n",
              "      border: none;\n",
              "      border-radius: 50%;\n",
              "      cursor: pointer;\n",
              "      display: none;\n",
              "      fill: #1967D2;\n",
              "      height: 32px;\n",
              "      padding: 0 0 0 0;\n",
              "      width: 32px;\n",
              "    }\n",
              "\n",
              "    .colab-df-convert:hover {\n",
              "      background-color: #E2EBFA;\n",
              "      box-shadow: 0px 1px 2px rgba(60, 64, 67, 0.3), 0px 1px 3px 1px rgba(60, 64, 67, 0.15);\n",
              "      fill: #174EA6;\n",
              "    }\n",
              "\n",
              "    [theme=dark] .colab-df-convert {\n",
              "      background-color: #3B4455;\n",
              "      fill: #D2E3FC;\n",
              "    }\n",
              "\n",
              "    [theme=dark] .colab-df-convert:hover {\n",
              "      background-color: #434B5C;\n",
              "      box-shadow: 0px 1px 3px 1px rgba(0, 0, 0, 0.15);\n",
              "      filter: drop-shadow(0px 1px 2px rgba(0, 0, 0, 0.3));\n",
              "      fill: #FFFFFF;\n",
              "    }\n",
              "  </style>\n",
              "\n",
              "      <script>\n",
              "        const buttonEl =\n",
              "          document.querySelector('#df-40090e75-6fdb-4cbc-b78f-f31f0ce49e28 button.colab-df-convert');\n",
              "        buttonEl.style.display =\n",
              "          google.colab.kernel.accessAllowed ? 'block' : 'none';\n",
              "\n",
              "        async function convertToInteractive(key) {\n",
              "          const element = document.querySelector('#df-40090e75-6fdb-4cbc-b78f-f31f0ce49e28');\n",
              "          const dataTable =\n",
              "            await google.colab.kernel.invokeFunction('convertToInteractive',\n",
              "                                                     [key], {});\n",
              "          if (!dataTable) return;\n",
              "\n",
              "          const docLinkHtml = 'Like what you see? Visit the ' +\n",
              "            '<a target=\"_blank\" href=https://colab.research.google.com/notebooks/data_table.ipynb>data table notebook</a>'\n",
              "            + ' to learn more about interactive tables.';\n",
              "          element.innerHTML = '';\n",
              "          dataTable['output_type'] = 'display_data';\n",
              "          await google.colab.output.renderOutput(dataTable, element);\n",
              "          const docLink = document.createElement('div');\n",
              "          docLink.innerHTML = docLinkHtml;\n",
              "          element.appendChild(docLink);\n",
              "        }\n",
              "      </script>\n",
              "    </div>\n",
              "  </div>\n",
              "  "
            ]
          },
          "metadata": {},
          "execution_count": 6
        }
      ],
      "source": [
        "y_train.head()"
      ]
    },
    {
      "cell_type": "markdown",
      "metadata": {
        "id": "206ba8e6"
      },
      "source": [
        "## Pre-processing"
      ],
      "id": "206ba8e6"
    },
    {
      "cell_type": "code",
      "source": [
        "# X_train\n",
        "X_train.drop(columns=[\"Argument ID\"], inplace=True)\n",
        "X_train.columns = X_train.columns.str.lower()\n",
        "X_train = X_train.applymap(str.lower)\n",
        "\n",
        "# X_val\n",
        "X_val.drop(columns=[\"Argument ID\"], inplace=True)\n",
        "X_val.columns = X_val.columns.str.lower()\n",
        "X_val = X_val.applymap(str.lower)\n",
        "\n",
        "# X_test \n",
        "X_test.drop(columns=[\"Argument ID\"], inplace=True)\n",
        "X_test.columns = X_test.columns.str.lower()\n",
        "X_test = X_test.applymap(str.lower)\n",
        "\n",
        "# y_train\n",
        "y_train.drop(columns=[\"Argument ID\"], inplace=True)\n",
        "y_train.columns = y_train.columns.str.lower()\n",
        "\n",
        "# y_val\n",
        "y_val.drop(columns=[\"Argument ID\"], inplace=True)\n",
        "y_val.columns = y_val.columns.str.lower()"
      ],
      "metadata": {
        "id": "fRdMJXGkKwO3"
      },
      "id": "fRdMJXGkKwO3",
      "execution_count": null,
      "outputs": []
    },
    {
      "cell_type": "code",
      "execution_count": null,
      "id": "191a0a19",
      "metadata": {
        "id": "191a0a19"
      },
      "outputs": [],
      "source": [
        "X_train['text'] = X_train[\"premise\"] + ' ' + X_train[\"stance\"] + ' ' + X_train[\"conclusion\"]\n",
        "X_val['text'] = X_val[\"premise\"] + ' ' + X_val[\"stance\"] + ' ' + X_val[\"conclusion\"]\n",
        "X_test['text'] = X_test[\"premise\"] + ' ' + X_test[\"stance\"] + ' ' + X_test[\"conclusion\"]"
      ]
    },
    {
      "cell_type": "code",
      "source": [
        "X_train.head()"
      ],
      "metadata": {
        "id": "kH-3IFAfK2Yl",
        "colab": {
          "base_uri": "https://localhost:8080/",
          "height": 337
        },
        "outputId": "e90e0353-e463-40ed-8415-6564b0cf580b"
      },
      "id": "kH-3IFAfK2Yl",
      "execution_count": null,
      "outputs": [
        {
          "output_type": "execute_result",
          "data": {
            "text/plain": [
              "                                    conclusion       stance  \\\n",
              "0                  we should ban human cloning  in favor of   \n",
              "1                      we should ban fast food  in favor of   \n",
              "2  we should end the use of economic sanctions      against   \n",
              "3         we should abolish capital punishment      against   \n",
              "4                we should ban factory farming      against   \n",
              "\n",
              "                                             premise  \\\n",
              "0  we should ban human cloning as it will only ca...   \n",
              "1  fast food should be banned because it is reall...   \n",
              "2  sometimes economic sanctions are the only thin...   \n",
              "3  capital punishment is sometimes the only optio...   \n",
              "4  factory farming allows for the production of c...   \n",
              "\n",
              "                                                text  \n",
              "0  we should ban human cloning as it will only ca...  \n",
              "1  fast food should be banned because it is reall...  \n",
              "2  sometimes economic sanctions are the only thin...  \n",
              "3  capital punishment is sometimes the only optio...  \n",
              "4  factory farming allows for the production of c...  "
            ],
            "text/html": [
              "\n",
              "  <div id=\"df-be6ebe3b-ca09-4e20-ae42-91865ea64ff8\">\n",
              "    <div class=\"colab-df-container\">\n",
              "      <div>\n",
              "<style scoped>\n",
              "    .dataframe tbody tr th:only-of-type {\n",
              "        vertical-align: middle;\n",
              "    }\n",
              "\n",
              "    .dataframe tbody tr th {\n",
              "        vertical-align: top;\n",
              "    }\n",
              "\n",
              "    .dataframe thead th {\n",
              "        text-align: right;\n",
              "    }\n",
              "</style>\n",
              "<table border=\"1\" class=\"dataframe\">\n",
              "  <thead>\n",
              "    <tr style=\"text-align: right;\">\n",
              "      <th></th>\n",
              "      <th>conclusion</th>\n",
              "      <th>stance</th>\n",
              "      <th>premise</th>\n",
              "      <th>text</th>\n",
              "    </tr>\n",
              "  </thead>\n",
              "  <tbody>\n",
              "    <tr>\n",
              "      <th>0</th>\n",
              "      <td>we should ban human cloning</td>\n",
              "      <td>in favor of</td>\n",
              "      <td>we should ban human cloning as it will only ca...</td>\n",
              "      <td>we should ban human cloning as it will only ca...</td>\n",
              "    </tr>\n",
              "    <tr>\n",
              "      <th>1</th>\n",
              "      <td>we should ban fast food</td>\n",
              "      <td>in favor of</td>\n",
              "      <td>fast food should be banned because it is reall...</td>\n",
              "      <td>fast food should be banned because it is reall...</td>\n",
              "    </tr>\n",
              "    <tr>\n",
              "      <th>2</th>\n",
              "      <td>we should end the use of economic sanctions</td>\n",
              "      <td>against</td>\n",
              "      <td>sometimes economic sanctions are the only thin...</td>\n",
              "      <td>sometimes economic sanctions are the only thin...</td>\n",
              "    </tr>\n",
              "    <tr>\n",
              "      <th>3</th>\n",
              "      <td>we should abolish capital punishment</td>\n",
              "      <td>against</td>\n",
              "      <td>capital punishment is sometimes the only optio...</td>\n",
              "      <td>capital punishment is sometimes the only optio...</td>\n",
              "    </tr>\n",
              "    <tr>\n",
              "      <th>4</th>\n",
              "      <td>we should ban factory farming</td>\n",
              "      <td>against</td>\n",
              "      <td>factory farming allows for the production of c...</td>\n",
              "      <td>factory farming allows for the production of c...</td>\n",
              "    </tr>\n",
              "  </tbody>\n",
              "</table>\n",
              "</div>\n",
              "      <button class=\"colab-df-convert\" onclick=\"convertToInteractive('df-be6ebe3b-ca09-4e20-ae42-91865ea64ff8')\"\n",
              "              title=\"Convert this dataframe to an interactive table.\"\n",
              "              style=\"display:none;\">\n",
              "        \n",
              "  <svg xmlns=\"http://www.w3.org/2000/svg\" height=\"24px\"viewBox=\"0 0 24 24\"\n",
              "       width=\"24px\">\n",
              "    <path d=\"M0 0h24v24H0V0z\" fill=\"none\"/>\n",
              "    <path d=\"M18.56 5.44l.94 2.06.94-2.06 2.06-.94-2.06-.94-.94-2.06-.94 2.06-2.06.94zm-11 1L8.5 8.5l.94-2.06 2.06-.94-2.06-.94L8.5 2.5l-.94 2.06-2.06.94zm10 10l.94 2.06.94-2.06 2.06-.94-2.06-.94-.94-2.06-.94 2.06-2.06.94z\"/><path d=\"M17.41 7.96l-1.37-1.37c-.4-.4-.92-.59-1.43-.59-.52 0-1.04.2-1.43.59L10.3 9.45l-7.72 7.72c-.78.78-.78 2.05 0 2.83L4 21.41c.39.39.9.59 1.41.59.51 0 1.02-.2 1.41-.59l7.78-7.78 2.81-2.81c.8-.78.8-2.07 0-2.86zM5.41 20L4 18.59l7.72-7.72 1.47 1.35L5.41 20z\"/>\n",
              "  </svg>\n",
              "      </button>\n",
              "      \n",
              "  <style>\n",
              "    .colab-df-container {\n",
              "      display:flex;\n",
              "      flex-wrap:wrap;\n",
              "      gap: 12px;\n",
              "    }\n",
              "\n",
              "    .colab-df-convert {\n",
              "      background-color: #E8F0FE;\n",
              "      border: none;\n",
              "      border-radius: 50%;\n",
              "      cursor: pointer;\n",
              "      display: none;\n",
              "      fill: #1967D2;\n",
              "      height: 32px;\n",
              "      padding: 0 0 0 0;\n",
              "      width: 32px;\n",
              "    }\n",
              "\n",
              "    .colab-df-convert:hover {\n",
              "      background-color: #E2EBFA;\n",
              "      box-shadow: 0px 1px 2px rgba(60, 64, 67, 0.3), 0px 1px 3px 1px rgba(60, 64, 67, 0.15);\n",
              "      fill: #174EA6;\n",
              "    }\n",
              "\n",
              "    [theme=dark] .colab-df-convert {\n",
              "      background-color: #3B4455;\n",
              "      fill: #D2E3FC;\n",
              "    }\n",
              "\n",
              "    [theme=dark] .colab-df-convert:hover {\n",
              "      background-color: #434B5C;\n",
              "      box-shadow: 0px 1px 3px 1px rgba(0, 0, 0, 0.15);\n",
              "      filter: drop-shadow(0px 1px 2px rgba(0, 0, 0, 0.3));\n",
              "      fill: #FFFFFF;\n",
              "    }\n",
              "  </style>\n",
              "\n",
              "      <script>\n",
              "        const buttonEl =\n",
              "          document.querySelector('#df-be6ebe3b-ca09-4e20-ae42-91865ea64ff8 button.colab-df-convert');\n",
              "        buttonEl.style.display =\n",
              "          google.colab.kernel.accessAllowed ? 'block' : 'none';\n",
              "\n",
              "        async function convertToInteractive(key) {\n",
              "          const element = document.querySelector('#df-be6ebe3b-ca09-4e20-ae42-91865ea64ff8');\n",
              "          const dataTable =\n",
              "            await google.colab.kernel.invokeFunction('convertToInteractive',\n",
              "                                                     [key], {});\n",
              "          if (!dataTable) return;\n",
              "\n",
              "          const docLinkHtml = 'Like what you see? Visit the ' +\n",
              "            '<a target=\"_blank\" href=https://colab.research.google.com/notebooks/data_table.ipynb>data table notebook</a>'\n",
              "            + ' to learn more about interactive tables.';\n",
              "          element.innerHTML = '';\n",
              "          dataTable['output_type'] = 'display_data';\n",
              "          await google.colab.output.renderOutput(dataTable, element);\n",
              "          const docLink = document.createElement('div');\n",
              "          docLink.innerHTML = docLinkHtml;\n",
              "          element.appendChild(docLink);\n",
              "        }\n",
              "      </script>\n",
              "    </div>\n",
              "  </div>\n",
              "  "
            ]
          },
          "metadata": {},
          "execution_count": 10
        }
      ]
    },
    {
      "cell_type": "code",
      "source": [
        "X_train[\"labels\"] = [y_train.iloc[n].values for n in range(len(y_train))]\n",
        "X_val[\"labels\"] = [y_val.iloc[n].values for n in range(len(y_val))]\n",
        "\n",
        "# X_test[\"labels\"] = [y_test.iloc[n].values for n in range(len(y_test))]"
      ],
      "metadata": {
        "id": "XeJ8ukS-J57z"
      },
      "id": "XeJ8ukS-J57z",
      "execution_count": null,
      "outputs": []
    },
    {
      "cell_type": "code",
      "source": [
        "X_train[[\"text\",\"labels\"]].head()"
      ],
      "metadata": {
        "colab": {
          "base_uri": "https://localhost:8080/",
          "height": 206
        },
        "id": "5GPhuoG7Kzj6",
        "outputId": "bab2fdee-4577-45b1-8a58-d9c582d0cc9d"
      },
      "id": "5GPhuoG7Kzj6",
      "execution_count": null,
      "outputs": [
        {
          "output_type": "execute_result",
          "data": {
            "text/plain": [
              "                                                text  \\\n",
              "0  we should ban human cloning as it will only ca...   \n",
              "1  fast food should be banned because it is reall...   \n",
              "2  sometimes economic sanctions are the only thin...   \n",
              "3  capital punishment is sometimes the only optio...   \n",
              "4  factory farming allows for the production of c...   \n",
              "\n",
              "                                              labels  \n",
              "0  [0, 0, 0, 0, 0, 0, 0, 0, 0, 1, 0, 0, 0, 0, 0, ...  \n",
              "1  [0, 0, 0, 0, 0, 0, 0, 0, 1, 0, 0, 0, 0, 0, 0, ...  \n",
              "2  [0, 0, 0, 0, 0, 1, 0, 0, 0, 1, 0, 0, 0, 0, 0, ...  \n",
              "3  [0, 0, 0, 0, 0, 0, 0, 0, 0, 1, 0, 1, 0, 0, 0, ...  \n",
              "4  [0, 0, 0, 0, 0, 0, 0, 0, 1, 0, 0, 0, 0, 0, 1, ...  "
            ],
            "text/html": [
              "\n",
              "  <div id=\"df-80b0d909-223c-4ee8-a28a-70634d1f93cd\">\n",
              "    <div class=\"colab-df-container\">\n",
              "      <div>\n",
              "<style scoped>\n",
              "    .dataframe tbody tr th:only-of-type {\n",
              "        vertical-align: middle;\n",
              "    }\n",
              "\n",
              "    .dataframe tbody tr th {\n",
              "        vertical-align: top;\n",
              "    }\n",
              "\n",
              "    .dataframe thead th {\n",
              "        text-align: right;\n",
              "    }\n",
              "</style>\n",
              "<table border=\"1\" class=\"dataframe\">\n",
              "  <thead>\n",
              "    <tr style=\"text-align: right;\">\n",
              "      <th></th>\n",
              "      <th>text</th>\n",
              "      <th>labels</th>\n",
              "    </tr>\n",
              "  </thead>\n",
              "  <tbody>\n",
              "    <tr>\n",
              "      <th>0</th>\n",
              "      <td>we should ban human cloning as it will only ca...</td>\n",
              "      <td>[0, 0, 0, 0, 0, 0, 0, 0, 0, 1, 0, 0, 0, 0, 0, ...</td>\n",
              "    </tr>\n",
              "    <tr>\n",
              "      <th>1</th>\n",
              "      <td>fast food should be banned because it is reall...</td>\n",
              "      <td>[0, 0, 0, 0, 0, 0, 0, 0, 1, 0, 0, 0, 0, 0, 0, ...</td>\n",
              "    </tr>\n",
              "    <tr>\n",
              "      <th>2</th>\n",
              "      <td>sometimes economic sanctions are the only thin...</td>\n",
              "      <td>[0, 0, 0, 0, 0, 1, 0, 0, 0, 1, 0, 0, 0, 0, 0, ...</td>\n",
              "    </tr>\n",
              "    <tr>\n",
              "      <th>3</th>\n",
              "      <td>capital punishment is sometimes the only optio...</td>\n",
              "      <td>[0, 0, 0, 0, 0, 0, 0, 0, 0, 1, 0, 1, 0, 0, 0, ...</td>\n",
              "    </tr>\n",
              "    <tr>\n",
              "      <th>4</th>\n",
              "      <td>factory farming allows for the production of c...</td>\n",
              "      <td>[0, 0, 0, 0, 0, 0, 0, 0, 1, 0, 0, 0, 0, 0, 1, ...</td>\n",
              "    </tr>\n",
              "  </tbody>\n",
              "</table>\n",
              "</div>\n",
              "      <button class=\"colab-df-convert\" onclick=\"convertToInteractive('df-80b0d909-223c-4ee8-a28a-70634d1f93cd')\"\n",
              "              title=\"Convert this dataframe to an interactive table.\"\n",
              "              style=\"display:none;\">\n",
              "        \n",
              "  <svg xmlns=\"http://www.w3.org/2000/svg\" height=\"24px\"viewBox=\"0 0 24 24\"\n",
              "       width=\"24px\">\n",
              "    <path d=\"M0 0h24v24H0V0z\" fill=\"none\"/>\n",
              "    <path d=\"M18.56 5.44l.94 2.06.94-2.06 2.06-.94-2.06-.94-.94-2.06-.94 2.06-2.06.94zm-11 1L8.5 8.5l.94-2.06 2.06-.94-2.06-.94L8.5 2.5l-.94 2.06-2.06.94zm10 10l.94 2.06.94-2.06 2.06-.94-2.06-.94-.94-2.06-.94 2.06-2.06.94z\"/><path d=\"M17.41 7.96l-1.37-1.37c-.4-.4-.92-.59-1.43-.59-.52 0-1.04.2-1.43.59L10.3 9.45l-7.72 7.72c-.78.78-.78 2.05 0 2.83L4 21.41c.39.39.9.59 1.41.59.51 0 1.02-.2 1.41-.59l7.78-7.78 2.81-2.81c.8-.78.8-2.07 0-2.86zM5.41 20L4 18.59l7.72-7.72 1.47 1.35L5.41 20z\"/>\n",
              "  </svg>\n",
              "      </button>\n",
              "      \n",
              "  <style>\n",
              "    .colab-df-container {\n",
              "      display:flex;\n",
              "      flex-wrap:wrap;\n",
              "      gap: 12px;\n",
              "    }\n",
              "\n",
              "    .colab-df-convert {\n",
              "      background-color: #E8F0FE;\n",
              "      border: none;\n",
              "      border-radius: 50%;\n",
              "      cursor: pointer;\n",
              "      display: none;\n",
              "      fill: #1967D2;\n",
              "      height: 32px;\n",
              "      padding: 0 0 0 0;\n",
              "      width: 32px;\n",
              "    }\n",
              "\n",
              "    .colab-df-convert:hover {\n",
              "      background-color: #E2EBFA;\n",
              "      box-shadow: 0px 1px 2px rgba(60, 64, 67, 0.3), 0px 1px 3px 1px rgba(60, 64, 67, 0.15);\n",
              "      fill: #174EA6;\n",
              "    }\n",
              "\n",
              "    [theme=dark] .colab-df-convert {\n",
              "      background-color: #3B4455;\n",
              "      fill: #D2E3FC;\n",
              "    }\n",
              "\n",
              "    [theme=dark] .colab-df-convert:hover {\n",
              "      background-color: #434B5C;\n",
              "      box-shadow: 0px 1px 3px 1px rgba(0, 0, 0, 0.15);\n",
              "      filter: drop-shadow(0px 1px 2px rgba(0, 0, 0, 0.3));\n",
              "      fill: #FFFFFF;\n",
              "    }\n",
              "  </style>\n",
              "\n",
              "      <script>\n",
              "        const buttonEl =\n",
              "          document.querySelector('#df-80b0d909-223c-4ee8-a28a-70634d1f93cd button.colab-df-convert');\n",
              "        buttonEl.style.display =\n",
              "          google.colab.kernel.accessAllowed ? 'block' : 'none';\n",
              "\n",
              "        async function convertToInteractive(key) {\n",
              "          const element = document.querySelector('#df-80b0d909-223c-4ee8-a28a-70634d1f93cd');\n",
              "          const dataTable =\n",
              "            await google.colab.kernel.invokeFunction('convertToInteractive',\n",
              "                                                     [key], {});\n",
              "          if (!dataTable) return;\n",
              "\n",
              "          const docLinkHtml = 'Like what you see? Visit the ' +\n",
              "            '<a target=\"_blank\" href=https://colab.research.google.com/notebooks/data_table.ipynb>data table notebook</a>'\n",
              "            + ' to learn more about interactive tables.';\n",
              "          element.innerHTML = '';\n",
              "          dataTable['output_type'] = 'display_data';\n",
              "          await google.colab.output.renderOutput(dataTable, element);\n",
              "          const docLink = document.createElement('div');\n",
              "          docLink.innerHTML = docLinkHtml;\n",
              "          element.appendChild(docLink);\n",
              "        }\n",
              "      </script>\n",
              "    </div>\n",
              "  </div>\n",
              "  "
            ]
          },
          "metadata": {},
          "execution_count": 12
        }
      ]
    },
    {
      "cell_type": "code",
      "source": [
        "LABEL_COLUMNS = y_train.columns.tolist()[1:]\n",
        "print(len(LABEL_COLUMNS))\n",
        "\n",
        "fig, ax = plt.subplots(1, 2, figsize=(10, 5))\n",
        "\n",
        "# Distribution of labels in train data\n",
        "ax[0].barh(y_train[LABEL_COLUMNS].sum().sort_values().index, y_train[LABEL_COLUMNS].sum().sort_values().values)\n",
        "ax[0].set_title(\"Distribution of Labels in Train Data\")\n",
        "\n",
        "# Distribution of labels in validation data\n",
        "ax[1].barh(y_val[LABEL_COLUMNS].sum().sort_values().index, y_val[LABEL_COLUMNS].sum().sort_values().values)\n",
        "ax[1].set_title(\"Distribution of Labels in Validation Data\")\n",
        "\n",
        "plt.tight_layout()\n",
        "plt.show()"
      ],
      "metadata": {
        "colab": {
          "base_uri": "https://localhost:8080/",
          "height": 386
        },
        "id": "oRoKMDiMJT2y",
        "outputId": "494c2bcd-cbbb-420d-adf8-deccddb5c21f"
      },
      "id": "oRoKMDiMJT2y",
      "execution_count": null,
      "outputs": [
        {
          "output_type": "stream",
          "name": "stdout",
          "text": [
            "19\n"
          ]
        },
        {
          "output_type": "display_data",
          "data": {
            "text/plain": [
              "<Figure size 720x360 with 2 Axes>"
            ],
            "image/png": "[encoded data removed]"
          },
          "metadata": {
            "needs_background": "light"
          }
        }
      ]
    },
    {
      "cell_type": "markdown",
      "metadata": {
        "id": "c5f8fcc9"
      },
      "source": [
        "## Tokenize and encode input "
      ],
      "id": "c5f8fcc9"
    },
    {
      "cell_type": "code",
      "source": [
        "pip install transformers"
      ],
      "metadata": {
        "id": "6T_1oHP-1bSX"
      },
      "id": "6T_1oHP-1bSX",
      "execution_count": null,
      "outputs": []
    },
    {
      "cell_type": "code",
      "execution_count": null,
      "id": "8efff5dd",
      "metadata": {
        "id": "8efff5dd"
      },
      "outputs": [],
      "source": [
        "from transformers import BertTokenizer\n",
        "import torch\n",
        "from torch.utils.data import TensorDataset, DataLoader, RandomSampler, SequentialSampler"
      ]
    },
    {
      "cell_type": "code",
      "source": [
        "batch_size = 64\n",
        "\n",
        "# Create the tokenizer\n",
        "tokenizer = BertTokenizer.from_pretrained(\"bert-base-uncased\")"
      ],
      "metadata": {
        "id": "PWSiJ1WJMpHh"
      },
      "id": "PWSiJ1WJMpHh",
      "execution_count": null,
      "outputs": []
    },
    {
      "cell_type": "code",
      "source": [
        "def tokenize_and_encode(df):\n",
        "    max_length = 256\n",
        "    \n",
        "    encoding = tokenizer.batch_encode_plus(df[\"text\"], max_length=max_length, padding=True, truncation=True)\n",
        "    \n",
        "    input_ids = torch.tensor(encoding['input_ids'])\n",
        "    attention_mask = torch.tensor(encoding['attention_mask'])\n",
        "\n",
        "    return input_ids, attention_mask"
      ],
      "metadata": {
        "id": "_TyD4dYLMpKL"
      },
      "id": "_TyD4dYLMpKL",
      "execution_count": null,
      "outputs": []
    },
    {
      "cell_type": "code",
      "source": [
        "# Tokenize and encode\n",
        "# train\n",
        "input_ids, attention_mask = tokenize_and_encode(X_train)\n",
        "train_inputs = torch.tensor(input_ids)\n",
        "train_labels = torch.tensor(list(X_train[\"labels\"].values))\n",
        "train_mask = torch.tensor(attention_mask)\n",
        "\n",
        "# val\n",
        "input_ids_val, attention_mask_val = tokenize_and_encode(X_val)\n",
        "val_inputs = torch.tensor(input_ids_val)\n",
        "val_labels = torch.tensor(list(X_val[\"labels\"].values))\n",
        "val_mask = torch.tensor(attention_mask_val)"
      ],
      "metadata": {
        "colab": {
          "base_uri": "https://localhost:8080/"
        },
        "id": "R1qaGskwMpNI",
        "outputId": "9c0d367a-a280-4581-9452-d8569db1394e"
      },
      "id": "R1qaGskwMpNI",
      "execution_count": null,
      "outputs": [
        {
          "output_type": "stream",
          "name": "stderr",
          "text": [
            "<ipython-input-41-f81cf6d13e16>:4: UserWarning: To copy construct from a tensor, it is recommended to use sourceTensor.clone().detach() or sourceTensor.clone().detach().requires_grad_(True), rather than torch.tensor(sourceTensor).\n",
            "  train_inputs = torch.tensor(input_ids)\n",
            "<ipython-input-41-f81cf6d13e16>:5: UserWarning: Creating a tensor from a list of numpy.ndarrays is extremely slow. Please consider converting the list to a single numpy.ndarray with numpy.array() before converting to a tensor. (Triggered internally at ../torch/csrc/utils/tensor_new.cpp:230.)\n",
            "  train_labels = torch.tensor(list(X_train[\"labels\"].values))\n",
            "<ipython-input-41-f81cf6d13e16>:6: UserWarning: To copy construct from a tensor, it is recommended to use sourceTensor.clone().detach() or sourceTensor.clone().detach().requires_grad_(True), rather than torch.tensor(sourceTensor).\n",
            "  train_mask = torch.tensor(attention_mask)\n",
            "<ipython-input-41-f81cf6d13e16>:10: UserWarning: To copy construct from a tensor, it is recommended to use sourceTensor.clone().detach() or sourceTensor.clone().detach().requires_grad_(True), rather than torch.tensor(sourceTensor).\n",
            "  val_inputs = torch.tensor(input_ids_val)\n",
            "<ipython-input-41-f81cf6d13e16>:12: UserWarning: To copy construct from a tensor, it is recommended to use sourceTensor.clone().detach() or sourceTensor.clone().detach().requires_grad_(True), rather than torch.tensor(sourceTensor).\n",
            "  val_mask = torch.tensor(attention_mask_val)\n"
          ]
        }
      ]
    },
    {
      "cell_type": "code",
      "source": [
        "train_data = TensorDataset(train_inputs, train_mask, train_labels)\n",
        "train_sampler = RandomSampler(train_data)\n",
        "train_dataloader = DataLoader(train_data, sampler=train_sampler, batch_size=batch_size)\n",
        "\n",
        "val_data = TensorDataset(val_inputs, val_mask, val_labels)\n",
        "val_sampler = SequentialSampler(val_data)\n",
        "val_dataloader = DataLoader(val_data, sampler=val_sampler, batch_size=batch_size)"
      ],
      "metadata": {
        "id": "oluGFmvMMpP9"
      },
      "id": "oluGFmvMMpP9",
      "execution_count": null,
      "outputs": []
    },
    {
      "cell_type": "markdown",
      "metadata": {
        "id": "4f637ba8"
      },
      "source": [
        "## BERT model\n",
        "\n",
        "\n"
      ],
      "id": "4f637ba8"
    },
    {
      "cell_type": "code",
      "source": [
        "from torch import nn\n",
        "from tqdm import tqdm, trange\n",
        "from torch.optim import AdamW\n",
        "from torch.utils.data import TensorDataset, DataLoader\n",
        "from transformers import BertForSequenceClassification, BertTokenizer\n",
        "from sklearn.metrics import f1_score"
      ],
      "metadata": {
        "id": "Sm98-OrLMpSe"
      },
      "id": "Sm98-OrLMpSe",
      "execution_count": null,
      "outputs": []
    },
    {
      "cell_type": "markdown",
      "source": [
        "##[1] Training"
      ],
      "metadata": {
        "id": "FYRm3BDmCQJu"
      },
      "id": "FYRm3BDmCQJu"
    },
    {
      "cell_type": "markdown",
      "source": [
        "###[1] opt learning rate 6e-6"
      ],
      "metadata": {
        "id": "oivyuIL6GkhX"
      },
      "id": "oivyuIL6GkhX"
    },
    {
      "cell_type": "code",
      "source": [
        "# load the model\n",
        "model = BertForSequenceClassification.from_pretrained('bert-base-uncased', problem_type=\"multi_label_classification\", num_labels=20)\n",
        "model.to('cuda:0')\n",
        "\n",
        "# config\n",
        "model.config.eos_token_id = tokenizer.sep_token_id\n",
        "model.config.pad_token_id = tokenizer.pad_token_id\n",
        "model.config.max_length = 516\n",
        "model.config.min_length = 20\n",
        "model.config.no_repeat_ngram_size = 3\n",
        "model.config.early_stopping = True\n",
        "model.config.num_beams = 4\n",
        "\n",
        "# define the loss function and optimizer\n",
        "criterion = torch.nn.BCEWithLogitsLoss()\n",
        "optimizer = AdamW(model.parameters(), lr=6e-6)"
      ],
      "metadata": {
        "id": "zaZWdILwNCWy"
      },
      "id": "zaZWdILwNCWy",
      "execution_count": null,
      "outputs": []
    },
    {
      "cell_type": "code",
      "source": [
        "# Number of training epochs\n",
        "epochs = 50"
      ],
      "metadata": {
        "id": "50QTX5itNCb9"
      },
      "id": "50QTX5itNCb9",
      "execution_count": null,
      "outputs": []
    },
    {
      "cell_type": "code",
      "source": [
        "# For Storing our loss and accuracy for plotting\n",
        "val_f1_score_history, training_loss_history = [],[]\n",
        "\n",
        "for _ in trange(epochs, desc=\"Training\"):\n",
        "  # training\n",
        "  model.train()\n",
        "  tot_loss = 0\n",
        "  # Tracking variables\n",
        "  tr_loss = 0 #running loss\n",
        "  nb_tr_steps = 0\n",
        "\n",
        "  # Train the data for one epoch\n",
        "  for step, batch in enumerate(train_dataloader):\n",
        "    ids, mask, labels = batch\n",
        "    labels = labels.float()\n",
        "\n",
        "    model.to(\"cuda:0\")\n",
        "    ids = ids.to(\"cuda:0\")\n",
        "    mask = mask.to(\"cuda:0\")\n",
        "    labels = labels.to(\"cuda:0\")\n",
        "\n",
        "    # Perform a forward pass on the GPU\n",
        "    outputs = model(ids, attention_mask=mask)\n",
        "\n",
        "    logits = outputs[0]\n",
        "    \n",
        "    #convert labels to float for calculation\n",
        "    loss = criterion(logits,labels.type_as(logits)) \n",
        "    \n",
        "    \n",
        "    # Perform backpropagation and optimizer step\n",
        "    optimizer.zero_grad()\n",
        "    loss.backward()\n",
        "    optimizer.step()\n",
        "    # Update tracking variables\n",
        "    tr_loss += loss.item()\n",
        "    nb_tr_steps += 1\n",
        "\n",
        "  training_loss_history.append(tr_loss/nb_tr_steps)\n",
        "\n",
        "  ###############################################################################\n",
        "\n",
        "  # Validation\n",
        "  model.eval()\n",
        "  val_f1_score = 0\n",
        "\n",
        "  # Predict\n",
        "  for i, batch in enumerate(val_dataloader):\n",
        "    ids, mask, labels = batch\n",
        "    labels = labels.float()\n",
        "\n",
        "    ids = ids.to(\"cuda:0\")\n",
        "    mask = mask.to(\"cuda:0\")\n",
        "    labels = labels.to(\"cuda:0\")\n",
        "\n",
        "    with torch.no_grad():\n",
        "      # Forward pass\n",
        "      outputs = model(ids, attention_mask=mask)\n",
        "      pred_logits = outputs[0]\n",
        "      pred_labels = torch.sigmoid(pred_logits)\n",
        "      pred_logits = pred_logits.cpu().numpy()\n",
        "      pred_labels = pred_labels.cpu().numpy()\n",
        "      labels = labels.cpu().numpy()\n",
        "\n",
        "    # Calculate F1 score and Accuracy\n",
        "    threshold = 0.2\n",
        "    pred_bools = [pl > threshold for pl in pred_labels]\n",
        "    true_bools = [tl == 1 for tl in labels]\n",
        "    val_f1_score += f1_score(true_bools,pred_bools,average='micro')\n",
        "  \n",
        "  val_f1_score_history.append( val_f1_score/len(val_dataloader) )"
      ],
      "metadata": {
        "colab": {
          "base_uri": "https://localhost:8080/"
        },
        "id": "K1untjHlNCfG",
        "outputId": "a21ce285-d1bb-4808-fa7b-cfb34d6622b3"
      },
      "id": "K1untjHlNCfG",
      "execution_count": null,
      "outputs": [
        {
          "output_type": "stream",
          "name": "stderr",
          "text": [
            "Training: 100%|██████████| 50/50 [2:15:30<00:00, 162.60s/it]\n"
          ]
        }
      ]
    },
    {
      "cell_type": "code",
      "source": [
        "num_epochs = np.arange(1, epochs+1)\n",
        "\n",
        "fig, ax = plt.subplots(figsize=(10, 7))\n",
        "ax.plot(num_epochs, np.array(training_loss_history), 'bo-', label=\"Training Loss\")\n",
        "ax.set_xlabel(\"Epochs\")\n",
        "ax.set_ylabel(\"Training Loss\")\n",
        "ax.legend(loc='upper left')\n",
        "\n",
        "ax2 = ax.twinx()\n",
        "ax2.plot(num_epochs, np.array(val_f1_score_history), 'ro-', label=\"Validation F1 score\")\n",
        "ax2.set_ylabel(\"F1 score\")\n",
        "ax2.legend(loc='lower left')\n",
        "\n",
        "ax.set_title(\"Training Loss and F1 score over Epochs\",fontsize=18)"
      ],
      "metadata": {
        "colab": {
          "base_uri": "https://localhost:8080/",
          "height": 479
        },
        "id": "LfJsMPyKNCiT",
        "outputId": "1108cc54-29d8-4bd0-8522-faffa6022321"
      },
      "id": "LfJsMPyKNCiT",
      "execution_count": null,
      "outputs": [
        {
          "output_type": "execute_result",
          "data": {
            "text/plain": [
              "Text(0.5, 1.0, 'Training Loss and F1 score over Epochs')"
            ]
          },
          "metadata": {},
          "execution_count": 47
        },
        {
          "output_type": "display_data",
          "data": {
            "text/plain": [
              "<Figure size 720x504 with 2 Axes>"
            ],
            "image/png": "[encoded data removed]"
          },
          "metadata": {
            "needs_background": "light"
          }
        }
      ]
    },
    {
      "cell_type": "markdown",
      "source": [
        "Around epoch 15, the f1_score is greater than 0.50 and lower than 0.55"
      ],
      "metadata": {
        "id": "JHIO7G1HBJ57"
      },
      "id": "JHIO7G1HBJ57"
    },
    {
      "cell_type": "code",
      "source": [
        "print(\"Lower Training Loss value is {} \".format(np.amin(np.array(training_loss_history))))\n",
        "print(\"Higher F1_score value is {} \".format(np.amax(np.array(val_f1_score_history))))"
      ],
      "metadata": {
        "colab": {
          "base_uri": "https://localhost:8080/"
        },
        "id": "ZkeaL14o_Ho1",
        "outputId": "bd983596-cfa4-4b00-d642-e5eb1ce2280a"
      },
      "execution_count": null,
      "outputs": [
        {
          "output_type": "stream",
          "name": "stdout",
          "text": [
            "Lower Training Loss value is 0.12929586522719438 \n",
            "Higher F1_score value is 0.5257793609679369 \n"
          ]
        }
      ],
      "id": "ZkeaL14o_Ho1"
    },
    {
      "cell_type": "markdown",
      "source": [
        "## Analyze the errors"
      ],
      "metadata": {
        "id": "Oz8HJqzdNbPc"
      },
      "id": "Oz8HJqzdNbPc"
    },
    {
      "cell_type": "markdown",
      "source": [
        "### Classification report"
      ],
      "metadata": {
        "id": "HtfeKJdAlbys"
      },
      "id": "HtfeKJdAlbys"
    },
    {
      "cell_type": "markdown",
      "source": [
        "The classification report for validation set"
      ],
      "metadata": {
        "id": "7Y7xvtZVNh02"
      },
      "id": "7Y7xvtZVNh02"
    },
    {
      "cell_type": "code",
      "source": [
        "from sklearn.metrics import classification_report\n",
        "\n",
        "print(classification_report(true_bools,pred_bools,target_names=y_train.columns, zero_division=0))"
      ],
      "metadata": {
        "colab": {
          "base_uri": "https://localhost:8080/"
        },
        "id": "sGdiigVENCkj",
        "outputId": "4613321c-6ec3-4a26-caec-e84ad3973d77"
      },
      "id": "sGdiigVENCkj",
      "execution_count": null,
      "outputs": [
        {
          "output_type": "stream",
          "name": "stdout",
          "text": [
            "                            precision    recall  f1-score   support\n",
            "\n",
            "   self-direction: thought       0.60      0.60      0.60         5\n",
            "    self-direction: action       0.60      0.55      0.57        11\n",
            "               stimulation       0.00      0.00      0.00         0\n",
            "                  hedonism       0.00      0.00      0.00         0\n",
            "               achievement       0.29      0.71      0.42         7\n",
            "          power: dominance       0.27      0.38      0.32         8\n",
            "          power: resources       0.25      0.50      0.33         2\n",
            "                      face       0.00      0.00      0.00         4\n",
            "        security: personal       0.27      0.40      0.32        10\n",
            "        security: societal       0.59      0.85      0.69        20\n",
            "                 tradition       0.00      0.00      0.00         3\n",
            "         conformity: rules       0.73      0.61      0.67        18\n",
            " conformity: interpersonal       0.00      0.00      0.00         0\n",
            "                  humility       0.00      0.00      0.00         3\n",
            "       benevolence: caring       0.23      0.43      0.30         7\n",
            "benevolence: dependability       0.33      0.33      0.33        12\n",
            "     universalism: concern       0.62      0.84      0.71        19\n",
            "      universalism: nature       1.00      1.00      1.00         1\n",
            "   universalism: tolerance       0.67      0.50      0.57         4\n",
            " universalism: objectivity       0.70      0.32      0.44        22\n",
            "\n",
            "                 micro avg       0.47      0.53      0.50       156\n",
            "                 macro avg       0.36      0.40      0.36       156\n",
            "              weighted avg       0.50      0.53      0.49       156\n",
            "               samples avg       0.49      0.58      0.48       156\n",
            "\n"
          ]
        }
      ]
    },
    {
      "cell_type": "code",
      "source": [
        "#to access drive\n",
        "from google.colab import drive\n",
        "drive.mount('/content/drive')"
      ],
      "metadata": {
        "colab": {
          "base_uri": "https://localhost:8080/"
        },
        "id": "ewNtffLkMpVS",
        "outputId": "a8df8b0b-4308-4d2b-eaba-d14699c5d8bd"
      },
      "id": "ewNtffLkMpVS",
      "execution_count": null,
      "outputs": [
        {
          "output_type": "stream",
          "name": "stdout",
          "text": [
            "Mounted at /content/drive\n"
          ]
        }
      ]
    },
    {
      "cell_type": "code",
      "source": [
        "# Save the fine-tuned model\n",
        "torch.save(model.state_dict(), \"/content/drive/MyDrive/Colab Notebooks/model_bert\")"
      ],
      "metadata": {
        "id": "xfocjjWgOKRf"
      },
      "id": "xfocjjWgOKRf",
      "execution_count": null,
      "outputs": []
    },
    {
      "cell_type": "markdown",
      "source": [
        "## Evaluation with sigmoid vs softmax and Analysis of Best threshold"
      ],
      "metadata": {
        "id": "AQmZvq_4OOCO"
      },
      "id": "AQmZvq_4OOCO"
    },
    {
      "cell_type": "code",
      "source": [
        "import torch\n",
        "import torch.nn as nn\n",
        "import transformers\n",
        "from transformers import BertForSequenceClassification\n",
        "\n",
        "# Load the state dict from the saved file\n",
        "state_dict = torch.load(\"/content/drive/MyDrive/Colab Notebooks/model_bert\")\n",
        "\n",
        "# Initialize the model\n",
        "bert_model = BertForSequenceClassification.from_pretrained('bert-base-uncased', problem_type=\"multi_label_classification\", num_labels=20)\n",
        "bert_model.to(\"cuda:0\")\n",
        "\n",
        "# Load the state dict into the model\n",
        "bert_model.load_state_dict(state_dict)\n"
      ],
      "metadata": {
        "colab": {
          "base_uri": "https://localhost:8080/"
        },
        "id": "m7b-GV8DOS3A",
        "outputId": "b2afab7e-6f7b-4521-f933-f0053c8bc999"
      },
      "id": "m7b-GV8DOS3A",
      "execution_count": null,
      "outputs": [
        {
          "output_type": "stream",
          "name": "stderr",
          "text": [
            "Some weights of the model checkpoint at bert-base-uncased were not used when initializing BertForSequenceClassification: ['cls.predictions.transform.dense.bias', 'cls.predictions.transform.dense.weight', 'cls.seq_relationship.weight', 'cls.predictions.transform.LayerNorm.weight', 'cls.predictions.bias', 'cls.predictions.decoder.weight', 'cls.seq_relationship.bias', 'cls.predictions.transform.LayerNorm.bias']\n",
            "- This IS expected if you are initializing BertForSequenceClassification from the checkpoint of a model trained on another task or with another architecture (e.g. initializing a BertForSequenceClassification model from a BertForPreTraining model).\n",
            "- This IS NOT expected if you are initializing BertForSequenceClassification from the checkpoint of a model that you expect to be exactly identical (initializing a BertForSequenceClassification model from a BertForSequenceClassification model).\n",
            "Some weights of BertForSequenceClassification were not initialized from the model checkpoint at bert-base-uncased and are newly initialized: ['classifier.bias', 'classifier.weight']\n",
            "You should probably TRAIN this model on a down-stream task to be able to use it for predictions and inference.\n"
          ]
        },
        {
          "output_type": "execute_result",
          "data": {
            "text/plain": [
              "<All keys matched successfully>"
            ]
          },
          "metadata": {},
          "execution_count": 51
        }
      ]
    },
    {
      "cell_type": "markdown",
      "source": [
        "####[1]Sigmoid\n"
      ],
      "metadata": {
        "id": "v4KoF4cT_sYG"
      },
      "id": "v4KoF4cT_sYG"
    },
    {
      "cell_type": "code",
      "source": [
        "from sklearn.metrics import f1_score, accuracy_score\n",
        "# Evaluation\n",
        "bert_model.eval()\n",
        "\n",
        "# Initialize the best F1 score and the corresponding threshold\n",
        "best_f1_score = 0\n",
        "best_threshold = 0\n",
        "val_f1_score_history = []\n",
        "\n",
        "thresholds = np.arange(0.05, 0.95, 0.05)\n",
        "# Loop over a range of threshold values\n",
        "for threshold in tqdm(thresholds):\n",
        "  val_f1_score = 0\n",
        "\n",
        "  # Predict\n",
        "  for i, batch in enumerate(val_dataloader):\n",
        "    ids, mask, labels = batch\n",
        "    labels = labels.float()\n",
        "\n",
        "    ids = ids.to(\"cuda:0\")\n",
        "    mask = mask.to(\"cuda:0\")\n",
        "    labels = labels.to(\"cuda:0\")\n",
        "\n",
        "    with torch.no_grad():\n",
        "      # Forward pass\n",
        "      outputs = bert_model(ids, attention_mask=mask)\n",
        "      pred_logits = outputs[0]\n",
        "      pred_labels = torch.sigmoid(pred_logits)\n",
        "      pred_logits = pred_logits.cpu().numpy()\n",
        "      pred_labels = pred_labels.cpu().numpy()\n",
        "      labels = labels.cpu().numpy()\n",
        "\n",
        "    # Calculate F1 score\n",
        "    pred_bools = [pl > threshold for pl in pred_labels]\n",
        "    true_bools = [tl == 1 for tl in labels]\n",
        "    val_f1_score += f1_score(true_bools,pred_bools,average='micro')\n",
        "    \n",
        "  val_f1_score = val_f1_score/len(val_dataloader)\n",
        "  \n",
        "  # Update the best F1 score and corresponding threshold if necessary\n",
        "  if val_f1_score > best_f1_score:\n",
        "    best_f1_score = val_f1_score\n",
        "    best_threshold = threshold\n",
        "\n",
        "  val_f1_score_history.append(val_f1_score)\n",
        "\n",
        "print('\\nBest validation F1 score: ', best_f1_score)   \n",
        "print('Best threshold: ', best_threshold )\n",
        "\n",
        "fig, ax = plt.subplots(figsize=(10, 7));\n",
        "ax.plot(thresholds, np.array(val_f1_score_history),'ro-' ,label=\"F1 score\")\n",
        "ax.set_xlabel(\"Thresholds\")\n",
        "ax.set_ylabel(\"F1 score\")\n",
        "ax.set_title(\"F1 score over thresholds\",fontsize=18)"
      ],
      "metadata": {
        "colab": {
          "base_uri": "https://localhost:8080/",
          "height": 549
        },
        "id": "L9LNl3PXOS50",
        "outputId": "0c8dc6c2-38b9-4db2-b7a4-65bfc586fb4b"
      },
      "id": "L9LNl3PXOS50",
      "execution_count": null,
      "outputs": [
        {
          "output_type": "stream",
          "name": "stderr",
          "text": [
            "100%|██████████| 18/18 [05:42<00:00, 19.00s/it]"
          ]
        },
        {
          "output_type": "stream",
          "name": "stdout",
          "text": [
            "\n",
            "Best validation F1 score:  0.5222810552330469\n",
            "Best threshold:  0.25\n"
          ]
        },
        {
          "output_type": "stream",
          "name": "stderr",
          "text": [
            "\n"
          ]
        },
        {
          "output_type": "execute_result",
          "data": {
            "text/plain": [
              "Text(0.5, 1.0, 'F1 score over thresholds')"
            ]
          },
          "metadata": {},
          "execution_count": 54
        },
        {
          "output_type": "display_data",
          "data": {
            "text/plain": [
              "<Figure size 720x504 with 1 Axes>"
            ],
            "image/png": "[encoded data removed]"
          },
          "metadata": {
            "needs_background": "light"
          }
        }
      ]
    },
    {
      "cell_type": "markdown",
      "source": [
        "####[2]Softmax\n",
        "\n"
      ],
      "metadata": {
        "id": "ypNU3hY8_yKY"
      },
      "id": "ypNU3hY8_yKY"
    },
    {
      "cell_type": "code",
      "source": [
        "from sklearn.metrics import f1_score, accuracy_score\n",
        "# Evaluation\n",
        "bert_model.eval()\n",
        "\n",
        "# Initialize the best F1 score and the corresponding threshold\n",
        "best_f1_score = 0\n",
        "best_threshold = 0\n",
        "val_f1_score_history = []\n",
        "\n",
        "thresholds = np.arange(0.01, 1, 0.05)\n",
        "# Loop over a range of threshold values\n",
        "for threshold in tqdm(thresholds):\n",
        "  val_f1_score = 0\n",
        "\n",
        "  # Predict\n",
        "  for i, batch in enumerate(val_dataloader):\n",
        "    ids, mask, labels = batch\n",
        "    labels = labels.float()\n",
        "\n",
        "    ids = ids.to(\"cuda:0\")\n",
        "    mask = mask.to(\"cuda:0\")\n",
        "    labels = labels.to(\"cuda:0\")\n",
        "\n",
        "    with torch.no_grad():\n",
        "      # Forward pass\n",
        "      outputs = bert_model(ids, attention_mask=mask)\n",
        "      pred_logits = outputs[0]\n",
        "      pred_labels = torch.softmax(pred_logits, dim=1)\n",
        "      pred_logits = pred_logits.cpu().numpy()\n",
        "      pred_labels = pred_labels.cpu().numpy()\n",
        "      labels = labels.cpu().numpy()\n",
        "\n",
        "    # Calculate F1 score\n",
        "    pred_bools = [pl > threshold for pl in pred_labels]\n",
        "    true_bools = [tl == 1 for tl in labels]\n",
        "    val_f1_score += f1_score(true_bools,pred_bools,average='micro')\n",
        "    \n",
        "  val_f1_score = val_f1_score/len(val_dataloader)\n",
        "  \n",
        "  # Update the best F1 score and corresponding threshold if necessary\n",
        "  if val_f1_score > best_f1_score:\n",
        "    best_f1_score = val_f1_score\n",
        "    best_threshold = threshold\n",
        "\n",
        "  val_f1_score_history.append(val_f1_score)\n",
        "\n",
        "print('\\nBest validation F1 score: ', best_f1_score)   \n",
        "print('Best threshold: ', best_threshold )\n",
        "\n",
        "fig, ax = plt.subplots(figsize=(10, 7));\n",
        "ax.plot(thresholds, np.array(val_f1_score_history),'ro-' ,label=\"F1 score\")\n",
        "ax.set_xlabel(\"Thresholds\")\n",
        "ax.set_ylabel(\"F1 score\")\n",
        "ax.set_title(\"F1 score over thresholds\",fontsize=18)"
      ],
      "metadata": {
        "colab": {
          "base_uri": "https://localhost:8080/",
          "height": 549
        },
        "id": "-4SPjourOS8g",
        "outputId": "90d62754-d2ea-433b-9860-df8b90310d96"
      },
      "id": "-4SPjourOS8g",
      "execution_count": null,
      "outputs": [
        {
          "output_type": "stream",
          "name": "stderr",
          "text": [
            "100%|██████████| 20/20 [06:18<00:00, 18.94s/it]"
          ]
        },
        {
          "output_type": "stream",
          "name": "stdout",
          "text": [
            "\n",
            "Best validation F1 score:  0.5130326309661624\n",
            "Best threshold:  0.01\n"
          ]
        },
        {
          "output_type": "stream",
          "name": "stderr",
          "text": [
            "\n"
          ]
        },
        {
          "output_type": "execute_result",
          "data": {
            "text/plain": [
              "Text(0.5, 1.0, 'F1 score over thresholds')"
            ]
          },
          "metadata": {},
          "execution_count": 55
        },
        {
          "output_type": "display_data",
          "data": {
            "text/plain": [
              "<Figure size 720x504 with 1 Axes>"
            ],
            "image/png": "[encoded data removed]"
          },
          "metadata": {
            "needs_background": "light"
          }
        }
      ]
    },
    {
      "cell_type": "markdown",
      "source": [
        "##[2] Training"
      ],
      "metadata": {
        "id": "Ztorv_lM1X2u"
      },
      "id": "Ztorv_lM1X2u"
    },
    {
      "cell_type": "markdown",
      "source": [
        "###[2] opt learning rate 2e-5"
      ],
      "metadata": {
        "id": "lugDGMeuri74"
      },
      "id": "lugDGMeuri74"
    },
    {
      "cell_type": "code",
      "execution_count": null,
      "metadata": {
        "colab": {
          "base_uri": "https://localhost:8080/"
        },
        "outputId": "abedf851-42f4-4e80-c5aa-925355a66644",
        "id": "yj7qkAJlqv47"
      },
      "outputs": [
        {
          "output_type": "stream",
          "name": "stderr",
          "text": [
            "Some weights of the model checkpoint at bert-base-uncased were not used when initializing BertForSequenceClassification: ['cls.predictions.transform.dense.weight', 'cls.seq_relationship.bias', 'cls.predictions.decoder.weight', 'cls.predictions.transform.dense.bias', 'cls.predictions.bias', 'cls.predictions.transform.LayerNorm.bias', 'cls.seq_relationship.weight', 'cls.predictions.transform.LayerNorm.weight']\n",
            "- This IS expected if you are initializing BertForSequenceClassification from the checkpoint of a model trained on another task or with another architecture (e.g. initializing a BertForSequenceClassification model from a BertForPreTraining model).\n",
            "- This IS NOT expected if you are initializing BertForSequenceClassification from the checkpoint of a model that you expect to be exactly identical (initializing a BertForSequenceClassification model from a BertForSequenceClassification model).\n",
            "Some weights of BertForSequenceClassification were not initialized from the model checkpoint at bert-base-uncased and are newly initialized: ['classifier.weight', 'classifier.bias']\n",
            "You should probably TRAIN this model on a down-stream task to be able to use it for predictions and inference.\n"
          ]
        }
      ],
      "source": [
        "# load the model\n",
        "model = BertForSequenceClassification.from_pretrained('bert-base-uncased', problem_type=\"multi_label_classification\", num_labels=20)\n",
        "model.to('cuda:0')\n",
        "\n",
        "# config\n",
        "model.config.eos_token_id = tokenizer.sep_token_id\n",
        "model.config.pad_token_id = tokenizer.pad_token_id\n",
        "model.config.max_length = 516\n",
        "model.config.min_length = 20\n",
        "model.config.no_repeat_ngram_size = 3\n",
        "model.config.early_stopping = True\n",
        "model.config.num_beams = 4\n",
        "\n",
        "\n",
        "# define the loss function and optimizer\n",
        "criterion = torch.nn.BCEWithLogitsLoss()\n",
        "optimizer = AdamW(model.parameters(),lr=2e-5)"
      ],
      "id": "yj7qkAJlqv47"
    },
    {
      "cell_type": "code",
      "execution_count": null,
      "metadata": {
        "colab": {
          "base_uri": "https://localhost:8080/"
        },
        "outputId": "ebe5dd06-817a-4640-9f42-4a5838975c58",
        "id": "TbPXaeDHrnHd"
      },
      "outputs": [
        {
          "output_type": "stream",
          "name": "stderr",
          "text": [
            "Training: 100%|██████████| 50/50 [32:39<00:00, 39.19s/it]\n"
          ]
        }
      ],
      "source": [
        "# For Storing our loss and accuracy for plotting\n",
        "val_f1_score_history_m2, training_loss_history_m2 = [],[]\n",
        "\n",
        "for _ in trange(epochs, desc=\"Training\"):\n",
        "  # training\n",
        "  model.train()\n",
        "  tot_loss = 0\n",
        "  # Tracking variables\n",
        "  tr_loss = 0 #running loss\n",
        "  nb_tr_steps = 0\n",
        "\n",
        "  # Train the data for one epoch\n",
        "  for step, batch in enumerate(train_dataloader):\n",
        "    ids, mask, labels = batch\n",
        "    labels = labels.float()\n",
        "\n",
        "    model.to(\"cuda:0\")\n",
        "    ids = ids.to(\"cuda:0\")\n",
        "    mask = mask.to(\"cuda:0\")\n",
        "    labels = labels.to(\"cuda:0\")\n",
        "\n",
        "    # Perform a forward pass on the GPU\n",
        "    outputs = model(ids, attention_mask=mask)\n",
        "\n",
        "    logits = outputs[0]\n",
        "    \n",
        "    #convert labels to float for calculation\n",
        "    loss = criterion(logits,labels.type_as(logits)) \n",
        "    \n",
        "    \n",
        "    # Perform backpropagation and optimizer step\n",
        "    optimizer.zero_grad()\n",
        "    loss.backward()\n",
        "    optimizer.step()\n",
        "    # Update tracking variables\n",
        "    tr_loss += loss.item()\n",
        "    nb_tr_steps += 1\n",
        "\n",
        "  \n",
        "  #print(\"Train loss: {}\".format(tr_loss/nb_tr_steps))\n",
        "  training_loss_history_m2.append(tr_loss/nb_tr_steps)\n",
        "\n",
        "  ###############################################################################\n",
        "\n",
        "\n",
        "  # Validation\n",
        "  model.eval()\n",
        "  val_f1_score = 0\n",
        "\n",
        "  # Predict\n",
        "  for i, batch in enumerate(val_dataloader):\n",
        "    ids, mask, labels = batch\n",
        "    labels = labels.float()\n",
        "\n",
        "    ids = ids.to(\"cuda:0\")\n",
        "    mask = mask.to(\"cuda:0\")\n",
        "    labels = labels.to(\"cuda:0\")\n",
        "\n",
        "    with torch.no_grad():\n",
        "      # Forward pass\n",
        "      outputs = model(ids, attention_mask=mask)\n",
        "      pred_logits = outputs[0]\n",
        "      pred_labels = torch.sigmoid(pred_logits)\n",
        "      pred_logits = pred_logits.cpu().numpy()\n",
        "      pred_labels = pred_labels.cpu().numpy()\n",
        "      labels = labels.cpu().numpy()\n",
        "\n",
        "    # Calculate F1 score and Accuracy\n",
        "    threshold = 0.2\n",
        "    pred_bools = [pl > threshold for pl in pred_labels]\n",
        "    true_bools = [tl == 1 for tl in labels]\n",
        "    val_f1_score += f1_score(true_bools,pred_bools,average='micro')\n",
        "  \n",
        "\n",
        "  #print('Eval- F1 Validation Accuracy: ', val_f1_score)  \n",
        "  #print('\\n')\n",
        "  val_f1_score_history_m2.append( val_f1_score/len(val_dataloader) )"
      ],
      "id": "TbPXaeDHrnHd"
    },
    {
      "cell_type": "code",
      "source": [
        "num_epochs = np.arange(1, epochs+1)\n",
        "\n",
        "fig, ax = plt.subplots(figsize=(10, 7))\n",
        "ax.plot(num_epochs, np.array(training_loss_history_m2), 'bo-', label=\"Training Loss\")\n",
        "ax.set_xlabel(\"Epochs\")\n",
        "ax.set_ylabel(\"Training Loss\")\n",
        "ax.legend(loc='upper left')\n",
        "\n",
        "ax2 = ax.twinx()\n",
        "ax2.plot(num_epochs, np.array(val_f1_score_history_m2), 'ro-', label=\"Validation F1 score\")\n",
        "ax2.set_ylabel(\"F1 score\")\n",
        "ax2.legend(loc='lower left')\n",
        "\n",
        "ax.set_title(\"Training Loss and F1 score over Epochs with lr=2e-5\",fontsize=18)"
      ],
      "metadata": {
        "colab": {
          "base_uri": "https://localhost:8080/",
          "height": 481
        },
        "outputId": "c20890c0-bd5a-4f1a-b43d-0933f21f213c",
        "id": "r9R-BLDxuoSQ"
      },
      "execution_count": null,
      "outputs": [
        {
          "output_type": "execute_result",
          "data": {
            "text/plain": [
              "Text(0.5, 1.0, 'Training Loss and F1 score over Epochs with lr=2e-5')"
            ]
          },
          "metadata": {},
          "execution_count": 48
        },
        {
          "output_type": "display_data",
          "data": {
            "text/plain": [
              "<Figure size 720x504 with 2 Axes>"
            ],
            "image/png": "[encoded data removed]"
          },
          "metadata": {
            "needs_background": "light"
          }
        }
      ],
      "id": "r9R-BLDxuoSQ"
    },
    {
      "cell_type": "markdown",
      "source": [
        "Around epoch 10, the f1_score swings between 0.52 and 0.54"
      ],
      "metadata": {
        "id": "3ajHp1wZ8r5Z"
      },
      "id": "3ajHp1wZ8r5Z"
    },
    {
      "cell_type": "code",
      "source": [
        "print(\"Lower Training Loss value is {} \".format(np.amin(np.array(training_loss_history_m2))))\n",
        "print(\"Higher F1_score value is {} \".format(np.amax(np.array(val_f1_score_history_m2))))"
      ],
      "metadata": {
        "colab": {
          "base_uri": "https://localhost:8080/"
        },
        "id": "BW_OBubg99FJ",
        "outputId": "88fc3b2f-580c-4bd7-b7e5-35dc5cafc3f1"
      },
      "execution_count": null,
      "outputs": [
        {
          "output_type": "stream",
          "name": "stdout",
          "text": [
            "Lower Training Loss value is 0.021738843247294425 \n",
            "Higher F1_score value is 0.5410124044238107 \n"
          ]
        }
      ],
      "id": "BW_OBubg99FJ"
    },
    {
      "cell_type": "markdown",
      "source": [
        "The F1_score with learning rate 2e-5 value is slightly better respect to 0.524 of the learning rate 6e-6.\n",
        "\n",
        "The min value of Training Loss is lower than with lr=6e-6 (0.129)."
      ],
      "metadata": {
        "id": "lMKY6Q53QO2B"
      },
      "id": "lMKY6Q53QO2B"
    },
    {
      "cell_type": "code",
      "source": [
        "#to access drive\n",
        "from google.colab import drive\n",
        "drive.mount('/content/drive')\n",
        "# Save the fine-tuned model version 2\n",
        "torch.save(model.state_dict(), \"/content/drive/MyDrive/Colab Notebooks/model_bert_m2\")"
      ],
      "metadata": {
        "colab": {
          "base_uri": "https://localhost:8080/"
        },
        "id": "YILTe8diB4Za",
        "outputId": "b2a9ea2d-c440-4ed6-fa1b-b266bc87fc31"
      },
      "execution_count": null,
      "outputs": [
        {
          "output_type": "stream",
          "name": "stdout",
          "text": [
            "Drive already mounted at /content/drive; to attempt to forcibly remount, call drive.mount(\"/content/drive\", force_remount=True).\n"
          ]
        }
      ],
      "id": "YILTe8diB4Za"
    },
    {
      "cell_type": "markdown",
      "source": [
        "## Analyze the errors"
      ],
      "metadata": {
        "id": "1dJPFdDuvb3r"
      },
      "id": "1dJPFdDuvb3r"
    },
    {
      "cell_type": "markdown",
      "source": [
        "### Classification report"
      ],
      "metadata": {
        "id": "O6ZvE-BYve6S"
      },
      "id": "O6ZvE-BYve6S"
    },
    {
      "cell_type": "code",
      "source": [
        "from sklearn.metrics import classification_report\n",
        "\n",
        "#on validation set model 2\n",
        "print(classification_report(true_bools,pred_bools,target_names=y_train.columns, zero_division=0))"
      ],
      "metadata": {
        "colab": {
          "base_uri": "https://localhost:8080/"
        },
        "id": "YP68vfotucZM",
        "outputId": "126859b1-0d84-434e-d8ab-8cce60eb5d43"
      },
      "execution_count": null,
      "outputs": [
        {
          "output_type": "stream",
          "name": "stdout",
          "text": [
            "                            precision    recall  f1-score   support\n",
            "\n",
            "   self-direction: thought       0.50      0.20      0.29         5\n",
            "    self-direction: action       0.67      0.36      0.47        11\n",
            "               stimulation       0.00      0.00      0.00         0\n",
            "                  hedonism       0.00      0.00      0.00         0\n",
            "               achievement       0.45      0.71      0.56         7\n",
            "          power: dominance       0.67      0.50      0.57         8\n",
            "          power: resources       0.20      0.50      0.29         2\n",
            "                      face       0.50      0.25      0.33         4\n",
            "        security: personal       0.23      0.30      0.26        10\n",
            "        security: societal       0.57      0.85      0.68        20\n",
            "                 tradition       0.67      0.67      0.67         3\n",
            "         conformity: rules       0.67      0.56      0.61        18\n",
            " conformity: interpersonal       0.00      0.00      0.00         0\n",
            "                  humility       0.00      0.00      0.00         3\n",
            "       benevolence: caring       0.27      0.43      0.33         7\n",
            "benevolence: dependability       0.38      0.25      0.30        12\n",
            "     universalism: concern       0.62      0.53      0.57        19\n",
            "      universalism: nature       1.00      1.00      1.00         1\n",
            "   universalism: tolerance       0.50      0.50      0.50         4\n",
            " universalism: objectivity       0.90      0.41      0.56        22\n",
            "\n",
            "                 micro avg       0.52      0.49      0.50       156\n",
            "                 macro avg       0.44      0.40      0.40       156\n",
            "              weighted avg       0.57      0.49      0.50       156\n",
            "               samples avg       0.55      0.52      0.50       156\n",
            "\n"
          ]
        }
      ],
      "id": "YP68vfotucZM"
    },
    {
      "cell_type": "markdown",
      "source": [
        "## Evaluation with sigmoid vs softmax and Analysis of Best threshold"
      ],
      "metadata": {
        "id": "Sv5v1GDkvWcC"
      },
      "id": "Sv5v1GDkvWcC"
    },
    {
      "cell_type": "code",
      "source": [
        "import torch\n",
        "import torch.nn as nn\n",
        "import transformers\n",
        "from transformers import BertForSequenceClassification\n",
        "\n",
        "# Load the state dict from the saved file\n",
        "state_dict = torch.load(\"/content/drive/MyDrive/Colab Notebooks/model_bert_m2\")\n",
        "\n",
        "# Initialize the model\n",
        "bert_model = BertForSequenceClassification.from_pretrained('bert-base-uncased', problem_type=\"multi_label_classification\", num_labels=20)\n",
        "bert_model.to(\"cuda:0\")\n",
        "\n",
        "# Load the state dict into the model\n",
        "bert_model.load_state_dict(state_dict)\n"
      ],
      "metadata": {
        "colab": {
          "base_uri": "https://localhost:8080/"
        },
        "outputId": "15301e00-c3cb-4961-d098-0f49a07860ba",
        "id": "yt-4NIKCundq"
      },
      "execution_count": null,
      "outputs": [
        {
          "output_type": "stream",
          "name": "stderr",
          "text": [
            "Some weights of the model checkpoint at bert-base-uncased were not used when initializing BertForSequenceClassification: ['cls.predictions.transform.dense.weight', 'cls.seq_relationship.bias', 'cls.predictions.decoder.weight', 'cls.predictions.transform.dense.bias', 'cls.predictions.bias', 'cls.predictions.transform.LayerNorm.bias', 'cls.seq_relationship.weight', 'cls.predictions.transform.LayerNorm.weight']\n",
            "- This IS expected if you are initializing BertForSequenceClassification from the checkpoint of a model trained on another task or with another architecture (e.g. initializing a BertForSequenceClassification model from a BertForPreTraining model).\n",
            "- This IS NOT expected if you are initializing BertForSequenceClassification from the checkpoint of a model that you expect to be exactly identical (initializing a BertForSequenceClassification model from a BertForSequenceClassification model).\n",
            "Some weights of BertForSequenceClassification were not initialized from the model checkpoint at bert-base-uncased and are newly initialized: ['classifier.weight', 'classifier.bias']\n",
            "You should probably TRAIN this model on a down-stream task to be able to use it for predictions and inference.\n"
          ]
        },
        {
          "output_type": "execute_result",
          "data": {
            "text/plain": [
              "<All keys matched successfully>"
            ]
          },
          "metadata": {},
          "execution_count": 52
        }
      ],
      "id": "yt-4NIKCundq"
    },
    {
      "cell_type": "markdown",
      "source": [
        "####[1]Sigmoid"
      ],
      "metadata": {
        "id": "iE2OcZiSu7iS"
      },
      "id": "iE2OcZiSu7iS"
    },
    {
      "cell_type": "code",
      "source": [
        "from sklearn.metrics import f1_score, accuracy_score\n",
        "# Evaluation\n",
        "bert_model.eval()\n",
        "\n",
        "# Initialize the best F1 score and the corresponding threshold\n",
        "best_f1_score = 0\n",
        "best_threshold = 0\n",
        "val_f1_score_history = []\n",
        "\n",
        "thresholds = np.arange(0.05, 0.95, 0.05)\n",
        "# Loop over a range of threshold values\n",
        "for threshold in tqdm(thresholds):\n",
        "  val_f1_score = 0\n",
        "\n",
        "  # Predict\n",
        "  for i, batch in enumerate(val_dataloader):\n",
        "    ids, mask, labels = batch\n",
        "    labels = labels.float()\n",
        "\n",
        "    ids = ids.to(\"cuda:0\")\n",
        "    mask = mask.to(\"cuda:0\")\n",
        "    labels = labels.to(\"cuda:0\")\n",
        "\n",
        "    with torch.no_grad():\n",
        "      # Forward pass\n",
        "      outputs = bert_model(ids, attention_mask=mask)\n",
        "      pred_logits = outputs[0]\n",
        "      pred_labels = torch.sigmoid(pred_logits)\n",
        "      pred_logits = pred_logits.cpu().numpy()\n",
        "      pred_labels = pred_labels.cpu().numpy()\n",
        "      labels = labels.cpu().numpy()\n",
        "\n",
        "    # Calculate F1 score\n",
        "    pred_bools = [pl > threshold for pl in pred_labels]\n",
        "    true_bools = [tl == 1 for tl in labels]\n",
        "    val_f1_score += f1_score(true_bools,pred_bools,average='micro')\n",
        "    \n",
        "  val_f1_score = val_f1_score/len(val_dataloader)\n",
        "  \n",
        "  # Update the best F1 score and corresponding threshold if necessary\n",
        "  if val_f1_score > best_f1_score:\n",
        "    best_f1_score = val_f1_score\n",
        "    best_threshold = threshold\n",
        "\n",
        "  val_f1_score_history.append(val_f1_score)\n",
        "\n",
        "print('\\nBest validation F1 score: ', best_f1_score)   \n",
        "print('Best threshold: ', best_threshold )\n",
        "\n",
        "fig, ax = plt.subplots(figsize=(10, 7));\n",
        "ax.plot(thresholds, np.array(val_f1_score_history),'ro-' ,label=\"F1 score\")\n",
        "ax.set_xlabel(\"Thresholds\")\n",
        "ax.set_ylabel(\"F1 score\")\n",
        "ax.set_title(\"F1 score over thresholds\",fontsize=18)"
      ],
      "metadata": {
        "colab": {
          "base_uri": "https://localhost:8080/",
          "height": 556
        },
        "outputId": "7909285b-7154-4884-e0b8-88dd9463721f",
        "id": "b3uoEZcMus3A"
      },
      "execution_count": null,
      "outputs": [
        {
          "output_type": "stream",
          "name": "stderr",
          "text": [
            "100%|██████████| 18/18 [01:09<00:00,  3.84s/it]"
          ]
        },
        {
          "output_type": "stream",
          "name": "stdout",
          "text": [
            "\n",
            "Best validation F1 score:  0.5359521759698495\n",
            "Best threshold:  0.1\n"
          ]
        },
        {
          "output_type": "stream",
          "name": "stderr",
          "text": [
            "\n"
          ]
        },
        {
          "output_type": "execute_result",
          "data": {
            "text/plain": [
              "Text(0.5, 1.0, 'F1 score over thresholds')"
            ]
          },
          "metadata": {},
          "execution_count": 53
        },
        {
          "output_type": "display_data",
          "data": {
            "text/plain": [
              "<Figure size 720x504 with 1 Axes>"
            ],
            "image/png": "[encoded data removed]"
          },
          "metadata": {
            "needs_background": "light"
          }
        }
      ],
      "id": "b3uoEZcMus3A"
    },
    {
      "cell_type": "markdown",
      "source": [
        "####[2]Softmax"
      ],
      "metadata": {
        "id": "cItTO1jXu_Re"
      },
      "id": "cItTO1jXu_Re"
    },
    {
      "cell_type": "code",
      "source": [
        "from sklearn.metrics import f1_score, accuracy_score\n",
        "# Evaluation\n",
        "bert_model.eval()\n",
        "\n",
        "# Initialize the best F1 score and the corresponding threshold\n",
        "best_f1_score = 0\n",
        "best_threshold = 0\n",
        "val_f1_score_history = []\n",
        "\n",
        "thresholds = np.arange(0.01, 1, 0.05)\n",
        "# Loop over a range of threshold values\n",
        "for threshold in tqdm(thresholds):\n",
        "  val_f1_score = 0\n",
        "\n",
        "  # Predict\n",
        "  for i, batch in enumerate(val_dataloader):\n",
        "    ids, mask, labels = batch\n",
        "    labels = labels.float()\n",
        "\n",
        "    ids = ids.to(\"cuda:0\")\n",
        "    mask = mask.to(\"cuda:0\")\n",
        "    labels = labels.to(\"cuda:0\")\n",
        "\n",
        "    with torch.no_grad():\n",
        "      # Forward pass\n",
        "      outputs = bert_model(ids, attention_mask=mask)\n",
        "      pred_logits = outputs[0]\n",
        "      pred_labels = torch.softmax(pred_logits, dim=1)\n",
        "      pred_logits = pred_logits.cpu().numpy()\n",
        "      pred_labels = pred_labels.cpu().numpy()\n",
        "      labels = labels.cpu().numpy()\n",
        "\n",
        "    # Calculate F1 score\n",
        "    pred_bools = [pl > threshold for pl in pred_labels]\n",
        "    true_bools = [tl == 1 for tl in labels]\n",
        "    val_f1_score += f1_score(true_bools,pred_bools,average='micro')\n",
        "    \n",
        "  val_f1_score = val_f1_score/len(val_dataloader)\n",
        "  \n",
        "  # Update the best F1 score and corresponding threshold if necessary\n",
        "  if val_f1_score > best_f1_score:\n",
        "    best_f1_score = val_f1_score\n",
        "    best_threshold = threshold\n",
        "\n",
        "  val_f1_score_history.append(val_f1_score)\n",
        "\n",
        "print('\\nBest validation F1 score: ', best_f1_score)   \n",
        "print('Best threshold: ', best_threshold )\n",
        "\n",
        "fig, ax = plt.subplots(figsize=(10, 7));\n",
        "ax.plot(thresholds, np.array(val_f1_score_history),'ro-' ,label=\"F1 score\")\n",
        "ax.set_xlabel(\"Thresholds\")\n",
        "ax.set_ylabel(\"F1 score\")\n",
        "ax.set_title(\"F1 score over thresholds\",fontsize=18)"
      ],
      "metadata": {
        "colab": {
          "base_uri": "https://localhost:8080/",
          "height": 556
        },
        "outputId": "2bd292ce-55c8-4483-f2bd-9b1eb3501a0d",
        "id": "szJd7S_Buw8S"
      },
      "execution_count": null,
      "outputs": [
        {
          "output_type": "stream",
          "name": "stderr",
          "text": [
            "100%|██████████| 20/20 [01:16<00:00,  3.84s/it]"
          ]
        },
        {
          "output_type": "stream",
          "name": "stdout",
          "text": [
            "\n",
            "Best validation F1 score:  0.4936223910792482\n",
            "Best threshold:  0.01\n"
          ]
        },
        {
          "output_type": "stream",
          "name": "stderr",
          "text": [
            "\n"
          ]
        },
        {
          "output_type": "execute_result",
          "data": {
            "text/plain": [
              "Text(0.5, 1.0, 'F1 score over thresholds')"
            ]
          },
          "metadata": {},
          "execution_count": 54
        },
        {
          "output_type": "display_data",
          "data": {
            "text/plain": [
              "<Figure size 720x504 with 1 Axes>"
            ],
            "image/png": "[encoded data removed]"
          },
          "metadata": {
            "needs_background": "light"
          }
        }
      ],
      "id": "szJd7S_Buw8S"
    },
    {
      "cell_type": "markdown",
      "source": [
        "#Alternative solutions\n",
        "\n",
        "\n",
        "\n"
      ],
      "metadata": {
        "id": "RoBBxfOfTFn4"
      },
      "id": "RoBBxfOfTFn4"
    },
    {
      "cell_type": "markdown",
      "source": [
        "## Pre-processing"
      ],
      "metadata": {
        "id": "MHWm8HdscGA0"
      },
      "id": "MHWm8HdscGA0"
    },
    {
      "cell_type": "code",
      "source": [
        "import re\n",
        "from functools import reduce\n",
        "import nltk\n",
        "from nltk.corpus import stopwords\n",
        "from typing import List, Callable\n",
        "from nltk.stem import WordNetLemmatizer\n",
        "nltk.download('wordnet')\n",
        "nltk.download('omw-1.4')"
      ],
      "metadata": {
        "colab": {
          "base_uri": "https://localhost:8080/"
        },
        "outputId": "86d3e168-7c48-4abc-9b33-5ccd67a85f02",
        "id": "XRj3NUCiZaVe"
      },
      "execution_count": null,
      "outputs": [
        {
          "output_type": "stream",
          "name": "stderr",
          "text": [
            "[nltk_data] Downloading package wordnet to /root/nltk_data...\n",
            "[nltk_data] Downloading package omw-1.4 to /root/nltk_data...\n"
          ]
        },
        {
          "output_type": "execute_result",
          "data": {
            "text/plain": [
              "True"
            ]
          },
          "metadata": {},
          "execution_count": 13
        }
      ],
      "id": "XRj3NUCiZaVe"
    },
    {
      "cell_type": "code",
      "source": [
        "# define lemmatizer, good symbols and stopwords\n",
        "stemmer = WordNetLemmatizer()\n",
        "\n",
        "GOOD_SYMBOLS_RE = re.compile('[^0-9a-z]')\n",
        "try:\n",
        "    STOPWORDS = set(stopwords.words('english'))\n",
        "except LookupError:\n",
        "    nltk.download('stopwords')\n",
        "    STOPWORDS = set(stopwords.words('english'))"
      ],
      "metadata": {
        "colab": {
          "base_uri": "https://localhost:8080/"
        },
        "outputId": "1f8d5015-435e-43d1-d317-25e725c33d18",
        "id": "8lKh-r7OZfUL"
      },
      "execution_count": null,
      "outputs": [
        {
          "output_type": "stream",
          "name": "stderr",
          "text": [
            "[nltk_data] Downloading package stopwords to /root/nltk_data...\n",
            "[nltk_data]   Unzipping corpora/stopwords.zip.\n"
          ]
        }
      ],
      "id": "8lKh-r7OZfUL"
    },
    {
      "cell_type": "code",
      "source": [
        "def filter_out_uncommon_symbols(text: str) -> str:\n",
        "    \"\"\"\n",
        "    Removes any special character that is not in the good symbols list (check regular expression)\n",
        "    \"\"\"\n",
        "    return GOOD_SYMBOLS_RE.sub(' ', text)\n",
        "\n",
        "def remove_stopwords(text: str) -> str:\n",
        "    return ' '.join([x for x in text.split() if x and x not in STOPWORDS])\n",
        "\n",
        "def strip_text(text: str) -> str:\n",
        "    \"\"\"\n",
        "    Removes any left or right spacing (including carriage return) from text.\n",
        "    \"\"\"\n",
        "    return text.strip()\n",
        "\n",
        "def lemmatiz(text: str) -> str:\n",
        "    \n",
        "    return ' '.join([stemmer.lemmatize(x) for x in text.split()])"
      ],
      "metadata": {
        "id": "lAo235m9ZjUo"
      },
      "execution_count": null,
      "outputs": [],
      "id": "lAo235m9ZjUo"
    },
    {
      "cell_type": "code",
      "source": [
        "PREPROCESSING_PIPELINE = [\n",
        "                          filter_out_uncommon_symbols,\n",
        "                          remove_stopwords,\n",
        "                          strip_text,\n",
        "                          lemmatiz\n",
        "                          ]\n",
        "\n",
        "def text_prepare(text: str,\n",
        "                 filter_methods: List[Callable[[str], str]] = None) -> str:\n",
        "    \"\"\"\n",
        "    Applies a list of pre-processing functions in sequence (reduce).\n",
        "    \"\"\"\n",
        "    filter_methods = filter_methods if filter_methods is not None else PREPROCESSING_PIPELINE\n",
        "    return reduce(lambda txt, f: f(txt), filter_methods, text)"
      ],
      "metadata": {
        "id": "_s5EojsFZnRf"
      },
      "execution_count": null,
      "outputs": [],
      "id": "_s5EojsFZnRf"
    },
    {
      "cell_type": "code",
      "source": [
        "# take the original df\n",
        "x1 = X_train.copy()\n",
        "x2 = X_val.copy()\n",
        "x3 = X_test.copy()"
      ],
      "metadata": {
        "id": "ymoN-HrwZrIU"
      },
      "execution_count": null,
      "outputs": [],
      "id": "ymoN-HrwZrIU"
    },
    {
      "cell_type": "code",
      "source": [
        "# apply preprocessing\n",
        "\n",
        "x1.premise = x1.premise.apply(lambda txt: text_prepare(txt))\n",
        "x2.premise = x2.premise.apply(lambda txt: text_prepare(txt))\n",
        "x3.premise = x3.premise.apply(lambda txt: text_prepare(txt))\n",
        "\n",
        "x1.conclusion = x1.conclusion.apply(lambda txt: text_prepare(txt))\n",
        "x2.conclusion = x2.conclusion.apply(lambda txt: text_prepare(txt))\n",
        "x3.conclusion = x3.conclusion.apply(lambda txt: text_prepare(txt))"
      ],
      "metadata": {
        "id": "aF6C_Be0Zvr3"
      },
      "execution_count": null,
      "outputs": [],
      "id": "aF6C_Be0Zvr3"
    },
    {
      "cell_type": "code",
      "execution_count": null,
      "metadata": {
        "colab": {
          "base_uri": "https://localhost:8080/",
          "height": 206
        },
        "outputId": "a4668542-3de0-45c9-daa2-e77f5ebff24d",
        "id": "kbPiXEZKZ11K"
      },
      "outputs": [
        {
          "output_type": "execute_result",
          "data": {
            "text/plain": [
              "                                                text  \\\n",
              "0  ban human cloning cause huge issue bunch human...   \n",
              "1  fast food banned really bad health costly in f...   \n",
              "2  sometimes economic sanction thing get corrupt ...   \n",
              "3  capital punishment sometimes option keep crimi...   \n",
              "4  factory farming allows production cheap food n...   \n",
              "\n",
              "                                              labels  \n",
              "0  [0, 0, 0, 0, 0, 0, 0, 0, 0, 1, 0, 0, 0, 0, 0, ...  \n",
              "1  [0, 0, 0, 0, 0, 0, 0, 0, 1, 0, 0, 0, 0, 0, 0, ...  \n",
              "2  [0, 0, 0, 0, 0, 1, 0, 0, 0, 1, 0, 0, 0, 0, 0, ...  \n",
              "3  [0, 0, 0, 0, 0, 0, 0, 0, 0, 1, 0, 1, 0, 0, 0, ...  \n",
              "4  [0, 0, 0, 0, 0, 0, 0, 0, 1, 0, 0, 0, 0, 0, 1, ...  "
            ],
            "text/html": [
              "\n",
              "  <div id=\"df-fc1abb98-bfa3-4656-b0c6-0854d238997d\">\n",
              "    <div class=\"colab-df-container\">\n",
              "      <div>\n",
              "<style scoped>\n",
              "    .dataframe tbody tr th:only-of-type {\n",
              "        vertical-align: middle;\n",
              "    }\n",
              "\n",
              "    .dataframe tbody tr th {\n",
              "        vertical-align: top;\n",
              "    }\n",
              "\n",
              "    .dataframe thead th {\n",
              "        text-align: right;\n",
              "    }\n",
              "</style>\n",
              "<table border=\"1\" class=\"dataframe\">\n",
              "  <thead>\n",
              "    <tr style=\"text-align: right;\">\n",
              "      <th></th>\n",
              "      <th>text</th>\n",
              "      <th>labels</th>\n",
              "    </tr>\n",
              "  </thead>\n",
              "  <tbody>\n",
              "    <tr>\n",
              "      <th>0</th>\n",
              "      <td>ban human cloning cause huge issue bunch human...</td>\n",
              "      <td>[0, 0, 0, 0, 0, 0, 0, 0, 0, 1, 0, 0, 0, 0, 0, ...</td>\n",
              "    </tr>\n",
              "    <tr>\n",
              "      <th>1</th>\n",
              "      <td>fast food banned really bad health costly in f...</td>\n",
              "      <td>[0, 0, 0, 0, 0, 0, 0, 0, 1, 0, 0, 0, 0, 0, 0, ...</td>\n",
              "    </tr>\n",
              "    <tr>\n",
              "      <th>2</th>\n",
              "      <td>sometimes economic sanction thing get corrupt ...</td>\n",
              "      <td>[0, 0, 0, 0, 0, 1, 0, 0, 0, 1, 0, 0, 0, 0, 0, ...</td>\n",
              "    </tr>\n",
              "    <tr>\n",
              "      <th>3</th>\n",
              "      <td>capital punishment sometimes option keep crimi...</td>\n",
              "      <td>[0, 0, 0, 0, 0, 0, 0, 0, 0, 1, 0, 1, 0, 0, 0, ...</td>\n",
              "    </tr>\n",
              "    <tr>\n",
              "      <th>4</th>\n",
              "      <td>factory farming allows production cheap food n...</td>\n",
              "      <td>[0, 0, 0, 0, 0, 0, 0, 0, 1, 0, 0, 0, 0, 0, 1, ...</td>\n",
              "    </tr>\n",
              "  </tbody>\n",
              "</table>\n",
              "</div>\n",
              "      <button class=\"colab-df-convert\" onclick=\"convertToInteractive('df-fc1abb98-bfa3-4656-b0c6-0854d238997d')\"\n",
              "              title=\"Convert this dataframe to an interactive table.\"\n",
              "              style=\"display:none;\">\n",
              "        \n",
              "  <svg xmlns=\"http://www.w3.org/2000/svg\" height=\"24px\"viewBox=\"0 0 24 24\"\n",
              "       width=\"24px\">\n",
              "    <path d=\"M0 0h24v24H0V0z\" fill=\"none\"/>\n",
              "    <path d=\"M18.56 5.44l.94 2.06.94-2.06 2.06-.94-2.06-.94-.94-2.06-.94 2.06-2.06.94zm-11 1L8.5 8.5l.94-2.06 2.06-.94-2.06-.94L8.5 2.5l-.94 2.06-2.06.94zm10 10l.94 2.06.94-2.06 2.06-.94-2.06-.94-.94-2.06-.94 2.06-2.06.94z\"/><path d=\"M17.41 7.96l-1.37-1.37c-.4-.4-.92-.59-1.43-.59-.52 0-1.04.2-1.43.59L10.3 9.45l-7.72 7.72c-.78.78-.78 2.05 0 2.83L4 21.41c.39.39.9.59 1.41.59.51 0 1.02-.2 1.41-.59l7.78-7.78 2.81-2.81c.8-.78.8-2.07 0-2.86zM5.41 20L4 18.59l7.72-7.72 1.47 1.35L5.41 20z\"/>\n",
              "  </svg>\n",
              "      </button>\n",
              "      \n",
              "  <style>\n",
              "    .colab-df-container {\n",
              "      display:flex;\n",
              "      flex-wrap:wrap;\n",
              "      gap: 12px;\n",
              "    }\n",
              "\n",
              "    .colab-df-convert {\n",
              "      background-color: #E8F0FE;\n",
              "      border: none;\n",
              "      border-radius: 50%;\n",
              "      cursor: pointer;\n",
              "      display: none;\n",
              "      fill: #1967D2;\n",
              "      height: 32px;\n",
              "      padding: 0 0 0 0;\n",
              "      width: 32px;\n",
              "    }\n",
              "\n",
              "    .colab-df-convert:hover {\n",
              "      background-color: #E2EBFA;\n",
              "      box-shadow: 0px 1px 2px rgba(60, 64, 67, 0.3), 0px 1px 3px 1px rgba(60, 64, 67, 0.15);\n",
              "      fill: #174EA6;\n",
              "    }\n",
              "\n",
              "    [theme=dark] .colab-df-convert {\n",
              "      background-color: #3B4455;\n",
              "      fill: #D2E3FC;\n",
              "    }\n",
              "\n",
              "    [theme=dark] .colab-df-convert:hover {\n",
              "      background-color: #434B5C;\n",
              "      box-shadow: 0px 1px 3px 1px rgba(0, 0, 0, 0.15);\n",
              "      filter: drop-shadow(0px 1px 2px rgba(0, 0, 0, 0.3));\n",
              "      fill: #FFFFFF;\n",
              "    }\n",
              "  </style>\n",
              "\n",
              "      <script>\n",
              "        const buttonEl =\n",
              "          document.querySelector('#df-fc1abb98-bfa3-4656-b0c6-0854d238997d button.colab-df-convert');\n",
              "        buttonEl.style.display =\n",
              "          google.colab.kernel.accessAllowed ? 'block' : 'none';\n",
              "\n",
              "        async function convertToInteractive(key) {\n",
              "          const element = document.querySelector('#df-fc1abb98-bfa3-4656-b0c6-0854d238997d');\n",
              "          const dataTable =\n",
              "            await google.colab.kernel.invokeFunction('convertToInteractive',\n",
              "                                                     [key], {});\n",
              "          if (!dataTable) return;\n",
              "\n",
              "          const docLinkHtml = 'Like what you see? Visit the ' +\n",
              "            '<a target=\"_blank\" href=https://colab.research.google.com/notebooks/data_table.ipynb>data table notebook</a>'\n",
              "            + ' to learn more about interactive tables.';\n",
              "          element.innerHTML = '';\n",
              "          dataTable['output_type'] = 'display_data';\n",
              "          await google.colab.output.renderOutput(dataTable, element);\n",
              "          const docLink = document.createElement('div');\n",
              "          docLink.innerHTML = docLinkHtml;\n",
              "          element.appendChild(docLink);\n",
              "        }\n",
              "      </script>\n",
              "    </div>\n",
              "  </div>\n",
              "  "
            ]
          },
          "metadata": {},
          "execution_count": 19
        }
      ],
      "source": [
        "# create new dataframe with the text preprocessed\n",
        "\n",
        "x1['text'] = x1.premise + ' ' + x1.stance + ' ' + x1.conclusion\n",
        "x2['text'] = x2.premise + ' ' + x2.stance + ' ' + x2.conclusion\n",
        "x3['text'] = x3.premise + ' ' + x3.stance + ' ' + x3.conclusion\n",
        "\n",
        "x1[\"labels\"] = [y_train.iloc[n].values for n in range(len(y_train))]\n",
        "x2[\"labels\"] = [y_val.iloc[n].values for n in range(len(y_val))]\n",
        "\n",
        "x1[['text', 'labels']].head()\n",
        "\n"
      ],
      "id": "kbPiXEZKZ11K"
    },
    {
      "cell_type": "markdown",
      "source": [
        "Y_train = y_train.set_index('Argument ID')\n",
        "Y_val = y_val.set_index('Argument ID')"
      ],
      "metadata": {
        "id": "r_YdFAaiZ51A"
      },
      "id": "r_YdFAaiZ51A"
    },
    {
      "cell_type": "markdown",
      "source": [
        "## LSTM"
      ],
      "metadata": {
        "id": "K4rutVkl3NYj"
      },
      "id": "K4rutVkl3NYj"
    },
    {
      "cell_type": "markdown",
      "source": [
        "###Tokenizer"
      ],
      "metadata": {
        "id": "a1r1kdQpbskg"
      },
      "id": "a1r1kdQpbskg"
    },
    {
      "cell_type": "code",
      "source": [
        "from keras.preprocessing.text import Tokenizer\n",
        "from keras.utils import pad_sequences\n",
        "import gensim\n",
        "import gensim.downloader as gloader"
      ],
      "metadata": {
        "id": "EtLbMVmS3Q93"
      },
      "id": "EtLbMVmS3Q93",
      "execution_count": null,
      "outputs": []
    },
    {
      "cell_type": "code",
      "source": [
        "# initialize tokenizer and feed with train set\n",
        "\n",
        "tok = Tokenizer(num_words=5000)\n",
        "tok.fit_on_texts(x1.text)\n",
        "\n",
        "X1 = tok.texts_to_sequences(x1.text)\n",
        "X2 = tok.texts_to_sequences(x2.text)\n",
        "\n",
        "vocab_size = len(tok.word_index) + 1\n",
        "\n",
        "maxlen = 200\n",
        "\n",
        "X1 = pad_sequences(X1, padding='post', maxlen=maxlen)\n",
        "X2 = pad_sequences(X2, padding='post', maxlen=maxlen)"
      ],
      "metadata": {
        "id": "J9BIiGBu4hKQ"
      },
      "id": "J9BIiGBu4hKQ",
      "execution_count": null,
      "outputs": []
    },
    {
      "cell_type": "code",
      "source": [
        "# initialize GloVe word embeddings\n",
        "\n",
        "embedding_dimension = 100 \n",
        "# download and load the vocabulary glove\n",
        "download_path = \"glove-wiki-gigaword-{}\".format(embedding_dimension)\n",
        "embedding_model = gloader.load(download_path)\n",
        "\n",
        "# assign word vectors from glove model\n",
        "\n",
        "vocab_size = len(tok.word_index) + 1\n",
        "\n",
        "# create an empty embedding matix\n",
        "embedding_vector = np.zeros((vocab_size, embedding_dimension))\n",
        "\n",
        "# create a word to index dictionary mapping\n",
        "word2id = tok.word_index\n",
        "\n",
        "# copy vectors from glove model to the words present in corpus, OOV words set to 0\n",
        "for word, index in word2id.items():\n",
        "    try:\n",
        "        embedding_vector[index] = embedding_model[word]\n",
        "    except KeyError:\n",
        "        embedding_vector [index] = np.zeros(embedding_dimension) "
      ],
      "metadata": {
        "id": "1MNCdfaV7JNa",
        "colab": {
          "base_uri": "https://localhost:8080/"
        },
        "outputId": "a26656e9-0844-4a73-f9ae-4b7868e873b6"
      },
      "id": "1MNCdfaV7JNa",
      "execution_count": null,
      "outputs": [
        {
          "output_type": "stream",
          "name": "stdout",
          "text": [
            "[==================================================] 100.0% 128.1/128.1MB downloaded\n"
          ]
        }
      ]
    },
    {
      "cell_type": "markdown",
      "source": [
        "### Model"
      ],
      "metadata": {
        "id": "xIwvmi-kbuzK"
      },
      "id": "xIwvmi-kbuzK"
    },
    {
      "cell_type": "code",
      "source": [
        "from keras.layers.core import Activation, Dropout, Dense\n",
        "from keras.layers import Flatten, LSTM,Embedding, Input\n",
        "from keras.models import Model\n",
        "from keras.utils import plot_model"
      ],
      "metadata": {
        "id": "D_gCz8EX7i0i"
      },
      "id": "D_gCz8EX7i0i",
      "execution_count": null,
      "outputs": []
    },
    {
      "cell_type": "code",
      "source": [
        "# define model\n",
        "\n",
        "deep_inputs = Input(shape=(maxlen,))\n",
        "embedding_layer = Embedding(vocab_size, 100, weights=[embedding_vector], trainable=False)(deep_inputs)\n",
        "LSTM_Layer_1 = LSTM(128)(embedding_layer)\n",
        "dense_layer_1 = Dense(20, activation='sigmoid')(LSTM_Layer_1)\n",
        "model = Model(inputs=deep_inputs, outputs=dense_layer_1)\n",
        "\n",
        "model.compile(loss='binary_crossentropy', optimizer='adam', metrics=['acc'])"
      ],
      "metadata": {
        "id": "u6_bBLpL52VD"
      },
      "id": "u6_bBLpL52VD",
      "execution_count": null,
      "outputs": []
    },
    {
      "cell_type": "code",
      "source": [
        "print(model.summary())"
      ],
      "metadata": {
        "colab": {
          "base_uri": "https://localhost:8080/"
        },
        "id": "z725AGhm52XO",
        "outputId": "ad7c20df-a6d2-4077-cdf7-fb773f0c8da5"
      },
      "id": "z725AGhm52XO",
      "execution_count": null,
      "outputs": [
        {
          "output_type": "stream",
          "name": "stdout",
          "text": [
            "Model: \"model\"\n",
            "_________________________________________________________________\n",
            " Layer (type)                Output Shape              Param #   \n",
            "=================================================================\n",
            " input_1 (InputLayer)        [(None, 200)]             0         \n",
            "                                                                 \n",
            " embedding (Embedding)       (None, 200, 100)          678200    \n",
            "                                                                 \n",
            " lstm (LSTM)                 (None, 128)               117248    \n",
            "                                                                 \n",
            " dense (Dense)               (None, 20)                2580      \n",
            "                                                                 \n",
            "=================================================================\n",
            "Total params: 798,028\n",
            "Trainable params: 119,828\n",
            "Non-trainable params: 678,200\n",
            "_________________________________________________________________\n",
            "None\n"
          ]
        }
      ]
    },
    {
      "cell_type": "code",
      "source": [
        "plot_model(model, show_shapes=True, show_layer_names=True)"
      ],
      "metadata": {
        "colab": {
          "base_uri": "https://localhost:8080/"
        },
        "id": "SY3SjbOD6vxi",
        "outputId": "0bc1865e-e993-4be9-f42f-ec44b6d7bcd1"
      },
      "id": "SY3SjbOD6vxi",
      "execution_count": null,
      "outputs": [
        {
          "output_type": "execute_result",
          "data": {
            "image/png": "[encoded data removed]",
            "text/plain": [
              "<IPython.core.display.Image object>"
            ]
          },
          "metadata": {},
          "execution_count": 64
        }
      ]
    },
    {
      "cell_type": "code",
      "source": [
        "y1 = y_train.values\n",
        "y2 = y_val.values"
      ],
      "metadata": {
        "id": "VZ-pydDw8giv"
      },
      "id": "VZ-pydDw8giv",
      "execution_count": null,
      "outputs": []
    },
    {
      "cell_type": "code",
      "source": [
        "# fit the model\n",
        "\n",
        "history = model.fit(X1, y1, batch_size=64, epochs=20, verbose='auto', validation_data=(X2,y2))"
      ],
      "metadata": {
        "colab": {
          "base_uri": "https://localhost:8080/"
        },
        "id": "UMukhR_m6v0B",
        "outputId": "cc2a2a2a-5af4-4a16-c63e-2c2d16d0699e"
      },
      "execution_count": null,
      "outputs": [
        {
          "output_type": "stream",
          "name": "stdout",
          "text": [
            "Epoch 1/20\n",
            "85/85 [==============================] - 50s 25ms/step - loss: 0.4496 - acc: 0.0545 - val_loss: 0.4116 - val_acc: 0.1524\n",
            "Epoch 2/20\n",
            "85/85 [==============================] - 1s 17ms/step - loss: 0.4165 - acc: 0.0775 - val_loss: 0.4100 - val_acc: 0.1524\n",
            "Epoch 3/20\n",
            "85/85 [==============================] - 1s 13ms/step - loss: 0.4162 - acc: 0.0579 - val_loss: 0.4126 - val_acc: 0.1524\n",
            "Epoch 4/20\n",
            "85/85 [==============================] - 1s 13ms/step - loss: 0.4158 - acc: 0.0736 - val_loss: 0.4116 - val_acc: 0.0153\n",
            "Epoch 5/20\n",
            "85/85 [==============================] - 1s 14ms/step - loss: 0.4160 - acc: 0.0534 - val_loss: 0.4098 - val_acc: 0.0153\n",
            "Epoch 6/20\n",
            "85/85 [==============================] - 1s 14ms/step - loss: 0.4159 - acc: 0.0579 - val_loss: 0.4111 - val_acc: 0.0153\n",
            "Epoch 7/20\n",
            "85/85 [==============================] - 2s 19ms/step - loss: 0.4159 - acc: 0.0473 - val_loss: 0.4103 - val_acc: 0.0153\n",
            "Epoch 8/20\n",
            "85/85 [==============================] - 2s 18ms/step - loss: 0.4160 - acc: 0.0773 - val_loss: 0.4108 - val_acc: 0.0153\n",
            "Epoch 9/20\n",
            "85/85 [==============================] - 1s 14ms/step - loss: 0.4158 - acc: 0.0653 - val_loss: 0.4101 - val_acc: 0.0153\n",
            "Epoch 10/20\n",
            "85/85 [==============================] - 1s 16ms/step - loss: 0.4160 - acc: 0.0317 - val_loss: 0.4119 - val_acc: 0.1524\n",
            "Epoch 11/20\n",
            "85/85 [==============================] - 2s 19ms/step - loss: 0.4159 - acc: 0.0536 - val_loss: 0.4109 - val_acc: 0.1524\n",
            "Epoch 12/20\n",
            "85/85 [==============================] - 1s 15ms/step - loss: 0.4157 - acc: 0.0619 - val_loss: 0.4110 - val_acc: 0.0153\n",
            "Epoch 13/20\n",
            "85/85 [==============================] - 1s 13ms/step - loss: 0.4159 - acc: 0.0508 - val_loss: 0.4110 - val_acc: 0.0153\n",
            "Epoch 14/20\n",
            "85/85 [==============================] - 1s 13ms/step - loss: 0.4157 - acc: 0.0660 - val_loss: 0.4114 - val_acc: 0.0153\n",
            "Epoch 15/20\n",
            "85/85 [==============================] - 1s 14ms/step - loss: 0.4158 - acc: 0.0632 - val_loss: 0.4121 - val_acc: 0.0153\n",
            "Epoch 16/20\n",
            "85/85 [==============================] - 1s 13ms/step - loss: 0.4157 - acc: 0.0460 - val_loss: 0.4114 - val_acc: 0.0153\n",
            "Epoch 17/20\n",
            "85/85 [==============================] - 2s 18ms/step - loss: 0.4156 - acc: 0.0647 - val_loss: 0.4130 - val_acc: 0.0153\n",
            "Epoch 18/20\n",
            "85/85 [==============================] - 2s 22ms/step - loss: 0.4158 - acc: 0.0528 - val_loss: 0.4107 - val_acc: 0.1524\n",
            "Epoch 19/20\n",
            "85/85 [==============================] - 2s 27ms/step - loss: 0.4157 - acc: 0.0708 - val_loss: 0.4111 - val_acc: 0.1524\n",
            "Epoch 20/20\n",
            "85/85 [==============================] - 3s 34ms/step - loss: 0.4158 - acc: 0.0482 - val_loss: 0.4112 - val_acc: 0.1524\n"
          ]
        }
      ],
      "id": "UMukhR_m6v0B"
    },
    {
      "cell_type": "markdown",
      "source": [
        "### Plot"
      ],
      "metadata": {
        "id": "pQrT9kPQb7dO"
      },
      "id": "pQrT9kPQb7dO"
    },
    {
      "cell_type": "code",
      "source": [
        "import matplotlib.pyplot as plt\n",
        "\n",
        "# plot accuracy and loss\n",
        "\n",
        "plt.plot(history.history['acc'], '-ro')\n",
        "plt.plot(history.history['val_acc'], '-bo')\n",
        "\n",
        "plt.title('model accuracy')\n",
        "plt.ylabel('accuracy')\n",
        "plt.xlabel('epoch')\n",
        "plt.legend(['train','val'], loc='upper left')\n",
        "plt.show()\n",
        "\n",
        "plt.plot(history.history['loss'], '-ro')\n",
        "plt.plot(history.history['val_loss'], '-bo')\n",
        "\n",
        "plt.title('model loss')\n",
        "plt.ylabel('loss')\n",
        "plt.xlabel('epoch')\n",
        "plt.legend(['train','val'], loc='upper left')\n",
        "plt.show()"
      ],
      "metadata": {
        "colab": {
          "base_uri": "https://localhost:8080/",
          "height": 573
        },
        "id": "4c5yibDW3Rdw",
        "outputId": "6570ae68-2291-4eaf-9dcf-a16c605ea541"
      },
      "execution_count": null,
      "outputs": [
        {
          "output_type": "display_data",
          "data": {
            "text/plain": [
              "<Figure size 432x288 with 1 Axes>"
            ],
            "image/png": "[encoded data removed]"
          },
          "metadata": {
            "needs_background": "light"
          }
        },
        {
          "output_type": "display_data",
          "data": {
            "text/plain": [
              "<Figure size 432x288 with 1 Axes>"
            ],
            "image/png": "[encoded data removed]"
          },
          "metadata": {
            "needs_background": "light"
          }
        }
      ],
      "id": "4c5yibDW3Rdw"
    },
    {
      "cell_type": "markdown",
      "source": [
        "we can see that the accuracy, in particular for the validation set, it's not linear. It is always around 2 value and fluctuates between this two, btw the max accuracy is around 15%\n",
        "\n",
        "The loss value is always around the same value, no big change"
      ],
      "metadata": {
        "id": "fouVPRk7Dr7G"
      },
      "id": "fouVPRk7Dr7G"
    },
    {
      "cell_type": "markdown",
      "source": [
        "## Scikit-multilearn"
      ],
      "metadata": {
        "id": "UUzUkzLbRU4b"
      },
      "id": "UUzUkzLbRU4b"
    },
    {
      "cell_type": "markdown",
      "source": [
        "###Vectorizer"
      ],
      "metadata": {
        "id": "bniQ0wDeV2yT"
      },
      "id": "bniQ0wDeV2yT"
    },
    {
      "cell_type": "code",
      "source": [
        "pip install scikit-multilearn"
      ],
      "metadata": {
        "id": "nC10LkxGV55y",
        "colab": {
          "base_uri": "https://localhost:8080/"
        },
        "outputId": "292e7749-c71d-4cbf-f990-5ff5c7727af1"
      },
      "execution_count": null,
      "outputs": [
        {
          "output_type": "stream",
          "name": "stdout",
          "text": [
            "Looking in indexes: https://pypi.org/simple, https://us-python.pkg.dev/colab-wheels/public/simple/\n",
            "Collecting scikit-multilearn\n",
            "  Downloading scikit_multilearn-0.2.0-py3-none-any.whl (89 kB)\n",
            "\u001b[2K     \u001b[90m━━━━━━━━━━━━━━━━━━━━━━━━━━━━━━━━━━━━━━━━\u001b[0m \u001b[32m89.4/89.4 KB\u001b[0m \u001b[31m5.5 MB/s\u001b[0m eta \u001b[36m0:00:00\u001b[0m\n",
            "\u001b[?25hInstalling collected packages: scikit-multilearn\n",
            "Successfully installed scikit-multilearn-0.2.0\n"
          ]
        }
      ],
      "id": "nC10LkxGV55y"
    },
    {
      "cell_type": "code",
      "source": [
        "from sklearn.feature_extraction.text import TfidfVectorizer"
      ],
      "metadata": {
        "id": "ovOiAx1KV55y"
      },
      "execution_count": null,
      "outputs": [],
      "id": "ovOiAx1KV55y"
    },
    {
      "cell_type": "code",
      "source": [
        "tfidf = TfidfVectorizer()"
      ],
      "metadata": {
        "id": "-SX8rWeJV55y"
      },
      "execution_count": null,
      "outputs": [],
      "id": "-SX8rWeJV55y"
    },
    {
      "cell_type": "code",
      "source": [
        "xfeatures_train = tfidf.fit_transform(x1.text).toarray()\n",
        "xfeatures_train"
      ],
      "metadata": {
        "colab": {
          "base_uri": "https://localhost:8080/"
        },
        "outputId": "f403d75a-949a-4063-f79a-0a4637632558",
        "id": "9KVtCZLvV55y"
      },
      "execution_count": null,
      "outputs": [
        {
          "output_type": "execute_result",
          "data": {
            "text/plain": [
              "array([[0., 0., 0., ..., 0., 0., 0.],\n",
              "       [0., 0., 0., ..., 0., 0., 0.],\n",
              "       [0., 0., 0., ..., 0., 0., 0.],\n",
              "       ...,\n",
              "       [0., 0., 0., ..., 0., 0., 0.],\n",
              "       [0., 0., 0., ..., 0., 0., 0.],\n",
              "       [0., 0., 0., ..., 0., 0., 0.]])"
            ]
          },
          "metadata": {},
          "execution_count": 23
        }
      ],
      "id": "9KVtCZLvV55y"
    },
    {
      "cell_type": "code",
      "source": [
        "xfeatures_val = tfidf.transform(x2.text)\n",
        "xfeatures_test = tfidf.transform(x3.text)"
      ],
      "metadata": {
        "id": "K2x_Rh9TV55z"
      },
      "execution_count": null,
      "outputs": [],
      "id": "K2x_Rh9TV55z"
    },
    {
      "cell_type": "markdown",
      "source": [
        "###Model"
      ],
      "metadata": {
        "id": "0jIHuksVV0Dw"
      },
      "id": "0jIHuksVV0Dw"
    },
    {
      "cell_type": "code",
      "source": [
        "from sklearn.metrics import accuracy_score, hamming_loss\n",
        "from skmultilearn.problem_transform import LabelPowerset, BinaryRelevance, ClassifierChain\n",
        "from sklearn.linear_model import LogisticRegression\n",
        "from sklearn.naive_bayes import MultinomialNB\n",
        "from sklearn.multiclass import OneVsRestClassifier\n",
        "import matplotlib.pyplot as plt"
      ],
      "metadata": {
        "id": "__gxIjj5H4ri"
      },
      "id": "__gxIjj5H4ri",
      "execution_count": null,
      "outputs": []
    },
    {
      "cell_type": "code",
      "source": [
        "# function to build differe model\n",
        "\n",
        "def build_model(model,mlb_estimator,xtrain,ytrain,xtest,ytest):\n",
        "    clf = mlb_estimator(model)\n",
        "    print(clf)\n",
        "    clf.fit(xtrain,ytrain)\n",
        "    clf_predictions = clf.predict(xtest)\n",
        "    acc = accuracy_score(ytest,clf_predictions)\n",
        "    ham = hamming_loss(ytest,clf_predictions)\n",
        "    result = {\"accuracy\":acc,\"hamming_score\":ham}\n",
        "    return result"
      ],
      "metadata": {
        "id": "Q2aqMJF3asgw"
      },
      "id": "Q2aqMJF3asgw",
      "execution_count": null,
      "outputs": []
    },
    {
      "cell_type": "code",
      "source": [
        "alpha = [1, 0.5, 1.0e-10]\n",
        "classifier = [BinaryRelevance, ClassifierChain, LabelPowerset]"
      ],
      "metadata": {
        "id": "s21U7zJP6t5q"
      },
      "id": "s21U7zJP6t5q",
      "execution_count": null,
      "outputs": []
    },
    {
      "cell_type": "code",
      "source": [
        "fig, ax = plt.subplots(2)\n",
        "\n",
        "for j in classifier:\n",
        "  acc = []\n",
        "  hs = []\n",
        "  for a in alpha:\n",
        "    clf_model = build_model(MultinomialNB(alpha=a), j, xfeatures_train,y_train,xfeatures_val,y_val)\n",
        "    acc.append(clf_model[\"accuracy\"])\n",
        "    hs.append(clf_model[\"hamming_score\"])\n",
        "\n",
        "  ax[0].plot(alpha, acc, 'o-', label= str(j).split('.')[-1].split(\"'\")[0])\n",
        "  ax[1].plot(alpha, hs, 'o-', label= str(j).split('.')[-1].split(\"'\")[0])\n",
        "\n",
        "ax[0].set(xlabel='alpha', ylabel='accuracy', xticks=alpha)\n",
        "ax[0].legend(loc='upper left', bbox_to_anchor=(1.2,1.5))\n",
        "\n",
        "ax[1].set(xlabel='alpha', ylabel='hamming_score', xticks=alpha)\n",
        "ax[1].legend(loc='upper left', bbox_to_anchor=(1.2,1.5))\n",
        "\n",
        "plt.show()"
      ],
      "metadata": {
        "colab": {
          "base_uri": "https://localhost:8080/",
          "height": 515
        },
        "id": "TGQ-UoD47Lf6",
        "outputId": "221f05ed-f594-4f2a-83c1-f8e199d03465"
      },
      "id": "TGQ-UoD47Lf6",
      "execution_count": null,
      "outputs": [
        {
          "output_type": "stream",
          "name": "stdout",
          "text": [
            "BinaryRelevance(classifier=MultinomialNB(alpha=1), require_dense=[True, True])\n",
            "BinaryRelevance(classifier=MultinomialNB(alpha=0.5), require_dense=[True, True])\n",
            "BinaryRelevance(classifier=MultinomialNB(alpha=1e-10),\n",
            "                require_dense=[True, True])\n",
            "ClassifierChain(classifier=MultinomialNB(alpha=1), require_dense=[True, True])\n",
            "ClassifierChain(classifier=MultinomialNB(alpha=0.5), require_dense=[True, True])\n",
            "ClassifierChain(classifier=MultinomialNB(alpha=1e-10),\n",
            "                require_dense=[True, True])\n",
            "LabelPowerset(classifier=MultinomialNB(alpha=1), require_dense=[True, True])\n",
            "LabelPowerset(classifier=MultinomialNB(alpha=0.5), require_dense=[True, True])\n",
            "LabelPowerset(classifier=MultinomialNB(alpha=1e-10), require_dense=[True, True])\n"
          ]
        },
        {
          "output_type": "display_data",
          "data": {
            "text/plain": [
              "<Figure size 432x288 with 2 Axes>"
            ],
            "image/png": "[encoded data removed]"
          },
          "metadata": {
            "needs_background": "light"
          }
        }
      ]
    },
    {
      "cell_type": "markdown",
      "source": [
        "We can see that the value for the 3 classifier with different alpha are almost the same. For the accuracy the ClassifierChain performs better, while for the hamming_loss the LabelPowerset is slightly worse."
      ],
      "metadata": {
        "id": "YDlvmmJxHdd6"
      },
      "id": "YDlvmmJxHdd6"
    },
    {
      "cell_type": "markdown",
      "source": [
        "##OneVsRestClassifier"
      ],
      "metadata": {
        "id": "LxwEZFPAdHN1"
      },
      "id": "LxwEZFPAdHN1"
    },
    {
      "cell_type": "code",
      "source": [
        "from sklearn.feature_extraction.text import TfidfVectorizer\n",
        "from sklearn.naive_bayes import MultinomialNB\n",
        "from sklearn.pipeline import Pipeline\n",
        "from sklearn.multiclass import OneVsRestClassifier\n",
        "from sklearn.metrics import accuracy_score, hamming_loss\n",
        "from sklearn.svm import LinearSVC\n",
        "from sklearn.linear_model import LogisticRegression"
      ],
      "metadata": {
        "id": "HQRwRT7edvt0"
      },
      "id": "HQRwRT7edvt0",
      "execution_count": null,
      "outputs": []
    },
    {
      "cell_type": "markdown",
      "source": [
        "###Model"
      ],
      "metadata": {
        "id": "hQ20lBblRcS1"
      },
      "id": "hQ20lBblRcS1"
    },
    {
      "cell_type": "code",
      "source": [
        "# Define a pipeline combining a text feature extractor with multi lable classifier\n",
        "NB_pipeline = Pipeline([\n",
        "                ('tfidf', TfidfVectorizer()),\n",
        "                ('clf', OneVsRestClassifier(MultinomialNB(\n",
        "                    fit_prior=True, class_prior=None))),\n",
        "            ])\n",
        "\n",
        "acc = []\n",
        "hl = []\n",
        "\n",
        "for category in LABEL_COLUMNS:\n",
        "    # train the model using X_dtm & y\n",
        "    NB_pipeline.fit(x1.text, y_train[category])\n",
        "    # compute the testing accuracy\n",
        "    prediction = NB_pipeline.predict(x2.text)\n",
        "    acc.append(accuracy_score(y_val[category], prediction))\n",
        "    hl.append(hamming_loss(y_val[category], prediction))\n",
        "\n",
        "\n",
        "plt.plot(LABEL_COLUMNS, acc, 'o-', label = 'accuracy')\n",
        "plt.plot(LABEL_COLUMNS, hl, 'o-', label= 'hamming_score')\n",
        "plt.xticks(rotation=90)\n",
        "plt.legend(loc='upper left')\n",
        "plt.show()"
      ],
      "metadata": {
        "colab": {
          "base_uri": "https://localhost:8080/",
          "height": 395
        },
        "id": "rdGFBglIdItl",
        "outputId": "80a79cbd-5925-4fd7-adae-ee546b7434fa"
      },
      "id": "rdGFBglIdItl",
      "execution_count": null,
      "outputs": [
        {
          "output_type": "display_data",
          "data": {
            "text/plain": [
              "<Figure size 432x288 with 1 Axes>"
            ],
            "image/png": "[encoded data removed]"
          },
          "metadata": {
            "needs_background": "light"
          }
        }
      ]
    },
    {
      "cell_type": "markdown",
      "source": [
        "We can see that this type of training has a very high accuracy, almost 0.9 for every label, and an hamming loss around 0.2"
      ],
      "metadata": {
        "id": "F2nfdufiJdXC"
      },
      "id": "F2nfdufiJdXC"
    }
  ],
  "metadata": {
    "kernelspec": {
      "display_name": "Python 3",
      "language": "python",
      "name": "python3"
    },
    "language_info": {
      "codemirror_mode": {
        "name": "ipython",
        "version": 3
      },
      "file_extension": ".py",
      "mimetype": "text/x-python",
      "name": "python",
      "nbconvert_exporter": "python",
      "pygments_lexer": "ipython3",
      "version": "3.8.8"
    },
    "colab": {
      "provenance": [],
      "toc_visible": true
    },
    "gpuClass": "standard",
    "accelerator": "GPU"
  },
  "nbformat": 4,
  "nbformat_minor": 5
}