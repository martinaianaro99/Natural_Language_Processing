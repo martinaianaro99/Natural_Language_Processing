{
 "cells": [
  {
   "cell_type": "markdown",
   "id": "cd61ff04",
   "metadata": {},
   "source": [
    "names of the member"
   ]
  },
  {
   "cell_type": "code",
   "execution_count": 1,
   "id": "37f331d7",
   "metadata": {},
   "outputs": [],
   "source": [
    "# system packages\n",
    "import os\n",
    "#import shutil\n",
    "import sys\n",
    "\n",
    "# data and numerical management packages\n",
    "import pandas as pd\n",
    "import numpy as np\n",
    "\n",
    "# typing\n",
    "from typing import List, Callable, Dict"
   ]
  },
  {
   "cell_type": "markdown",
   "id": "23ad7c50",
   "metadata": {},
   "source": [
    "## Part 1\n",
    "\n",
    "Download the corpora and extract it, structuring a dataframe."
   ]
  },
  {
   "cell_type": "code",
   "execution_count": 2,
   "id": "b63f763a",
   "metadata": {},
   "outputs": [
    {
     "name": "stdout",
     "output_type": "stream",
     "text": [
      "Current work directory: C:\\Users\\fabian\\Desktop\\tutorial\\homework1\n",
      "C:\\Users\\fabian\\Desktop\\tutorial\\homework1\\Datasets\\Corpora.zip\n",
      "Extracting dataset... (it may take a while...)\n",
      "Extraction completed!\n"
     ]
    }
   ],
   "source": [
    "from urllib import request\n",
    "import zipfile\n",
    "\n",
    "print(f\"Current work directory: {os.getcwd()}\")\n",
    "dataset_folder = os.path.join(os.getcwd(), \"Datasets\")\n",
    "\n",
    "if not os.path.exists(dataset_folder):\n",
    "    os.makedirs(dataset_folder)\n",
    "\n",
    "url = \"https://raw.githubusercontent.com/nltk/nltk_data/gh-pages/packages/corpora/dependency_treebank.zip\"\n",
    "dataset_path = os.path.join(dataset_folder, \"Corpora.zip\")\n",
    "print(dataset_path)\n",
    "\n",
    "def download_dataset(download_path: str, url: str):\n",
    "    if not os.path.exists(download_path):\n",
    "        print(\"Downloading dataset...\")\n",
    "        request.urlretrieve(url, download_path)\n",
    "        print(\"Download complete!\")\n",
    "\n",
    "def extract_dataset(download_path: str, extract_path: str):\n",
    "    print(\"Extracting dataset... (it may take a while...)\")\n",
    "    with zipfile.ZipFile(download_path) as loaded_zip:\n",
    "        loaded_zip.extractall(extract_path)\n",
    "    print(\"Extraction completed!\")\n",
    "\n",
    "\n",
    "download_dataset(dataset_path, url)\n",
    "extract_dataset(dataset_path, dataset_folder)"
   ]
  },
  {
   "cell_type": "code",
   "execution_count": 3,
   "id": "dba6cb23",
   "metadata": {},
   "outputs": [],
   "source": [
    "def encode_dataset(dataset_name:str) -> pd.DataFrame:\n",
    "    dataframe_rows = []\n",
    "    folder = os.path.join(os.getcwd(), \"Datasets\", dataset_name)\n",
    "\n",
    "    for filename in os.listdir(folder):   \n",
    "        \n",
    "        #doc = filename.split(\"_\")[1].split(\".\")[0]\n",
    "        #num = int(doc)\n",
    "        \n",
    "        # prepare the variable with the sentences of the document \n",
    "        sentences = \"\"\n",
    "        labels = \"\"\n",
    "        \n",
    "        file_path = os.path.join(folder, filename)\n",
    "        try:\n",
    "            if os.path.isfile(file_path):\n",
    "                with open(file_path, mode='r', encoding='utf-8') as text_file:\n",
    "                    \n",
    "                    \n",
    "                    # read every line, add the word and the corresponding label\n",
    "                    lines = text_file.readlines()  \n",
    "                    for line in lines:\n",
    "                        if not line.isspace():                     \n",
    "                            text = line.strip()\n",
    "                            sentences = sentences + text.split('\\t')[0] + \" \"\n",
    "                            labels = labels + text.split('\\t')[1] + \" \"\n",
    "                            \n",
    "                        \n",
    "                        \n",
    "       \n",
    "                    \n",
    "        except Exception as e:\n",
    "            print('Failed to process %s. Reason: %s' % (file_path, e))\n",
    "            sys.exit(0)\n",
    "            \n",
    "        # create single dataframe row and add it \n",
    "        dataframe_row = {\n",
    "            \"sentence\": sentences,\n",
    "            \"label\": labels\n",
    "        }\n",
    "        dataframe_rows.append(dataframe_row)\n",
    "\n",
    "        \n",
    "    folder = os.path.join(os.getcwd(), \"Datasets\", \"Dataframes\", dataset_name)\n",
    "    if not os.path.exists(folder):\n",
    "        os.makedirs(folder)\n",
    "        \n",
    "        \n",
    "    # transform the list of rows in a proper dataframe\n",
    "    df = pd.DataFrame(dataframe_rows)\n",
    "    df = df[[\"sentence\", \"label\"]]\n",
    "    dataframe_path = os.path.join(folder, dataset_name + \".pkl\")\n",
    "    df.to_pickle(dataframe_path)\n",
    "    \n",
    "    return df                \n",
    "    "
   ]
  },
  {
   "cell_type": "code",
   "execution_count": 4,
   "id": "a3aba4e3",
   "metadata": {},
   "outputs": [
    {
     "name": "stdout",
     "output_type": "stream",
     "text": [
      "Encoding dataset...\n",
      "Encoding completed!\n"
     ]
    }
   ],
   "source": [
    "print(\"Encoding dataset...\")\n",
    "df = encode_dataset(dataset_name='dependency_treebank')\n",
    "print(\"Encoding completed!\")"
   ]
  },
  {
   "cell_type": "code",
   "execution_count": 5,
   "id": "da695273",
   "metadata": {
    "scrolled": true
   },
   "outputs": [
    {
     "name": "stdout",
     "output_type": "stream",
     "text": [
      "Pierre Vinken , 61 years old , will join the board as a nonexecutive director Nov. 29 . Mr. Vinken is chairman of Elsevier N.V. , the Dutch publishing group . \n",
      "NNP NNP , CD NNS JJ , MD VB DT NN IN DT JJ NN NNP CD . NNP NNP VBZ NN IN NNP NNP , DT NNP VBG NN . \n"
     ]
    }
   ],
   "source": [
    "# print example of first document\n",
    "\n",
    "print(df.sentence[0])\n",
    "print(df.label[0])"
   ]
  },
  {
   "cell_type": "markdown",
   "id": "9bb6a581",
   "metadata": {},
   "source": [
    "### Pre Processing data"
   ]
  },
  {
   "cell_type": "code",
   "execution_count": 6,
   "id": "a9c43ebf",
   "metadata": {},
   "outputs": [],
   "source": [
    "from functools import reduce"
   ]
  },
  {
   "cell_type": "code",
   "execution_count": 7,
   "id": "77f3b24c",
   "metadata": {},
   "outputs": [],
   "source": [
    "# define function that lower case the text\n",
    "\n",
    "def lower(text: str) -> str:\n",
    "    \"\"\"\n",
    "    Transforms given text to lower case.\n",
    "    \"\"\"\n",
    "    return text.lower()"
   ]
  },
  {
   "cell_type": "code",
   "execution_count": 8,
   "id": "22afcdb5",
   "metadata": {},
   "outputs": [],
   "source": [
    "# define the preprocessing operation that we have to do \n",
    "PREPROCESSING_PIPELINE = [lower]\n",
    "\n",
    "# define function that execute all the operation in preprocessing_pipeline\n",
    "def text_prepare(text: str,\n",
    "                 filter_methods: List[Callable[[str], str]] = None) -> str:\n",
    "    \"\"\"\n",
    "    Applies a list of pre-processing functions in sequence (reduce).\n",
    "    Note that the order is important here!\n",
    "    \"\"\"\n",
    "    filter_methods = filter_methods if filter_methods is not None else PREPROCESSING_PIPELINE\n",
    "    return reduce(lambda txt, f: f(txt), filter_methods, text)"
   ]
  },
  {
   "cell_type": "code",
   "execution_count": 9,
   "id": "02b625e2",
   "metadata": {},
   "outputs": [],
   "source": [
    "# apply the preprocess \n",
    "df.sentence = df.sentence.apply(lambda txt: text_prepare(txt))\n",
    "df.label = df.label.apply(lambda txt: text_prepare(txt))"
   ]
  },
  {
   "cell_type": "code",
   "execution_count": 10,
   "id": "63005689",
   "metadata": {},
   "outputs": [
    {
     "name": "stdout",
     "output_type": "stream",
     "text": [
      "pierre vinken , 61 years old , will join the board as a nonexecutive director nov. 29 . mr. vinken is chairman of elsevier n.v. , the dutch publishing group . \n",
      "nnp nnp , cd nns jj , md vb dt nn in dt jj nn nnp cd . nnp nnp vbz nn in nnp nnp , dt nnp vbg nn . \n"
     ]
    }
   ],
   "source": [
    "# print the same example after the preprocessing\n",
    "print(df.sentence[0])\n",
    "print(df.label[0])"
   ]
  },
  {
   "cell_type": "code",
   "execution_count": 11,
   "id": "8c582ab3",
   "metadata": {},
   "outputs": [],
   "source": [
    "# compute the total number of words and tag label\n",
    "\n",
    "num_words = len(set([word for i in range(df.shape[0]) for word in df.sentence[i].split() ]))\n",
    "num_tags   = len(set([word for i in range(df.shape[0]) for word in df.label[i].split()]))"
   ]
  },
  {
   "cell_type": "code",
   "execution_count": 12,
   "id": "184e07bf",
   "metadata": {
    "scrolled": true
   },
   "outputs": [
    {
     "name": "stdout",
     "output_type": "stream",
     "text": [
      "Total number of tagged sentences: 199\n",
      "Vocabulary size: 10947\n",
      "Total number of tags: 45\n"
     ]
    }
   ],
   "source": [
    "print(\"Total number of tagged sentences: {}\".format(len(df.sentence)))\n",
    "print(\"Vocabulary size: {}\".format(num_words))\n",
    "print(\"Total number of tags: {}\".format(num_tags))"
   ]
  },
  {
   "cell_type": "code",
   "execution_count": 13,
   "id": "6fd2befb",
   "metadata": {},
   "outputs": [
    {
     "name": "stdout",
     "output_type": "stream",
     "text": [
      "Length of first input sequence  : 31\n",
      "Length of first output sequence : 31\n"
     ]
    }
   ],
   "source": [
    "# In this many-to-many problem, the length of each input and output sequence must be the same.\n",
    "# Since each word is tagged, it's important to make sure that the length of input sequence equals the output sequence\n",
    "print(\"Length of first input sequence  : {}\".format(len(df.sentence[0].split())))\n",
    "print(\"Length of first output sequence : {}\".format(len(df.label[0].split())))"
   ]
  },
  {
   "cell_type": "markdown",
   "id": "f8afe77c",
   "metadata": {},
   "source": [
    "### Tokenizer"
   ]
  },
  {
   "cell_type": "code",
   "execution_count": 14,
   "id": "4171ec94",
   "metadata": {},
   "outputs": [],
   "source": [
    "from keras.preprocessing.text import Tokenizer"
   ]
  },
  {
   "cell_type": "code",
   "execution_count": 15,
   "id": "31bcbf3c",
   "metadata": {},
   "outputs": [],
   "source": [
    "# encode X\n",
    "\n",
    "word_tokenizer = Tokenizer()                      # instantiate tokeniser\n",
    "word_tokenizer.fit_on_texts([df.sentence[i].split() for i in range(df.shape[0])])                    # fit tokeniser on data\n",
    "X_encoded = word_tokenizer.texts_to_sequences([df.sentence[i].split() for i in range(df.shape[0])])  # use the tokeniser to encode input sequence"
   ]
  },
  {
   "cell_type": "code",
   "execution_count": 16,
   "id": "33b25dc1",
   "metadata": {},
   "outputs": [],
   "source": [
    "# encode Y, same way of X\n",
    "\n",
    "tag_tokenizer = Tokenizer()\n",
    "tag_tokenizer.fit_on_texts(df.label[i].split() for i in range(df.shape[0]))\n",
    "Y_encoded = tag_tokenizer.texts_to_sequences(df.label[i].split() for i in range(df.shape[0]))"
   ]
  },
  {
   "cell_type": "code",
   "execution_count": 17,
   "id": "e1f288c7",
   "metadata": {
    "scrolled": true
   },
   "outputs": [
    {
     "name": "stdout",
     "output_type": "stream",
     "text": [
      "** Raw data point ** \n",
      " ---------------------------------------------------------------------------------------------------- \n",
      "\n",
      "X:  pierre vinken , 61 years old , will join the board as a nonexecutive director nov. 29 . mr. vinken is chairman of elsevier n.v. , the dutch publishing group .  \n",
      "\n",
      "Y:  nnp nnp , cd nns jj , md vb dt nn in dt jj nn nnp cd . nnp nnp vbz nn in nnp nnp , dt nnp vbg nn .  \n",
      "\n",
      "\n",
      "** Encoded data point ** \n",
      " ---------------------------------------------------------------------------------------------------- \n",
      "\n",
      "X:  [5419, 3714, 1, 2005, 78, 316, 1, 39, 2383, 2, 122, 22, 6, 2006, 317, 444, 2007, 3, 26, 3714, 15, 167, 4, 5420, 2890, 1, 2, 2891, 621, 137, 3] \n",
      "\n",
      "Y:  [3, 3, 7, 9, 5, 6, 7, 20, 12, 4, 1, 2, 4, 6, 1, 3, 9, 8, 3, 3, 16, 1, 2, 3, 3, 7, 4, 3, 18, 1, 8] \n",
      "\n"
     ]
    }
   ],
   "source": [
    "# look at first encoded data point\n",
    "\n",
    "print(\"** Raw data point **\", \"\\n\", \"-\"*100, \"\\n\")\n",
    "print('X: ', df.sentence[0], '\\n')\n",
    "print('Y: ', df.label[0], '\\n')\n",
    "print()\n",
    "print(\"** Encoded data point **\", \"\\n\", \"-\"*100, \"\\n\")\n",
    "print('X: ', X_encoded[0], '\\n')\n",
    "print('Y: ', Y_encoded[0], '\\n')\n",
    "\n"
   ]
  },
  {
   "cell_type": "code",
   "execution_count": 18,
   "id": "4af9221a",
   "metadata": {},
   "outputs": [],
   "source": [
    "import re"
   ]
  },
  {
   "cell_type": "code",
   "execution_count": 19,
   "id": "fdde8c3c",
   "metadata": {},
   "outputs": [],
   "source": [
    "# save the label for each sentences that are not punctation\n",
    "\n",
    "tagg = re.compile('[a-z]') # re for label that are letter nad not punctation\n",
    "\n",
    "good_idxs = [] # save the indexes of label that are not punctation\n",
    "\n",
    "# for all the sentences, see all the labels and save the one that are not punctation\n",
    "for j in range(df.shape[0]):\n",
    "    good_idx = []\n",
    "    \n",
    "    for i in range(len(df.sentence[j].split())):\n",
    "        if tagg.search(df.label[j].split()[i]) and Y_encoded[j][i] not in good_idx:\n",
    "             good_idx.append(Y_encoded[j][i])\n",
    "   \n",
    "    good_idx = np.sort(good_idx)\n",
    "    good_idxs.append(good_idx)\n",
    "    \n"
   ]
  },
  {
   "cell_type": "code",
   "execution_count": 20,
   "id": "476dccd2",
   "metadata": {},
   "outputs": [
    {
     "name": "stdout",
     "output_type": "stream",
     "text": [
      "0 sentences have disparate input-output lengths.\n"
     ]
    }
   ],
   "source": [
    "# make sure that each sequence of input and output is same length\n",
    "\n",
    "different_length = [1 if len(input) != len(output) else 0 for input, output in zip(X_encoded, Y_encoded)]\n",
    "print(\"{} sentences have disparate input-output lengths.\".format(sum(different_length)))"
   ]
  },
  {
   "cell_type": "markdown",
   "id": "42a75aa0",
   "metadata": {},
   "source": [
    "### Split data in train, val and test set"
   ]
  },
  {
   "cell_type": "code",
   "execution_count": 21,
   "id": "35d230e0",
   "metadata": {},
   "outputs": [],
   "source": [
    "from keras.utils import pad_sequences"
   ]
  },
  {
   "cell_type": "code",
   "execution_count": 22,
   "id": "2811fe89",
   "metadata": {},
   "outputs": [],
   "source": [
    "# Pad each sequence to max_seq_length using KERAS' pad_sequences() function. \n",
    "# Sentences longer than max_seq_length are truncated.\n",
    "# Sentences shorter than max_seq_length are padded with zeroes.\n",
    "\n",
    "# Truncation and padding can either be 'pre' or 'post'. \n",
    "# For padding we are using 'post' padding type, that is, add zeroes on the right side.\n",
    "# For truncation, we are using 'post', that is, truncate a sentence from right side.\n",
    "\n",
    "max_seq_length = 100  # sequences greater than 100 in length will be truncated\n",
    "\n",
    "X_padded = pad_sequences(X_encoded, maxlen=max_seq_length, padding=\"post\", truncating=\"post\")\n",
    "Y_padded = pad_sequences(Y_encoded, maxlen=max_seq_length, padding=\"post\", truncating=\"post\")\n",
    "\n"
   ]
  },
  {
   "cell_type": "code",
   "execution_count": 23,
   "id": "e84a9386",
   "metadata": {},
   "outputs": [
    {
     "name": "stdout",
     "output_type": "stream",
     "text": [
      "[5419 3714    1 2005   78  316    1   39 2383    2  122   22    6 2006\n",
      "  317  444 2007    3   26 3714   15  167    4 5420 2890    1    2 2891\n",
      "  621  137    3    0    0    0    0    0    0    0    0    0    0    0\n",
      "    0    0    0    0    0    0    0    0    0    0    0    0    0    0\n",
      "    0    0    0    0    0    0    0    0    0    0    0    0    0    0\n",
      "    0    0    0    0    0    0    0    0    0    0    0    0    0    0\n",
      "    0    0    0    0    0    0    0    0    0    0    0    0    0    0\n",
      "    0    0]\n",
      "[ 3  3  7  9  5  6  7 20 12  4  1  2  4  6  1  3  9  8  3  3 16  1  2  3\n",
      "  3  7  4  3 18  1  8  0  0  0  0  0  0  0  0  0  0  0  0  0  0  0  0  0\n",
      "  0  0  0  0  0  0  0  0  0  0  0  0  0  0  0  0  0  0  0  0  0  0  0  0\n",
      "  0  0  0  0  0  0  0  0  0  0  0  0  0  0  0  0  0  0  0  0  0  0  0  0\n",
      "  0  0  0  0]\n"
     ]
    }
   ],
   "source": [
    "# print the first sequence\n",
    "print(X_padded[0])\n",
    "print(Y_padded[0])"
   ]
  },
  {
   "cell_type": "code",
   "execution_count": 24,
   "id": "bf279331",
   "metadata": {},
   "outputs": [
    {
     "name": "stdout",
     "output_type": "stream",
     "text": [
      "(199, 100)\n",
      "(199, 100)\n"
     ]
    }
   ],
   "source": [
    "print(X_padded.shape)\n",
    "print(Y_padded.shape)"
   ]
  },
  {
   "cell_type": "code",
   "execution_count": 25,
   "id": "f1374fe6",
   "metadata": {},
   "outputs": [],
   "source": [
    "# assign padded sequences to X and Y\n",
    "X, Y = X_padded, Y_padded"
   ]
  },
  {
   "cell_type": "code",
   "execution_count": 26,
   "id": "2b6bba8c",
   "metadata": {},
   "outputs": [],
   "source": [
    "from keras.utils.np_utils import to_categorical"
   ]
  },
  {
   "cell_type": "code",
   "execution_count": 27,
   "id": "d27078ae",
   "metadata": {},
   "outputs": [],
   "source": [
    "# use Keras' to_categorical function to one-hot encode Y\n",
    "Y = to_categorical(Y)"
   ]
  },
  {
   "cell_type": "code",
   "execution_count": 28,
   "id": "ecf59a8a",
   "metadata": {},
   "outputs": [],
   "source": [
    "# divide the df in train, val and test set\n",
    "x_train = X[:100]\n",
    "y_train = Y[:100]\n",
    "x_val = X[100:150]\n",
    "y_val = Y[100:150]\n",
    "x_test = X[150:200]\n",
    "y_test = Y[150:200]"
   ]
  },
  {
   "cell_type": "code",
   "execution_count": 29,
   "id": "f8e343a9",
   "metadata": {},
   "outputs": [
    {
     "name": "stdout",
     "output_type": "stream",
     "text": [
      "TRAINING DATA\n",
      "Shape of input sequences: (100, 100)\n",
      "Shape of output sequences: (100, 100, 46)\n",
      "--------------------------------------------------\n",
      "VALIDATION DATA\n",
      "Shape of input sequences: (50, 100)\n",
      "Shape of output sequences: (50, 100, 46)\n",
      "--------------------------------------------------\n",
      "TESTING DATA\n",
      "Shape of input sequences: (49, 100)\n",
      "Shape of output sequences: (49, 100, 46)\n"
     ]
    }
   ],
   "source": [
    "# print number of samples in each set\n",
    "print(\"TRAINING DATA\")\n",
    "print('Shape of input sequences: {}'.format(x_train.shape))\n",
    "print('Shape of output sequences: {}'.format(y_train.shape))\n",
    "print(\"-\"*50)\n",
    "print(\"VALIDATION DATA\")\n",
    "print('Shape of input sequences: {}'.format(x_val.shape))\n",
    "print('Shape of output sequences: {}'.format(y_val.shape))\n",
    "print(\"-\"*50)\n",
    "print(\"TESTING DATA\")\n",
    "print('Shape of input sequences: {}'.format(x_test.shape))\n",
    "print('Shape of output sequences: {}'.format(y_test.shape))"
   ]
  },
  {
   "cell_type": "code",
   "execution_count": 30,
   "id": "70ec88a5",
   "metadata": {},
   "outputs": [],
   "source": [
    "num_classes = y_train.shape[2] # number of classes"
   ]
  },
  {
   "cell_type": "markdown",
   "id": "09674d47",
   "metadata": {},
   "source": [
    "## Part 2"
   ]
  },
  {
   "cell_type": "markdown",
   "id": "f8f4da6d",
   "metadata": {},
   "source": [
    "### Vocabulary\n",
    "\n",
    "Embed the words using GloVe embeddings"
   ]
  },
  {
   "cell_type": "code",
   "execution_count": 31,
   "id": "6404ce97",
   "metadata": {},
   "outputs": [],
   "source": [
    "import gensim\n",
    "import gensim.downloader as gloader"
   ]
  },
  {
   "cell_type": "code",
   "execution_count": 32,
   "id": "66822295",
   "metadata": {},
   "outputs": [],
   "source": [
    "embedding_dimension = 50 # [50, 100, 200, 300] possibility\n",
    "# download and load the vocabulary glove\n",
    "download_path = \"glove-wiki-gigaword-{}\".format(embedding_dimension)\n",
    "embedding_model = gloader.load(download_path)"
   ]
  },
  {
   "cell_type": "code",
   "execution_count": 33,
   "id": "98eb85fd",
   "metadata": {},
   "outputs": [],
   "source": [
    "# assign word vectors from glove model\n",
    "\n",
    "vocab_size = len(word_tokenizer.word_index) + 1\n",
    "\n",
    "# create an empty embedding matix\n",
    "embedding_vector = np.zeros((vocab_size, embedding_dimension))\n",
    "\n",
    "# create a word to index dictionary mapping\n",
    "word2id = word_tokenizer.word_index\n",
    "\n",
    "# copy vectors from glove model to the words present in corpus, OOV words set to 0\n",
    "for word, index in word2id.items():\n",
    "    try:\n",
    "        embedding_vector[index] = embedding_model[word]\n",
    "    except KeyError:\n",
    "        embedding_vector [index] = np.zeros(embedding_dimension) \n",
    "\n"
   ]
  },
  {
   "cell_type": "code",
   "execution_count": 34,
   "id": "f8af4deb",
   "metadata": {},
   "outputs": [
    {
     "name": "stdout",
     "output_type": "stream",
     "text": [
      "Embeddings shape: (10948, 50)\n"
     ]
    }
   ],
   "source": [
    "# check embedding dimension\n",
    "print(\"Embeddings shape: {}\".format(embedding_vector.shape))"
   ]
  },
  {
   "cell_type": "code",
   "execution_count": 35,
   "id": "b440445b",
   "metadata": {},
   "outputs": [
    {
     "data": {
      "text/plain": [
       "array([ 0.23568   ,  0.39638001, -0.60135001, -0.52680999,  0.15877999,\n",
       "        0.035317  , -1.38549995, -0.050794  , -0.59138   ,  0.28227001,\n",
       "        0.75602001,  0.17395   , -1.4483    ,  0.18503   ,  0.33835   ,\n",
       "       -0.71196997,  0.93379998, -1.1688    , -0.064745  , -0.63867003,\n",
       "       -0.46408999,  1.1839    , -0.43759   , -0.089778  , -0.95805001,\n",
       "        0.012933  , -0.64701003, -0.28791001,  0.071964  ,  1.43089998,\n",
       "        0.44505   , -0.27070999, -1.6473    ,  0.006484  ,  0.46397001,\n",
       "       -0.21664999,  0.1401    ,  0.91751999,  1.12779999,  1.44350004,\n",
       "        0.85627002,  1.25049996,  0.39963999, -1.38629997, -0.331     ,\n",
       "        0.48466   , -1.45039999, -0.2049    ,  0.77636999,  0.23190001])"
      ]
     },
     "execution_count": 35,
     "metadata": {},
     "output_type": "execute_result"
    }
   ],
   "source": [
    "# print an example\n",
    "embedding_vector[word_tokenizer.word_index['pierre']]"
   ]
  },
  {
   "cell_type": "markdown",
   "id": "203c8bd2",
   "metadata": {},
   "source": [
    "\n",
    "## Part 3\n",
    "\n",
    "baseline model\n",
    "BiLSTM and TimeDistributed Dense"
   ]
  },
  {
   "cell_type": "code",
   "execution_count": 36,
   "id": "628d5667",
   "metadata": {},
   "outputs": [],
   "source": [
    "from keras.models import Sequential\n",
    "from keras.layers import Bidirectional, LSTM, TimeDistributed, Dense, Embedding\n",
    "import keras\n",
    "import matplotlib.pyplot as plt"
   ]
  },
  {
   "cell_type": "code",
   "execution_count": 37,
   "id": "0209d891",
   "metadata": {},
   "outputs": [],
   "source": [
    "# create architecture\n",
    "\n",
    "bidirectional_model = Sequential()\n",
    "bidirectional_model.add(Embedding(input_dim     = vocab_size,\n",
    "                             output_dim    = embedding_dimension,\n",
    "                             input_length  = max_seq_length,\n",
    "                             weights       = [embedding_vector],\n",
    "                             trainable     = False\n",
    "))\n",
    "bidirectional_model.add(Bidirectional(LSTM(64, return_sequences=True)))\n",
    "bidirectional_model.add(TimeDistributed(Dense(num_classes, activation='softmax')))"
   ]
  },
  {
   "cell_type": "code",
   "execution_count": 38,
   "id": "80bc706a",
   "metadata": {},
   "outputs": [],
   "source": [
    "bidirectional_model.compile(loss      =  'categorical_crossentropy',\n",
    "                  optimizer =  'adam',\n",
    "                  metrics   =  ['acc'])"
   ]
  },
  {
   "cell_type": "code",
   "execution_count": 39,
   "id": "37e16ad3",
   "metadata": {},
   "outputs": [
    {
     "name": "stdout",
     "output_type": "stream",
     "text": [
      "Model: \"sequential\"\n",
      "_________________________________________________________________\n",
      " Layer (type)                Output Shape              Param #   \n",
      "=================================================================\n",
      " embedding (Embedding)       (None, 100, 50)           547400    \n",
      "                                                                 \n",
      " bidirectional (Bidirectiona  (None, 100, 128)         58880     \n",
      " l)                                                              \n",
      "                                                                 \n",
      " time_distributed (TimeDistr  (None, 100, 46)          5934      \n",
      " ibuted)                                                         \n",
      "                                                                 \n",
      "=================================================================\n",
      "Total params: 612,214\n",
      "Trainable params: 64,814\n",
      "Non-trainable params: 547,400\n",
      "_________________________________________________________________\n"
     ]
    }
   ],
   "source": [
    "bidirectional_model.summary()"
   ]
  },
  {
   "cell_type": "code",
   "execution_count": 40,
   "id": "a36f92a3",
   "metadata": {
    "scrolled": true
   },
   "outputs": [
    {
     "name": "stdout",
     "output_type": "stream",
     "text": [
      "Epoch 1/20\n",
      "10/10 [==============================] - 4s 122ms/step - loss: 3.5719 - acc: 0.1784 - val_loss: 3.2383 - val_acc: 0.1936\n",
      "Epoch 2/20\n",
      "10/10 [==============================] - 0s 38ms/step - loss: 3.0654 - acc: 0.2548 - val_loss: 2.8851 - val_acc: 0.2376\n",
      "Epoch 3/20\n",
      "10/10 [==============================] - 0s 37ms/step - loss: 2.7041 - acc: 0.3275 - val_loss: 2.7037 - val_acc: 0.2792\n",
      "Epoch 4/20\n",
      "10/10 [==============================] - 0s 38ms/step - loss: 2.4406 - acc: 0.3446 - val_loss: 2.5581 - val_acc: 0.3258\n",
      "Epoch 5/20\n",
      "10/10 [==============================] - 0s 39ms/step - loss: 2.2680 - acc: 0.4110 - val_loss: 2.4180 - val_acc: 0.3674\n",
      "Epoch 6/20\n",
      "10/10 [==============================] - 0s 38ms/step - loss: 2.1342 - acc: 0.4376 - val_loss: 2.2915 - val_acc: 0.4048\n",
      "Epoch 7/20\n",
      "10/10 [==============================] - 0s 36ms/step - loss: 2.0121 - acc: 0.4737 - val_loss: 2.1652 - val_acc: 0.4342\n",
      "Epoch 8/20\n",
      "10/10 [==============================] - 0s 36ms/step - loss: 1.8901 - acc: 0.5077 - val_loss: 2.0346 - val_acc: 0.4678\n",
      "Epoch 9/20\n",
      "10/10 [==============================] - 0s 36ms/step - loss: 1.7688 - acc: 0.5413 - val_loss: 1.9149 - val_acc: 0.4980\n",
      "Epoch 10/20\n",
      "10/10 [==============================] - 0s 36ms/step - loss: 1.6552 - acc: 0.5696 - val_loss: 1.7991 - val_acc: 0.5312\n",
      "Epoch 11/20\n",
      "10/10 [==============================] - 0s 36ms/step - loss: 1.5494 - acc: 0.5988 - val_loss: 1.6976 - val_acc: 0.5672\n",
      "Epoch 12/20\n",
      "10/10 [==============================] - 0s 36ms/step - loss: 1.4543 - acc: 0.6362 - val_loss: 1.6056 - val_acc: 0.5946\n",
      "Epoch 13/20\n",
      "10/10 [==============================] - 0s 36ms/step - loss: 1.3672 - acc: 0.6574 - val_loss: 1.5238 - val_acc: 0.6206\n",
      "Epoch 14/20\n",
      "10/10 [==============================] - 0s 36ms/step - loss: 1.2930 - acc: 0.6848 - val_loss: 1.4534 - val_acc: 0.6366\n",
      "Epoch 15/20\n",
      "10/10 [==============================] - 0s 36ms/step - loss: 1.2260 - acc: 0.6982 - val_loss: 1.3901 - val_acc: 0.6496\n",
      "Epoch 16/20\n",
      "10/10 [==============================] - 0s 36ms/step - loss: 1.1658 - acc: 0.7124 - val_loss: 1.3325 - val_acc: 0.6616\n",
      "Epoch 17/20\n",
      "10/10 [==============================] - 0s 35ms/step - loss: 1.1114 - acc: 0.7260 - val_loss: 1.2821 - val_acc: 0.6732\n",
      "Epoch 18/20\n",
      "10/10 [==============================] - 0s 35ms/step - loss: 1.0621 - acc: 0.7344 - val_loss: 1.2373 - val_acc: 0.6842\n",
      "Epoch 19/20\n",
      "10/10 [==============================] - 0s 36ms/step - loss: 1.0182 - acc: 0.7467 - val_loss: 1.1991 - val_acc: 0.6910\n",
      "Epoch 20/20\n",
      "10/10 [==============================] - 0s 36ms/step - loss: 0.9790 - acc: 0.7574 - val_loss: 1.1628 - val_acc: 0.6996\n"
     ]
    }
   ],
   "source": [
    "bidirectional_train = bidirectional_model.fit(x_train, y_train, batch_size=10, epochs = 20, validation_data=(x_val, y_val))"
   ]
  },
  {
   "cell_type": "code",
   "execution_count": 41,
   "id": "797ffee2",
   "metadata": {
    "scrolled": true
   },
   "outputs": [
    {
     "data": {
      "image/png": "[encoded data removed]",
      "text/plain": [
       "<Figure size 432x288 with 1 Axes>"
      ]
     },
     "metadata": {
      "needs_background": "light"
     },
     "output_type": "display_data"
    }
   ],
   "source": [
    "# visualise training history\n",
    "plt.plot(bidirectional_train.history['acc'])\n",
    "plt.plot(bidirectional_train.history['val_acc'])\n",
    "plt.title('model accuracy')\n",
    "plt.ylabel('accuracy')\n",
    "plt.xlabel('epoch')\n",
    "plt.legend(['train', 'val'], loc=\"lower right\")\n",
    "plt.show()"
   ]
  },
  {
   "cell_type": "markdown",
   "id": "a592a05e",
   "metadata": {},
   "source": [
    "## Part 4\n",
    "\n",
    "experiment doing small modification"
   ]
  },
  {
   "cell_type": "markdown",
   "id": "d69e5458",
   "metadata": {},
   "source": [
    "### Architecture 1\n",
    "\n",
    "Gru and Time Distributed Dense"
   ]
  },
  {
   "cell_type": "code",
   "execution_count": 42,
   "id": "9f093df9",
   "metadata": {},
   "outputs": [],
   "source": [
    "from keras.layers import GRU"
   ]
  },
  {
   "cell_type": "code",
   "execution_count": 43,
   "id": "6568bf6d",
   "metadata": {},
   "outputs": [],
   "source": [
    "# create architecture\n",
    "\n",
    "GRU_model = Sequential()\n",
    "GRU_model.add(Embedding(input_dim     = vocab_size,\n",
    "                             output_dim    = embedding_dimension,\n",
    "                             input_length  = max_seq_length,\n",
    "                             weights       = [embedding_vector],\n",
    "                             trainable     = False\n",
    "))\n",
    "GRU_model.add(GRU(64, return_sequences=True))\n",
    "GRU_model.add(TimeDistributed(Dense(num_classes, activation='softmax')))"
   ]
  },
  {
   "cell_type": "code",
   "execution_count": 44,
   "id": "37592a2b",
   "metadata": {},
   "outputs": [],
   "source": [
    "GRU_model.compile(loss      =  'categorical_crossentropy',\n",
    "                  optimizer =  'adam',\n",
    "                  metrics   =  ['acc'])"
   ]
  },
  {
   "cell_type": "code",
   "execution_count": 45,
   "id": "77f6f6a5",
   "metadata": {},
   "outputs": [
    {
     "name": "stdout",
     "output_type": "stream",
     "text": [
      "Model: \"sequential_1\"\n",
      "_________________________________________________________________\n",
      " Layer (type)                Output Shape              Param #   \n",
      "=================================================================\n",
      " embedding_1 (Embedding)     (None, 100, 50)           547400    \n",
      "                                                                 \n",
      " gru (GRU)                   (None, 100, 64)           22272     \n",
      "                                                                 \n",
      " time_distributed_1 (TimeDis  (None, 100, 46)          2990      \n",
      " tributed)                                                       \n",
      "                                                                 \n",
      "=================================================================\n",
      "Total params: 572,662\n",
      "Trainable params: 25,262\n",
      "Non-trainable params: 547,400\n",
      "_________________________________________________________________\n"
     ]
    }
   ],
   "source": [
    "GRU_model.summary()"
   ]
  },
  {
   "cell_type": "code",
   "execution_count": 46,
   "id": "e61821f7",
   "metadata": {
    "scrolled": true
   },
   "outputs": [
    {
     "name": "stdout",
     "output_type": "stream",
     "text": [
      "Epoch 1/20\n",
      "10/10 [==============================] - 2s 72ms/step - loss: 3.7311 - acc: 0.1565 - val_loss: 3.4907 - val_acc: 0.1696\n",
      "Epoch 2/20\n",
      "10/10 [==============================] - 0s 27ms/step - loss: 3.3397 - acc: 0.2420 - val_loss: 3.1010 - val_acc: 0.1856\n",
      "Epoch 3/20\n",
      "10/10 [==============================] - 0s 27ms/step - loss: 3.0180 - acc: 0.1721 - val_loss: 2.8871 - val_acc: 0.1940\n",
      "Epoch 4/20\n",
      "10/10 [==============================] - 0s 26ms/step - loss: 2.8169 - acc: 0.2722 - val_loss: 2.7629 - val_acc: 0.3102\n",
      "Epoch 5/20\n",
      "10/10 [==============================] - 0s 26ms/step - loss: 2.5918 - acc: 0.3689 - val_loss: 2.6605 - val_acc: 0.3214\n",
      "Epoch 6/20\n",
      "10/10 [==============================] - 0s 27ms/step - loss: 2.3958 - acc: 0.4083 - val_loss: 2.4765 - val_acc: 0.3936\n",
      "Epoch 7/20\n",
      "10/10 [==============================] - 0s 27ms/step - loss: 2.2088 - acc: 0.4512 - val_loss: 2.3205 - val_acc: 0.4194\n",
      "Epoch 8/20\n",
      "10/10 [==============================] - 0s 27ms/step - loss: 2.0588 - acc: 0.4823 - val_loss: 2.1888 - val_acc: 0.4578\n",
      "Epoch 9/20\n",
      "10/10 [==============================] - 0s 26ms/step - loss: 1.9373 - acc: 0.5094 - val_loss: 2.0707 - val_acc: 0.4782\n",
      "Epoch 10/20\n",
      "10/10 [==============================] - 0s 27ms/step - loss: 1.8269 - acc: 0.5319 - val_loss: 1.9599 - val_acc: 0.4968\n",
      "Epoch 11/20\n",
      "10/10 [==============================] - 0s 27ms/step - loss: 1.7256 - acc: 0.5553 - val_loss: 1.8576 - val_acc: 0.5132\n",
      "Epoch 12/20\n",
      "10/10 [==============================] - 0s 27ms/step - loss: 1.6331 - acc: 0.5754 - val_loss: 1.7671 - val_acc: 0.5398\n",
      "Epoch 13/20\n",
      "10/10 [==============================] - 0s 26ms/step - loss: 1.5488 - acc: 0.5955 - val_loss: 1.6864 - val_acc: 0.5552\n",
      "Epoch 14/20\n",
      "10/10 [==============================] - 0s 26ms/step - loss: 1.4748 - acc: 0.6121 - val_loss: 1.6137 - val_acc: 0.5712\n",
      "Epoch 15/20\n",
      "10/10 [==============================] - 0s 27ms/step - loss: 1.4072 - acc: 0.6322 - val_loss: 1.5495 - val_acc: 0.5926\n",
      "Epoch 16/20\n",
      "10/10 [==============================] - 0s 27ms/step - loss: 1.3457 - acc: 0.6549 - val_loss: 1.4889 - val_acc: 0.6066\n",
      "Epoch 17/20\n",
      "10/10 [==============================] - 0s 27ms/step - loss: 1.2894 - acc: 0.6757 - val_loss: 1.4362 - val_acc: 0.6314\n",
      "Epoch 18/20\n",
      "10/10 [==============================] - 0s 27ms/step - loss: 1.2382 - acc: 0.6940 - val_loss: 1.3886 - val_acc: 0.6438\n",
      "Epoch 19/20\n",
      "10/10 [==============================] - 0s 27ms/step - loss: 1.1911 - acc: 0.7049 - val_loss: 1.3450 - val_acc: 0.6536\n",
      "Epoch 20/20\n",
      "10/10 [==============================] - 0s 26ms/step - loss: 1.1486 - acc: 0.7131 - val_loss: 1.3041 - val_acc: 0.6622\n"
     ]
    }
   ],
   "source": [
    "GRU_train = GRU_model.fit(x_train, y_train, batch_size=10, epochs = 20, validation_data=(x_val, y_val))"
   ]
  },
  {
   "cell_type": "code",
   "execution_count": 47,
   "id": "9c47d04d",
   "metadata": {},
   "outputs": [
    {
     "data": {
      "image/png": "[encoded data removed]",
      "text/plain": [
       "<Figure size 432x288 with 1 Axes>"
      ]
     },
     "metadata": {
      "needs_background": "light"
     },
     "output_type": "display_data"
    }
   ],
   "source": [
    "# visualise training history\n",
    "plt.plot(GRU_train.history['acc'])\n",
    "plt.plot(GRU_train.history['val_acc'])\n",
    "plt.title('model accuracy')\n",
    "plt.ylabel('accuracy')\n",
    "plt.xlabel('epoch')\n",
    "plt.legend(['train', 'val'], loc=\"lower right\")\n",
    "plt.show()"
   ]
  },
  {
   "cell_type": "markdown",
   "id": "4c70901a",
   "metadata": {},
   "source": [
    "### Architecture 2\n",
    "\n",
    "2 LSTM layer and Time Distributed Dense"
   ]
  },
  {
   "cell_type": "code",
   "execution_count": 48,
   "id": "e9ea41b1",
   "metadata": {},
   "outputs": [],
   "source": [
    "# create architecture\n",
    "\n",
    "doublebidir_model = Sequential()\n",
    "doublebidir_model.add(Embedding(input_dim     = vocab_size,\n",
    "                             output_dim    = embedding_dimension,\n",
    "                             input_length  = max_seq_length,\n",
    "                             weights       = [embedding_vector],\n",
    "                             trainable     = False\n",
    "))\n",
    "doublebidir_model.add(Bidirectional(LSTM(64, return_sequences=True)))\n",
    "doublebidir_model.add(Bidirectional(LSTM(64, return_sequences=True)))\n",
    "doublebidir_model.add(TimeDistributed(Dense(num_classes, activation='softmax')))"
   ]
  },
  {
   "cell_type": "code",
   "execution_count": 49,
   "id": "0acd4eb2",
   "metadata": {},
   "outputs": [],
   "source": [
    "doublebidir_model.compile(loss      =  'categorical_crossentropy',\n",
    "                  optimizer =  'adam',\n",
    "                  metrics   =  ['acc'])"
   ]
  },
  {
   "cell_type": "code",
   "execution_count": 50,
   "id": "8d13369e",
   "metadata": {},
   "outputs": [
    {
     "name": "stdout",
     "output_type": "stream",
     "text": [
      "Model: \"sequential_2\"\n",
      "_________________________________________________________________\n",
      " Layer (type)                Output Shape              Param #   \n",
      "=================================================================\n",
      " embedding_2 (Embedding)     (None, 100, 50)           547400    \n",
      "                                                                 \n",
      " bidirectional_1 (Bidirectio  (None, 100, 128)         58880     \n",
      " nal)                                                            \n",
      "                                                                 \n",
      " bidirectional_2 (Bidirectio  (None, 100, 128)         98816     \n",
      " nal)                                                            \n",
      "                                                                 \n",
      " time_distributed_2 (TimeDis  (None, 100, 46)          5934      \n",
      " tributed)                                                       \n",
      "                                                                 \n",
      "=================================================================\n",
      "Total params: 711,030\n",
      "Trainable params: 163,630\n",
      "Non-trainable params: 547,400\n",
      "_________________________________________________________________\n"
     ]
    }
   ],
   "source": [
    "doublebidir_model.summary()"
   ]
  },
  {
   "cell_type": "code",
   "execution_count": 51,
   "id": "644ff7c6",
   "metadata": {
    "scrolled": true
   },
   "outputs": [
    {
     "name": "stdout",
     "output_type": "stream",
     "text": [
      "Epoch 1/20\n",
      "10/10 [==============================] - 7s 231ms/step - loss: 3.4702 - acc: 0.1434 - val_loss: 3.0913 - val_acc: 0.1728\n",
      "Epoch 2/20\n",
      "10/10 [==============================] - 1s 67ms/step - loss: 2.9323 - acc: 0.2505 - val_loss: 2.8735 - val_acc: 0.2128\n",
      "Epoch 3/20\n",
      "10/10 [==============================] - 1s 67ms/step - loss: 2.6107 - acc: 0.2895 - val_loss: 2.7620 - val_acc: 0.2298\n",
      "Epoch 4/20\n",
      "10/10 [==============================] - 1s 67ms/step - loss: 2.4630 - acc: 0.3053 - val_loss: 2.6844 - val_acc: 0.2362\n",
      "Epoch 5/20\n",
      "10/10 [==============================] - 1s 68ms/step - loss: 2.3885 - acc: 0.3179 - val_loss: 2.6021 - val_acc: 0.2770\n",
      "Epoch 6/20\n",
      "10/10 [==============================] - 1s 69ms/step - loss: 2.3078 - acc: 0.3505 - val_loss: 2.5151 - val_acc: 0.3000\n",
      "Epoch 7/20\n",
      "10/10 [==============================] - 1s 68ms/step - loss: 2.2189 - acc: 0.3828 - val_loss: 2.4175 - val_acc: 0.3288\n",
      "Epoch 8/20\n",
      "10/10 [==============================] - 1s 66ms/step - loss: 2.1135 - acc: 0.4121 - val_loss: 2.2899 - val_acc: 0.3664\n",
      "Epoch 9/20\n",
      "10/10 [==============================] - 1s 69ms/step - loss: 1.9931 - acc: 0.4514 - val_loss: 2.1557 - val_acc: 0.3980\n",
      "Epoch 10/20\n",
      "10/10 [==============================] - 1s 67ms/step - loss: 1.8626 - acc: 0.4901 - val_loss: 2.0173 - val_acc: 0.4536\n",
      "Epoch 11/20\n",
      "10/10 [==============================] - 1s 67ms/step - loss: 1.7254 - acc: 0.5411 - val_loss: 1.8742 - val_acc: 0.4948\n",
      "Epoch 12/20\n",
      "10/10 [==============================] - 1s 67ms/step - loss: 1.5974 - acc: 0.5825 - val_loss: 1.7419 - val_acc: 0.5350\n",
      "Epoch 13/20\n",
      "10/10 [==============================] - 1s 67ms/step - loss: 1.4834 - acc: 0.6120 - val_loss: 1.6339 - val_acc: 0.5620\n",
      "Epoch 14/20\n",
      "10/10 [==============================] - 1s 66ms/step - loss: 1.3827 - acc: 0.6399 - val_loss: 1.5353 - val_acc: 0.5970\n",
      "Epoch 15/20\n",
      "10/10 [==============================] - 1s 67ms/step - loss: 1.2928 - acc: 0.6621 - val_loss: 1.4497 - val_acc: 0.6180\n",
      "Epoch 16/20\n",
      "10/10 [==============================] - 1s 66ms/step - loss: 1.2159 - acc: 0.6820 - val_loss: 1.3783 - val_acc: 0.6242\n",
      "Epoch 17/20\n",
      "10/10 [==============================] - 1s 66ms/step - loss: 1.1480 - acc: 0.6998 - val_loss: 1.3158 - val_acc: 0.6428\n",
      "Epoch 18/20\n",
      "10/10 [==============================] - 1s 66ms/step - loss: 1.0895 - acc: 0.7125 - val_loss: 1.2603 - val_acc: 0.6600\n",
      "Epoch 19/20\n",
      "10/10 [==============================] - 1s 66ms/step - loss: 1.0350 - acc: 0.7284 - val_loss: 1.2086 - val_acc: 0.6768\n",
      "Epoch 20/20\n",
      "10/10 [==============================] - 1s 66ms/step - loss: 0.9888 - acc: 0.7373 - val_loss: 1.1641 - val_acc: 0.6890\n"
     ]
    }
   ],
   "source": [
    "doublebidir_train = doublebidir_model.fit(x_train, y_train, batch_size=10, epochs = 20, validation_data=(x_val, y_val))"
   ]
  },
  {
   "cell_type": "code",
   "execution_count": 52,
   "id": "6aca36dd",
   "metadata": {},
   "outputs": [
    {
     "data": {
      "image/png": "[encoded data removed]",
      "text/plain": [
       "<Figure size 432x288 with 1 Axes>"
      ]
     },
     "metadata": {
      "needs_background": "light"
     },
     "output_type": "display_data"
    }
   ],
   "source": [
    "# visualise training history\n",
    "plt.plot(doublebidir_train.history['acc'])\n",
    "plt.plot(doublebidir_train.history['val_acc'])\n",
    "plt.title('model accuracy')\n",
    "plt.ylabel('accuracy')\n",
    "plt.xlabel('epoch')\n",
    "plt.legend(['train', 'val'], loc=\"lower right\")\n",
    "plt.show()"
   ]
  },
  {
   "cell_type": "markdown",
   "id": "4ce24a6a",
   "metadata": {},
   "source": [
    " ### Architecture 3\n",
    " \n",
    " 2 Time Distributed Dense"
   ]
  },
  {
   "cell_type": "code",
   "execution_count": 53,
   "id": "94c7c694",
   "metadata": {},
   "outputs": [],
   "source": [
    "# create architecture\n",
    "\n",
    "doubledense_model = Sequential()\n",
    "doubledense_model.add(Embedding(input_dim     = vocab_size,\n",
    "                             output_dim    = embedding_dimension,\n",
    "                             input_length  = max_seq_length,\n",
    "                             weights       = [embedding_vector],\n",
    "                             trainable     = False\n",
    "))\n",
    "doubledense_model.add(Bidirectional(LSTM(64, return_sequences=True)))\n",
    "doubledense_model.add(TimeDistributed(Dense(num_classes, activation='softmax')))\n",
    "doubledense_model.add(TimeDistributed(Dense(num_classes, activation='softmax')))"
   ]
  },
  {
   "cell_type": "code",
   "execution_count": 54,
   "id": "b30e0958",
   "metadata": {},
   "outputs": [],
   "source": [
    "doubledense_model.compile(loss      =  'categorical_crossentropy',\n",
    "                  optimizer =  'adam',\n",
    "                  metrics   =  ['acc'])"
   ]
  },
  {
   "cell_type": "code",
   "execution_count": 55,
   "id": "c2ef5e37",
   "metadata": {},
   "outputs": [
    {
     "name": "stdout",
     "output_type": "stream",
     "text": [
      "Model: \"sequential_3\"\n",
      "_________________________________________________________________\n",
      " Layer (type)                Output Shape              Param #   \n",
      "=================================================================\n",
      " embedding_3 (Embedding)     (None, 100, 50)           547400    \n",
      "                                                                 \n",
      " bidirectional_3 (Bidirectio  (None, 100, 128)         58880     \n",
      " nal)                                                            \n",
      "                                                                 \n",
      " time_distributed_3 (TimeDis  (None, 100, 46)          5934      \n",
      " tributed)                                                       \n",
      "                                                                 \n",
      " time_distributed_4 (TimeDis  (None, 100, 46)          2162      \n",
      " tributed)                                                       \n",
      "                                                                 \n",
      "=================================================================\n",
      "Total params: 614,376\n",
      "Trainable params: 66,976\n",
      "Non-trainable params: 547,400\n",
      "_________________________________________________________________\n"
     ]
    }
   ],
   "source": [
    "doubledense_model.summary()"
   ]
  },
  {
   "cell_type": "code",
   "execution_count": 56,
   "id": "3e4d9d24",
   "metadata": {
    "scrolled": true
   },
   "outputs": [
    {
     "name": "stdout",
     "output_type": "stream",
     "text": [
      "Epoch 1/20\n",
      "10/10 [==============================] - 4s 117ms/step - loss: 3.8100 - acc: 0.0631 - val_loss: 3.7838 - val_acc: 0.1504\n",
      "Epoch 2/20\n",
      "10/10 [==============================] - 0s 36ms/step - loss: 3.7558 - acc: 0.1133 - val_loss: 3.7177 - val_acc: 0.1048\n",
      "Epoch 3/20\n",
      "10/10 [==============================] - 0s 36ms/step - loss: 3.7014 - acc: 0.0989 - val_loss: 3.6859 - val_acc: 0.1170\n",
      "Epoch 4/20\n",
      "10/10 [==============================] - 0s 37ms/step - loss: 3.6740 - acc: 0.1087 - val_loss: 3.6627 - val_acc: 0.1128\n",
      "Epoch 5/20\n",
      "10/10 [==============================] - 0s 37ms/step - loss: 3.6449 - acc: 0.1213 - val_loss: 3.6400 - val_acc: 0.1118\n",
      "Epoch 6/20\n",
      "10/10 [==============================] - 0s 37ms/step - loss: 3.6181 - acc: 0.2063 - val_loss: 3.6185 - val_acc: 0.1570\n",
      "Epoch 7/20\n",
      "10/10 [==============================] - 0s 37ms/step - loss: 3.5910 - acc: 0.2450 - val_loss: 3.5974 - val_acc: 0.1570\n",
      "Epoch 8/20\n",
      "10/10 [==============================] - 0s 36ms/step - loss: 3.5673 - acc: 0.2449 - val_loss: 3.5779 - val_acc: 0.1566\n",
      "Epoch 9/20\n",
      "10/10 [==============================] - 0s 37ms/step - loss: 3.5449 - acc: 0.2450 - val_loss: 3.5590 - val_acc: 0.1570\n",
      "Epoch 10/20\n",
      "10/10 [==============================] - 0s 36ms/step - loss: 3.5236 - acc: 0.2449 - val_loss: 3.5409 - val_acc: 0.1564\n",
      "Epoch 11/20\n",
      "10/10 [==============================] - 0s 37ms/step - loss: 3.5029 - acc: 0.2449 - val_loss: 3.5231 - val_acc: 0.1570\n",
      "Epoch 12/20\n",
      "10/10 [==============================] - 0s 37ms/step - loss: 3.4829 - acc: 0.2449 - val_loss: 3.5059 - val_acc: 0.1572\n",
      "Epoch 13/20\n",
      "10/10 [==============================] - 0s 37ms/step - loss: 3.4636 - acc: 0.2451 - val_loss: 3.4894 - val_acc: 0.1574\n",
      "Epoch 14/20\n",
      "10/10 [==============================] - 0s 36ms/step - loss: 3.4447 - acc: 0.2449 - val_loss: 3.4732 - val_acc: 0.1574\n",
      "Epoch 15/20\n",
      "10/10 [==============================] - 0s 36ms/step - loss: 3.4263 - acc: 0.2449 - val_loss: 3.4575 - val_acc: 0.1576\n",
      "Epoch 16/20\n",
      "10/10 [==============================] - 0s 36ms/step - loss: 3.4089 - acc: 0.2445 - val_loss: 3.4421 - val_acc: 0.1570\n",
      "Epoch 17/20\n",
      "10/10 [==============================] - 0s 37ms/step - loss: 3.3913 - acc: 0.2447 - val_loss: 3.4271 - val_acc: 0.1570\n",
      "Epoch 18/20\n",
      "10/10 [==============================] - 0s 37ms/step - loss: 3.3748 - acc: 0.2450 - val_loss: 3.4112 - val_acc: 0.1572\n",
      "Epoch 19/20\n",
      "10/10 [==============================] - 0s 39ms/step - loss: 3.3565 - acc: 0.2450 - val_loss: 3.3920 - val_acc: 0.1574\n",
      "Epoch 20/20\n",
      "10/10 [==============================] - 0s 39ms/step - loss: 3.3374 - acc: 0.2486 - val_loss: 3.3747 - val_acc: 0.1844\n"
     ]
    }
   ],
   "source": [
    "doubledense_train = doubledense_model.fit(x_train, y_train, batch_size=10, epochs = 20, validation_data=(x_val, y_val))"
   ]
  },
  {
   "cell_type": "code",
   "execution_count": 57,
   "id": "ca181bfb",
   "metadata": {
    "scrolled": true
   },
   "outputs": [
    {
     "data": {
      "image/png": "[encoded data removed]",
      "text/plain": [
       "<Figure size 432x288 with 1 Axes>"
      ]
     },
     "metadata": {
      "needs_background": "light"
     },
     "output_type": "display_data"
    }
   ],
   "source": [
    "# visualise training history\n",
    "plt.plot(doubledense_train.history['acc'])\n",
    "plt.plot(doubledense_train.history['val_acc'])\n",
    "plt.title('model accuracy')\n",
    "plt.ylabel('accuracy')\n",
    "plt.xlabel('epoch')\n",
    "plt.legend(['train', 'val'], loc=\"lower right\")\n",
    "plt.show()"
   ]
  },
  {
   "cell_type": "markdown",
   "id": "41e466c2",
   "metadata": {},
   "source": [
    "## Part 5"
   ]
  },
  {
   "cell_type": "markdown",
   "id": "014915c0",
   "metadata": {},
   "source": [
    "### Evaluate yourt best 2 model\n",
    "\n",
    "as we can see from the val_loss the best two model are the base model, with 1 layer biLSTM and 1 TimeDistributed, and the architecture 2, with 2 layer biLSTM and 1 TimeDistributed"
   ]
  },
  {
   "cell_type": "code",
   "execution_count": 58,
   "id": "434251c8",
   "metadata": {},
   "outputs": [],
   "source": [
    "from sklearn.metrics import f1_score"
   ]
  },
  {
   "cell_type": "code",
   "execution_count": 59,
   "id": "b3535933",
   "metadata": {},
   "outputs": [],
   "source": [
    "# function that predict the data with a model given in input\n",
    "\n",
    "def predict_data(model: keras.Model,\n",
    "                 x: np.ndarray,\n",
    "                 prediction_info: Dict) -> np.ndarray:\n",
    "    \n",
    "    \"\"\"\n",
    "    Inference routine of a given input set of examples\n",
    "\n",
    "    :param model: Keras built and possibly trained model\n",
    "    :param x: input set of examples in np.ndarray format\n",
    "    :param prediction_info: dictionary storing model predict() argument information\n",
    "\n",
    "    :return\n",
    "        predictions: predicted labels in np.ndarray format\n",
    "    \"\"\"\n",
    "    print(f'Starting prediction: \\n{prediction_info}')\n",
    "    print(f'Predicting on {x.shape[0]} samples')\n",
    "    predictions = model.predict(x, **prediction_info)\n",
    "    return predictions"
   ]
  },
  {
   "cell_type": "code",
   "execution_count": 60,
   "id": "3ea4b156",
   "metadata": {},
   "outputs": [],
   "source": [
    "# parameters of prediction\n",
    "prediction_info = {\n",
    "    'batch_size': 10,\n",
    "    'verbose': 1\n",
    "}"
   ]
  },
  {
   "cell_type": "code",
   "execution_count": 61,
   "id": "351d1089",
   "metadata": {},
   "outputs": [
    {
     "name": "stdout",
     "output_type": "stream",
     "text": [
      "Starting prediction: \n",
      "{'batch_size': 10, 'verbose': 1}\n",
      "Predicting on 49 samples\n",
      "5/5 [==============================] - 1s 10ms/step\n"
     ]
    }
   ],
   "source": [
    "# predict the data with the first model \n",
    "y_pred_bidi = predict_data(model=bidirectional_model, x=x_test,\n",
    "                                      prediction_info=prediction_info)\n",
    "y_pred_bidi = np.argmax(y_pred_bidi, axis=-1) # remove padding"
   ]
  },
  {
   "cell_type": "code",
   "execution_count": 62,
   "id": "9892642f",
   "metadata": {},
   "outputs": [
    {
     "name": "stdout",
     "output_type": "stream",
     "text": [
      "Starting prediction: \n",
      "{'batch_size': 10, 'verbose': 1}\n",
      "Predicting on 49 samples\n",
      "5/5 [==============================] - 2s 19ms/step\n"
     ]
    }
   ],
   "source": [
    "# predict the data with the second model \n",
    "y_pred_doubledir = predict_data(model=doublebidir_model, x=x_test,\n",
    "                                      prediction_info=prediction_info)\n",
    "y_pred_doubledir = np.argmax(y_pred_doubledir, axis=-1) # remove padding"
   ]
  },
  {
   "cell_type": "code",
   "execution_count": 63,
   "id": "0560dce2",
   "metadata": {},
   "outputs": [],
   "source": [
    "# remove padding\n",
    "y_test_max = np.argmax(y_test, axis=-1)"
   ]
  },
  {
   "cell_type": "code",
   "execution_count": 64,
   "id": "a68ce395",
   "metadata": {},
   "outputs": [],
   "source": [
    "# function that compute the F1 score from the y_true and y_predicted\n",
    "\n",
    "def evaluate_predictions(predictions: np.ndarray,\n",
    "                         y: np.ndarray):\n",
    "    \n",
    "    scoreF1 = []\n",
    "    # for every sentences compute the F1 score, then compute the F1 score of all the test set\n",
    "    for i in range(y_test_max.shape[0]):\n",
    "\n",
    "        #ignore the labels that are punctation\n",
    "        scoreF1.append(f1_score(y_true=y[i], y_pred=predictions[i], average='macro', labels=good_idxs[i], zero_division=0))\n",
    "        \n",
    "    return (sum(scoreF1) / len(scoreF1))\n",
    "    "
   ]
  },
  {
   "cell_type": "code",
   "execution_count": 65,
   "id": "8f842928",
   "metadata": {},
   "outputs": [
    {
     "name": "stdout",
     "output_type": "stream",
     "text": [
      "0.4242829261076708\n"
     ]
    }
   ],
   "source": [
    "# compute F1 score of first model\n",
    "F1_bidi = evaluate_predictions(y_pred_bidi, y_test_max)\n",
    "print(F1_bidi)"
   ]
  },
  {
   "cell_type": "code",
   "execution_count": 66,
   "id": "0a4d1c99",
   "metadata": {
    "scrolled": true
   },
   "outputs": [
    {
     "name": "stdout",
     "output_type": "stream",
     "text": [
      "0.399444702274652\n"
     ]
    }
   ],
   "source": [
    "# compute F1 score of second model\n",
    "F1_doubledir = evaluate_predictions(predictions=y_pred_doubledir, y = y_test_max)\n",
    "print(F1_doubledir)"
   ]
  },
  {
   "cell_type": "markdown",
   "id": "449b7e1f",
   "metadata": {},
   "source": [
    "The first model (Bidirectional LSTM and Dense/Fully-Connected layer) has a slightly better F1 score than the other model (2 Bidirectional LSTM and 1 Dense/Fully-Connected layer), so it's the best model"
   ]
  },
  {
   "cell_type": "markdown",
   "id": "b956635a",
   "metadata": {},
   "source": [
    "## Part 6"
   ]
  },
  {
   "cell_type": "markdown",
   "id": "37149050",
   "metadata": {},
   "source": [
    "## Analyze the errors\n"
   ]
  },
  {
   "cell_type": "markdown",
   "id": "004e45cc",
   "metadata": {},
   "source": [
    "I will do the classification report and confusion matrix only for the first sentences"
   ]
  },
  {
   "cell_type": "code",
   "execution_count": 67,
   "id": "95313cae",
   "metadata": {},
   "outputs": [],
   "source": [
    "# remove padding\n",
    "y_train_max = np.argmax(y_train, axis=-1)\n",
    "y_val_max = np.argmax(y_val, axis=-1)"
   ]
  },
  {
   "cell_type": "code",
   "execution_count": 68,
   "id": "b85f51c3",
   "metadata": {},
   "outputs": [],
   "source": [
    "from sklearn.dummy import DummyClassifier\n",
    "\n",
    "# initiate dummy classifier\n",
    "maj_classifier = DummyClassifier(strategy=\"prior\", random_state=52)\n",
    "uni_classifier = DummyClassifier(strategy=\"uniform\", random_state=52)\n",
    "\n",
    "# fit with the train set\n",
    "maj_classifier.fit(x_train, y_train_max)\n",
    "uni_classifier.fit(x_train, y_train_max)\n",
    "\n",
    "# use the classifier to predict value for validation and test set\n",
    "y_pred_val_maj = maj_classifier.predict(x_val)\n",
    "y_pred_val_uni = uni_classifier.predict(x_val)\n",
    "y_pred_test_maj = maj_classifier.predict(x_test)\n",
    "y_pred_test_uni = uni_classifier.predict(x_test)"
   ]
  },
  {
   "cell_type": "code",
   "execution_count": 69,
   "id": "a1640f0e",
   "metadata": {
    "scrolled": true
   },
   "outputs": [
    {
     "name": "stdout",
     "output_type": "stream",
     "text": [
      "MAJORITY\n",
      "R2 score -0.879841\n",
      "MAE 6.491800\n",
      "MSE 91.041400\n",
      "\n",
      "              precision    recall  f1-score   support\n",
      "\n",
      "           1       0.24      0.50      0.33        16\n",
      "           2       0.00      0.00      0.00        20\n",
      "           3       0.20      0.30      0.24        10\n",
      "           4       0.00      0.00      0.00         7\n",
      "           5       0.00      0.00      0.00         6\n",
      "           6       0.00      0.00      0.00         8\n",
      "           9       0.00      0.00      0.00        10\n",
      "          12       0.00      0.00      0.00         0\n",
      "          16       0.00      0.00      0.00         1\n",
      "          18       0.00      0.00      0.00         1\n",
      "          20       0.00      0.00      0.00         0\n",
      "\n",
      "   micro avg       0.20      0.14      0.16        79\n",
      "   macro avg       0.04      0.07      0.05        79\n",
      "weighted avg       0.07      0.14      0.10        79\n",
      "\n",
      "R2 score -0.822612\n",
      "MAE 5.990408\n",
      "MSE 78.947959\n",
      "\n",
      "              precision    recall  f1-score   support\n",
      "\n",
      "           1       0.12      0.27      0.17        15\n",
      "           2       0.14      0.09      0.11        11\n",
      "           3       0.33      0.25      0.29        20\n",
      "           4       0.00      0.00      0.00         8\n",
      "           5       0.00      0.00      0.00         2\n",
      "           6       0.00      0.00      0.00         2\n",
      "           9       0.00      0.00      0.00         9\n",
      "          12       0.00      0.00      0.00         3\n",
      "          16       0.00      0.00      0.00         2\n",
      "          18       0.00      0.00      0.00         2\n",
      "          20       0.00      0.00      0.00         1\n",
      "\n",
      "   micro avg       0.18      0.13      0.15        75\n",
      "   macro avg       0.05      0.06      0.05        75\n",
      "weighted avg       0.13      0.13      0.13        75\n",
      "\n"
     ]
    },
    {
     "data": {
      "text/plain": [
       "<sklearn.metrics._plot.confusion_matrix.ConfusionMatrixDisplay at 0x1ac68baa280>"
      ]
     },
     "execution_count": 69,
     "metadata": {},
     "output_type": "execute_result"
    },
    {
     "data": {
      "image/png": "[encoded data removed]",
      "text/plain": [
       "<Figure size 432x288 with 2 Axes>"
      ]
     },
     "metadata": {
      "needs_background": "light"
     },
     "output_type": "display_data"
    },
    {
     "data": {
      "image/png": "[encoded data removed]",
      "text/plain": [
       "<Figure size 432x288 with 2 Axes>"
      ]
     },
     "metadata": {
      "needs_background": "light"
     },
     "output_type": "display_data"
    }
   ],
   "source": [
    "from sklearn.metrics import r2_score, mean_absolute_error, mean_squared_error, classification_report\n",
    "from sklearn.metrics import ConfusionMatrixDisplay\n",
    "import matplotlib.pyplot as plt\n",
    "\n",
    "\n",
    "print(\"MAJORITY\")\n",
    "# task as regression\n",
    "\n",
    "# val set\n",
    "\n",
    "r2_maj_val = r2_score(y_val_max, y_pred_val_maj)\n",
    "mae_maj_val = mean_absolute_error(y_val_max, y_pred_val_maj)\n",
    "mse_maj_val = mean_squared_error(y_val_max, y_pred_val_maj)\n",
    "\n",
    "print(\"R2 score %f\" % r2_maj_val)\n",
    "# Mean Absolute Error\n",
    "print(\"MAE %f\" % mae_maj_val)\n",
    "# Mean Squared Error\n",
    "print(\"MSE %f\" % mse_maj_val)\n",
    "print()\n",
    "\n",
    "# classification report and confusion matrix for val set\n",
    "\n",
    "report = classification_report(y_val_max[0], y_pred_val_maj[0], zero_division=0, labels=good_idxs[0])\n",
    "print(report)\n",
    "\n",
    "ConfusionMatrixDisplay.from_predictions(y_val_max[0], y_pred_val_maj[0], normalize='true', cmap=plt.cm.Blues, values_format=\".2f\", labels=good_idxs[0])\n",
    "\n",
    "\n",
    "\n",
    "# test set\n",
    "\n",
    "r2_maj_test = r2_score(y_test_max, y_pred_test_maj)\n",
    "mae_maj_test = mean_absolute_error(y_test_max, y_pred_test_maj)\n",
    "mse_maj_test = mean_squared_error(y_test_max, y_pred_test_maj)\n",
    "\n",
    "print(\"R2 score %f\" % r2_maj_test)\n",
    "# Mean Absolute Error\n",
    "print(\"MAE %f\" % mae_maj_test)\n",
    "# Mean Squared Error\n",
    "print(\"MSE %f\" % mse_maj_test)\n",
    "print()\n",
    "\n",
    "# classification report and confusion matrix for test set\n",
    "\n",
    "report = classification_report(y_test_max[0], y_pred_test_maj[0], zero_division=0, labels=good_idxs[0])\n",
    "print(report)\n",
    "\n",
    "ConfusionMatrixDisplay.from_predictions(y_test_max[0], y_pred_test_maj[0], normalize='true', cmap=plt.cm.Blues, values_format=\".2f\", labels=good_idxs[0])\n"
   ]
  },
  {
   "cell_type": "markdown",
   "id": "4221692d",
   "metadata": {},
   "source": [
    "The R2 should be positive, but we have it negative so it isn't good\n",
    "\n",
    "MAE and MSE should be lower as possible, the MSE is pretty big\n",
    "\n",
    "The first and third class have better value than other class both in validation and test set\n",
    "\n",
    "We have terrible accuracy\n",
    "\n",
    "Validation and test result are pretty similar so they are coherent"
   ]
  },
  {
   "cell_type": "markdown",
   "id": "68cd6c1a",
   "metadata": {},
   "source": [
    "\n",
    "\n",
    "mojority probabilmente meglio se predecta meglio quelle nel mezzo e non estremi\n",
    "\n"
   ]
  },
  {
   "cell_type": "code",
   "execution_count": 70,
   "id": "f0d7f1d9",
   "metadata": {
    "scrolled": false
   },
   "outputs": [
    {
     "name": "stdout",
     "output_type": "stream",
     "text": [
      "RANDOM UNIFORM\n",
      "R2 score -2.418199\n",
      "MAE 9.548200\n",
      "MSE 149.423400\n",
      "\n",
      "              precision    recall  f1-score   support\n",
      "\n",
      "           1       0.00      0.00      0.00        16\n",
      "           2       0.00      0.00      0.00        20\n",
      "           3       0.20      0.10      0.13        10\n",
      "           4       0.00      0.00      0.00         7\n",
      "           5       0.00      0.00      0.00         6\n",
      "           6       0.00      0.00      0.00         8\n",
      "           9       0.00      0.00      0.00        10\n",
      "          12       0.00      0.00      0.00         0\n",
      "          16       0.00      0.00      0.00         1\n",
      "          18       0.00      0.00      0.00         1\n",
      "          20       0.00      0.00      0.00         0\n",
      "\n",
      "   micro avg       0.02      0.01      0.02        79\n",
      "   macro avg       0.02      0.01      0.01        79\n",
      "weighted avg       0.03      0.01      0.02        79\n",
      "\n",
      "R2 score -2.860245\n",
      "MAE 9.634286\n",
      "MSE 152.421633\n",
      "\n",
      "              precision    recall  f1-score   support\n",
      "\n",
      "           1       0.00      0.00      0.00        15\n",
      "           2       0.00      0.00      0.00        11\n",
      "           3       0.25      0.05      0.08        20\n",
      "           4       0.00      0.00      0.00         8\n",
      "           5       0.11      0.50      0.18         2\n",
      "           6       0.00      0.00      0.00         2\n",
      "           9       0.00      0.00      0.00         9\n",
      "          12       0.00      0.00      0.00         3\n",
      "          16       0.00      0.00      0.00         2\n",
      "          18       0.00      0.00      0.00         2\n",
      "          20       0.00      0.00      0.00         1\n",
      "\n",
      "   micro avg       0.04      0.03      0.03        75\n",
      "   macro avg       0.03      0.05      0.02        75\n",
      "weighted avg       0.07      0.03      0.03        75\n",
      "\n"
     ]
    }
   ],
   "source": [
    "print(\"RANDOM UNIFORM\")\n",
    "# task as regression\n",
    "\n",
    "# val set\n",
    "\n",
    "r2_uni_val = r2_score(y_val_max, y_pred_val_uni)\n",
    "mae_uni_val = mean_absolute_error(y_val_max, y_pred_val_uni)\n",
    "mse_uni_val = mean_squared_error(y_val_max, y_pred_val_uni)\n",
    "\n",
    "print(\"R2 score %f\" % r2_uni_val)\n",
    "# Mean Absolute Error\n",
    "print(\"MAE %f\" % mae_uni_val)\n",
    "# Mean Squared Error\n",
    "print(\"MSE %f\" % mse_uni_val)\n",
    "print()\n",
    "\n",
    "\n",
    "# classification report for val set\n",
    "\n",
    "report = classification_report(y_val_max[0], y_pred_val_uni[0], labels=good_idxs[0], zero_division=0)\n",
    "print(report)\n",
    "\n",
    "\n",
    "# test set\n",
    "\n",
    "r2_uni_test = r2_score(y_test_max, y_pred_test_uni)\n",
    "mae_uni_test = mean_absolute_error(y_test_max, y_pred_test_uni)\n",
    "mse_uni_test = mean_squared_error(y_test_max, y_pred_test_uni)\n",
    "\n",
    "print(\"R2 score %f\" % r2_uni_test)\n",
    "# Mean Absolute Error\n",
    "print(\"MAE %f\" % mae_uni_test)\n",
    "# Mean Squared Error\n",
    "print(\"MSE %f\" % mse_uni_test)\n",
    "print()\n",
    "\n",
    "\n",
    "# classification report for test set\n",
    "\n",
    "report = classification_report(y_test_max[0], y_pred_test_uni[0], labels=good_idxs[0], zero_division=0)\n",
    "print(report)\n",
    "\n"
   ]
  },
  {
   "cell_type": "markdown",
   "id": "5ab1d15f",
   "metadata": {},
   "source": [
    "THe R2 score, MAE and MSE are worse than majority classifier, probably because the majority class is the 3 in validation and 5 in test, and not an extremes\n",
    "\n",
    "We can see that with a random classifier all the value are pretty bad, a lot of 0 or pretty near both in validation and test set\n",
    "\n"
   ]
  },
  {
   "cell_type": "code",
   "execution_count": 71,
   "id": "1f42c55f",
   "metadata": {},
   "outputs": [
    {
     "data": {
      "text/plain": [
       "<sklearn.metrics._plot.confusion_matrix.ConfusionMatrixDisplay at 0x1ac69f38970>"
      ]
     },
     "execution_count": 71,
     "metadata": {},
     "output_type": "execute_result"
    },
    {
     "data": {
      "image/png": "[encoded data removed]",
      "text/plain": [
       "<Figure size 432x288 with 2 Axes>"
      ]
     },
     "metadata": {
      "needs_background": "light"
     },
     "output_type": "display_data"
    },
    {
     "data": {
      "image/png": "[encoded data removed]",
      "text/plain": [
       "<Figure size 432x288 with 2 Axes>"
      ]
     },
     "metadata": {
      "needs_background": "light"
     },
     "output_type": "display_data"
    }
   ],
   "source": [
    "# confusion matrix for val set changing normalization\n",
    "\n",
    "ConfusionMatrixDisplay.from_predictions(y_val_max[0], y_pred_val_uni[0], normalize='true', cmap=plt.cm.Blues, values_format=\".2f\", labels=good_idxs[0])\n",
    "\n",
    "ConfusionMatrixDisplay.from_predictions(y_val_max[0], y_pred_val_uni[0], normalize='pred', cmap=plt.cm.Blues, values_format=\".2f\", labels=good_idxs[0])\n"
   ]
  },
  {
   "cell_type": "markdown",
   "id": "90ff9a71",
   "metadata": {},
   "source": [
    "The first confusion matrix shows us if we have good recall or not, while the second shows the precision\n",
    "\n",
    "We can see that only for label 3 we have \"good\" value"
   ]
  },
  {
   "cell_type": "code",
   "execution_count": 72,
   "id": "e82f3c6c",
   "metadata": {},
   "outputs": [
    {
     "data": {
      "text/plain": [
       "<sklearn.metrics._plot.confusion_matrix.ConfusionMatrixDisplay at 0x1ac7c3a72e0>"
      ]
     },
     "execution_count": 72,
     "metadata": {},
     "output_type": "execute_result"
    },
    {
     "data": {
      "image/png": "[encoded data removed]",
      "text/plain": [
       "<Figure size 432x288 with 2 Axes>"
      ]
     },
     "metadata": {
      "needs_background": "light"
     },
     "output_type": "display_data"
    },
    {
     "data": {
      "image/png": "[encoded data removed]",
      "text/plain": [
       "<Figure size 432x288 with 2 Axes>"
      ]
     },
     "metadata": {
      "needs_background": "light"
     },
     "output_type": "display_data"
    }
   ],
   "source": [
    "# confusion matrix for test set changing normalization\n",
    "\n",
    "ConfusionMatrixDisplay.from_predictions(y_test_max[0], y_pred_test_uni[0], normalize='true', cmap=plt.cm.Blues, values_format=\".2f\", labels=good_idxs[0])\n",
    "\n",
    "ConfusionMatrixDisplay.from_predictions(y_test_max[0], y_pred_test_uni[0], normalize='pred', cmap=plt.cm.Blues, values_format=\".2f\", labels=good_idxs[0])\n"
   ]
  },
  {
   "cell_type": "markdown",
   "id": "80260a59",
   "metadata": {},
   "source": [
    "In the test set we can see that also the label 5 is not bad, in particular the recall is 0.5"
   ]
  },
  {
   "cell_type": "code",
   "execution_count": 73,
   "id": "3884cb9d",
   "metadata": {
    "scrolled": false
   },
   "outputs": [
    {
     "data": {
      "image/png": "[encoded data removed]",
      "text/plain": [
       "<Figure size 432x432 with 3 Axes>"
      ]
     },
     "metadata": {
      "needs_background": "light"
     },
     "output_type": "display_data"
    },
    {
     "data": {
      "image/png": "[encoded data removed]",
      "text/plain": [
       "<Figure size 864x432 with 3 Axes>"
      ]
     },
     "metadata": {
      "needs_background": "light"
     },
     "output_type": "display_data"
    }
   ],
   "source": [
    "from sklearn.metrics import precision_recall_fscore_support as prfs\n",
    "\n",
    "# plot the value obtained in the classification report for the test set\n",
    "\n",
    "fig, plots = plt.subplots(3, sharex=True, figsize=(6, 6))\n",
    "fig.suptitle('Regression comparison')\n",
    "plots[0].bar([\"maj\",\"uni\"], [r2_maj_test, r2_uni_test])\n",
    "plots[0].set_title(\"R2\")\n",
    "plots[1].bar([\"maj\",\"uni\"], [mae_maj_test, mae_uni_test])\n",
    "plots[1].set_title(\"MAE\")\n",
    "plots[2].bar([\"maj\",\"uni\"], [mse_maj_test, mse_uni_test])\n",
    "plots[2].set_title(\"MSE\")\n",
    "\n",
    "plt.show()\n",
    "\n",
    "prfs_maj = prfs(y_test_max[0], y_pred_test_maj[0], labels=good_idxs[0], average=\"macro\", zero_division=0)\n",
    "prfs_uni = prfs(y_test_max[0], y_pred_test_uni[0], labels=good_idxs[0], average=\"macro\", zero_division=0)\n",
    "\n",
    "fig2, plots = plt.subplots(1,3, sharey=True, figsize=(12, 6))\n",
    "fig2.suptitle('Classification comparison')\n",
    "plots[0].bar([\"maj\",\"uni\"], [prfs_maj[0], prfs_uni[0]])\n",
    "plots[0].set_title(\"prec\")\n",
    "plots[1].bar([\"maj\",\"uni\"], [prfs_maj[1], prfs_uni[1]])\n",
    "plots[1].set_title(\"rec\")\n",
    "plots[2].bar([\"maj\",\"uni\"], [prfs_maj[2], prfs_uni[2]])\n",
    "plots[2].set_title(\"macro f1\")\n",
    "\n",
    "plt.show()"
   ]
  },
  {
   "cell_type": "markdown",
   "id": "49a56d31",
   "metadata": {},
   "source": [
    "Here we compare majority and uniform classifier and we can see that the majority one performs better for everything"
   ]
  },
  {
   "cell_type": "code",
   "execution_count": 74,
   "id": "498b2b71",
   "metadata": {
    "scrolled": false
   },
   "outputs": [
    {
     "data": {
      "image/png": "[encoded data removed]",
      "text/plain": [
       "<Figure size 2160x360 with 6 Axes>"
      ]
     },
     "metadata": {
      "needs_background": "light"
     },
     "output_type": "display_data"
    }
   ],
   "source": [
    "\n",
    "# plot the precision, recall, F1, macro precision, macro recall and macro F1 for every class \n",
    "\n",
    "prfs_maj = prfs(y_test_max[0], y_pred_test_maj[0], labels=good_idxs[0], average=None, zero_division=0)\n",
    "prfs_uni = prfs(y_test_max[0], y_pred_test_uni[0], labels=good_idxs[0], average=None, zero_division=0)\n",
    "\n",
    "prfs_maj_macro = prfs(y_test_max[0], y_pred_test_maj[0], labels=good_idxs[0], average=\"macro\", zero_division=0)\n",
    "prfs_uni_macro = prfs(y_test_max[0], y_pred_test_uni[0], labels=good_idxs[0], average=\"macro\", zero_division=0)\n",
    "\n",
    "plt.show()\n",
    "\n",
    "\n",
    "fig1, plots = plt.subplots(1,6, sharey=True, figsize=(30, 5))\n",
    "fig1.suptitle('Classification comparison')\n",
    "\n",
    "\n",
    "width=0.3\n",
    "\n",
    "plots[0].bar(good_idxs[0]-width, prfs_maj[0], width*2, label=\"majority\", color=\"tab:blue\")\n",
    "plots[0].bar(good_idxs[0]+width, prfs_uni[0], width*2, label=\"uniform\", color=\"tab:orange\")\n",
    "plots[0].set_title(\"precision\")\n",
    "\n",
    "plots[0].set_ylim([0,1])\n",
    "plots[0].set_xlim([0,11])\n",
    "plots[0].set_xlabel(\"class\")\n",
    "plots[0].set_ylabel(\"score\")\n",
    "plots[0].legend(loc='upper center')\n",
    "\n",
    "plots[1].bar([\"maj\",\"uni\"], [prfs_maj_macro[0], prfs_uni_macro[0]], color=[\"tab:blue\", \"tab:orange\"])\n",
    "plots[1].set_title(\"macro prec\")\n",
    "plots[3].bar([\"maj\",\"uni\"], [prfs_maj_macro[1], prfs_uni_macro[1]], color=[\"tab:blue\", \"tab:orange\"])\n",
    "plots[3].set_title(\"macro rec\")\n",
    "plots[5].bar([\"maj\",\"uni\"], [prfs_maj_macro[2], prfs_uni_macro[2]], color=[\"tab:blue\", \"tab:orange\"])\n",
    "plots[5].set_title(\"macro f1\")\n",
    "\n",
    "plots[2].bar(good_idxs[0]-width, prfs_maj[1], width*2, label=\"majority\")\n",
    "plots[2].bar(good_idxs[0]+width, prfs_uni[1], width*2, label=\"uniform\")\n",
    "plots[2].set_title(\"recall\")\n",
    "\n",
    "plots[2].set_ylim([0,1])\n",
    "plots[2].set_xlim([0,11])\n",
    "plots[2].set_xlabel(\"class\")\n",
    "plots[2].set_ylabel(\"score\")\n",
    "plots[2].legend(loc='upper center')\n",
    "\n",
    "\n",
    "plots[4].bar(good_idxs[0]-width, prfs_maj[2], width*2, label=\"majority\")\n",
    "plots[4].bar(good_idxs[0]+width, prfs_uni[2], width*2, label=\"uniform\")\n",
    "plots[4].set_title(\"F1\")\n",
    "\n",
    "plots[4].set_ylim([0,1])\n",
    "plots[4].set_xlim([0,11])\n",
    "plots[4].set_xlabel(\"class\")\n",
    "plots[4].set_ylabel(\"score\")\n",
    "plots[4].legend(loc='upper center')\n",
    "\n",
    "plt.show()\n"
   ]
  },
  {
   "cell_type": "markdown",
   "id": "5dfcee52",
   "metadata": {},
   "source": [
    "Here we can see graphs for the value in the classification report\n",
    "\n",
    "We can notice that majority has better precision than uniform and has value for 3 class instead of 2, in macro prec we can see that the majority is a bigger.\n",
    "\n",
    "The uniform has a class with big recall, while majority has more class with similar value, in fact in macro recall majority and uniform have almost the same value\n",
    "\n",
    "In F1_score, like the precision and recall, we can notice that majority is better or quite similar to the uniform around all class, and that in macro F1 is quite better."
   ]
  },
  {
   "cell_type": "code",
   "execution_count": null,
   "id": "6010334c",
   "metadata": {},
   "outputs": [],
   "source": []
  }
 ],
 "metadata": {
  "kernelspec": {
   "display_name": "Python 3",
   "language": "python",
   "name": "python3"
  },
  "language_info": {
   "codemirror_mode": {
    "name": "ipython",
    "version": 3
   },
   "file_extension": ".py",
   "mimetype": "text/x-python",
   "name": "python",
   "nbconvert_exporter": "python",
   "pygments_lexer": "ipython3",
   "version": "3.8.8"
  }
 },
 "nbformat": 4,
 "nbformat_minor": 5
}
